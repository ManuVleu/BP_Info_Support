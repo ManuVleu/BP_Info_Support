{
 "cells": [
  {
   "attachments": {},
   "cell_type": "markdown",
   "metadata": {},
   "source": [
    "## Requirements\n",
    "```\n",
    "pip install transformers\n",
    "pip install datasets\n",
    "pip install nltk\n",
    "```\n",
    "Installeer [CUDA](https://developer.nvidia.com/cuda-downloads) en [PyTorch](https://pytorch.org/get-started/locally/) als je op GPU wilt trainen anders installeer alleen PyTorch op CPU\n",
    "\n",
    "## Source\n",
    "[source](https://colab.research.google.com/drive/1z-Zl2hftMrFXabYfmz8o9YZpgYx6sGeW?usp=sharing#scrollTo=OG82dfGbK63x)"
   ]
  },
  {
   "attachments": {},
   "cell_type": "markdown",
   "metadata": {},
   "source": [
    "# Load and install"
   ]
  },
  {
   "cell_type": "code",
   "execution_count": 1,
   "metadata": {},
   "outputs": [
    {
     "name": "stderr",
     "output_type": "stream",
     "text": [
      "c:\\Users\\manuv\\miniconda3\\envs\\t5_qg\\Lib\\site-packages\\tqdm\\auto.py:21: TqdmWarning: IProgress not found. Please update jupyter and ipywidgets. See https://ipywidgets.readthedocs.io/en/stable/user_install.html\n",
      "  from .autonotebook import tqdm as notebook_tqdm\n"
     ]
    }
   ],
   "source": [
    "import transformers\n",
    "import datasets\n",
    "import torch\n",
    "import logging"
   ]
  },
  {
   "cell_type": "code",
   "execution_count": 2,
   "metadata": {},
   "outputs": [],
   "source": [
    "# Preprocessing\n",
    "sep_token = '<sep>'\n",
    "dataset_name = \"ms_marco\"# v1.1\n",
    "models_dir = \"../../saved_models/t5_base-msmarco\"\n",
    "checkpoint = 't5-base'\n",
    "max_input_length = 768\n",
    "max_target_length = 128\n",
    "\n",
    "## Training\n",
    "learning_rate = 1e-4\n",
    "num_epochs = 1"
   ]
  },
  {
   "cell_type": "code",
   "execution_count": 3,
   "metadata": {},
   "outputs": [
    {
     "name": "stderr",
     "output_type": "stream",
     "text": [
      "Found cached dataset ms_marco (C:/Users/manuv/.cache/huggingface/datasets/ms_marco/v1.1/1.1.0/b6a62715fa5219aea5275dd3556601004cd63945cb63e36e022f77bb3cbbca84)\n",
      "100%|██████████| 3/3 [00:01<00:00,  2.41it/s]\n"
     ]
    }
   ],
   "source": [
    "dataset = datasets.load_dataset(dataset_name,\"v1.1\")"
   ]
  },
  {
   "cell_type": "code",
   "execution_count": 4,
   "metadata": {},
   "outputs": [
    {
     "data": {
      "text/plain": [
       "{'answers': ['$11 to $22 per square foot'],\n",
       " 'passages': {'is_selected': [0, 0, 0, 0, 0, 0, 0, 0, 1],\n",
       "  'passage_text': ['In regards to tile installation costs, consumers can expect to pay an average of $25 per square foot, depending on the grade of material that is used. For a medium-sized shower, the price can cost about $2,000. Tile installation materials include:',\n",
       "   '1 Polished nickel faucets-Average cost is $400 each plus four hours of installation; 2  Install ceramic tile floor to match shower-Average prices for installation are between $11 to $22 per square foot; 3  A light/fan combination-Averages at $180 and one hour',\n",
       "   'Enhancement and improvement costs. 1  Polished nickel faucets-Average cost is $400 each plus four hours of installation; 2  Install ceramic tile floor to match shower-Average prices for installation are between $11 to $22 per square foot; 3  A light/fan combination-Averages at $180 and one hour of installation; 4  Insulate and re-finish ceilings and 5  ... Painti',\n",
       "   'Granite shower tile is available at an average of $3.49 per square foot to $6.99 per square foot. Polished stone wall tile comes in many choices, including pebble stone that costs about $10 per square foot and $12 per square foot for a smooth surface polished stone tile.',\n",
       "   '1 Higher-end tile such as granite or marble is going to cost more than a standard ceramic tile. 2  On average, plan on spending anywhere from $2,500 to as much as $5,000 or more for a standard 3′ x 5′ shower. 3  Showers can widely vary in size, but most of the time the cost will be within this price range.',\n",
       "   'Our free calculator uses recent, trusted data to estimate costs for your Bathroom Floor Tile Installation project. For a basic 120 square feet project in zip code 47474, the benchmark cost to Install Bathroom Floor Tile ranges between $9.53 - $13.80 per square foot* .',\n",
       "   'The cost for a typical small bathroom remodel will range from about $4,000 to $12,000 with the average cost being about $8,000. Let’s look at how the costs breakout starting with the most basic remodel including a new toilet, shower, vanity & sink and tile.',\n",
       "   'The national average for a new shower installation project, when performed by a capable contractor, is $2,689. At the low-end of the normal cost range, homeowners are paying $1,109, and at the high end of the average range they’re spending $2,459. More luxurious showers can cost in excess of $10,000 to install.',\n",
       "   '1 Install ceramic tile floor to match shower-Average prices for installation are between $11 to $22 per square foot; 2  A light/fan combination-Averages at $180 and one hour of installation; 3  Insulate and re-finish ceilings and walls-Fiberglass wall insulation with R-30 value will cost $2.25 per square foot.'],\n",
       "  'url': ['http://www.improvenet.com/r/costs-and-prices/shower-tiling',\n",
       "   'http://www.fixr.com/costs/install-shower-stall',\n",
       "   'http://www.fixr.com/costs/install-shower-stall',\n",
       "   'http://www.improvenet.com/r/costs-and-prices/shower-tiling',\n",
       "   'http://www.howmuchisit.org/tile-shower-cost/',\n",
       "   'http://www.homewyse.com/services/cost_to_install_bathroom_floor_tile.html',\n",
       "   'http://trianglegranite.com/how-much-does-it-cost-to-remodel-a-bathroom.php',\n",
       "   'http://www.improvenet.com/r/costs-and-prices/shower-installation-cost-estimator',\n",
       "   'http://www.fixr.com/costs/install-shower-stall']},\n",
       " 'query': 'price to install tile in shower',\n",
       " 'query_id': 19702,\n",
       " 'query_type': 'numeric',\n",
       " 'wellFormedAnswers': []}"
      ]
     },
     "execution_count": 4,
     "metadata": {},
     "output_type": "execute_result"
    }
   ],
   "source": [
    "dataset[\"train\"][3]# context = passages.passage_text is list of passages(str) -> take passage where is_selected is 1, question: query, answers: answers = list of string"
   ]
  },
  {
   "cell_type": "code",
   "execution_count": 5,
   "metadata": {},
   "outputs": [
    {
     "data": {
      "text/plain": [
       "{'is_selected': [0, 0, 0, 0, 0, 0, 0, 0, 1],\n",
       " 'passage_text': ['In regards to tile installation costs, consumers can expect to pay an average of $25 per square foot, depending on the grade of material that is used. For a medium-sized shower, the price can cost about $2,000. Tile installation materials include:',\n",
       "  '1 Polished nickel faucets-Average cost is $400 each plus four hours of installation; 2  Install ceramic tile floor to match shower-Average prices for installation are between $11 to $22 per square foot; 3  A light/fan combination-Averages at $180 and one hour',\n",
       "  'Enhancement and improvement costs. 1  Polished nickel faucets-Average cost is $400 each plus four hours of installation; 2  Install ceramic tile floor to match shower-Average prices for installation are between $11 to $22 per square foot; 3  A light/fan combination-Averages at $180 and one hour of installation; 4  Insulate and re-finish ceilings and 5  ... Painti',\n",
       "  'Granite shower tile is available at an average of $3.49 per square foot to $6.99 per square foot. Polished stone wall tile comes in many choices, including pebble stone that costs about $10 per square foot and $12 per square foot for a smooth surface polished stone tile.',\n",
       "  '1 Higher-end tile such as granite or marble is going to cost more than a standard ceramic tile. 2  On average, plan on spending anywhere from $2,500 to as much as $5,000 or more for a standard 3′ x 5′ shower. 3  Showers can widely vary in size, but most of the time the cost will be within this price range.',\n",
       "  'Our free calculator uses recent, trusted data to estimate costs for your Bathroom Floor Tile Installation project. For a basic 120 square feet project in zip code 47474, the benchmark cost to Install Bathroom Floor Tile ranges between $9.53 - $13.80 per square foot* .',\n",
       "  'The cost for a typical small bathroom remodel will range from about $4,000 to $12,000 with the average cost being about $8,000. Let’s look at how the costs breakout starting with the most basic remodel including a new toilet, shower, vanity & sink and tile.',\n",
       "  'The national average for a new shower installation project, when performed by a capable contractor, is $2,689. At the low-end of the normal cost range, homeowners are paying $1,109, and at the high end of the average range they’re spending $2,459. More luxurious showers can cost in excess of $10,000 to install.',\n",
       "  '1 Install ceramic tile floor to match shower-Average prices for installation are between $11 to $22 per square foot; 2  A light/fan combination-Averages at $180 and one hour of installation; 3  Insulate and re-finish ceilings and walls-Fiberglass wall insulation with R-30 value will cost $2.25 per square foot.'],\n",
       " 'url': ['http://www.improvenet.com/r/costs-and-prices/shower-tiling',\n",
       "  'http://www.fixr.com/costs/install-shower-stall',\n",
       "  'http://www.fixr.com/costs/install-shower-stall',\n",
       "  'http://www.improvenet.com/r/costs-and-prices/shower-tiling',\n",
       "  'http://www.howmuchisit.org/tile-shower-cost/',\n",
       "  'http://www.homewyse.com/services/cost_to_install_bathroom_floor_tile.html',\n",
       "  'http://trianglegranite.com/how-much-does-it-cost-to-remodel-a-bathroom.php',\n",
       "  'http://www.improvenet.com/r/costs-and-prices/shower-installation-cost-estimator',\n",
       "  'http://www.fixr.com/costs/install-shower-stall']}"
      ]
     },
     "execution_count": 5,
     "metadata": {},
     "output_type": "execute_result"
    }
   ],
   "source": [
    "dataset[\"train\"][3][\"passages\"]"
   ]
  },
  {
   "cell_type": "code",
   "execution_count": 6,
   "metadata": {},
   "outputs": [
    {
     "name": "stderr",
     "output_type": "stream",
     "text": [
      "c:\\Users\\manuv\\miniconda3\\envs\\t5_qg\\Lib\\site-packages\\transformers\\models\\t5\\tokenization_t5_fast.py:155: FutureWarning: This tokenizer was incorrectly instantiated with a model max length of 512 which will be corrected in Transformers v5.\n",
      "For now, this behavior is kept to avoid breaking backwards compatibility when padding/encoding with `truncation is True`.\n",
      "- Be aware that you SHOULD NOT rely on t5-base automatically truncating your input to 512 when padding/encoding.\n",
      "- If you want to encode/pad to sequences longer than 512 you can either instantiate this tokenizer with `model_max_length` or pass `max_length` when encoding/padding.\n",
      "- To avoid this warning, please instantiate this tokenizer with `model_max_length` set to your preferred value.\n",
      "  warnings.warn(\n"
     ]
    }
   ],
   "source": [
    "model = transformers.T5ForConditionalGeneration.from_pretrained(checkpoint)\n",
    "tokenizer = transformers.T5TokenizerFast.from_pretrained(checkpoint)"
   ]
  },
  {
   "cell_type": "code",
   "execution_count": 7,
   "metadata": {},
   "outputs": [
    {
     "data": {
      "text/plain": [
       "Embedding(32101, 768)"
      ]
     },
     "execution_count": 7,
     "metadata": {},
     "output_type": "execute_result"
    }
   ],
   "source": [
    "tokenizer.sep_token = sep_token\n",
    "tokenizer.add_tokens([sep_token])\n",
    "model.resize_token_embeddings(len(tokenizer))"
   ]
  },
  {
   "cell_type": "code",
   "execution_count": 8,
   "metadata": {},
   "outputs": [],
   "source": [
    "# Tokenize examples\n",
    "def convert_to_features(example_batch):\n",
    "\n",
    "    input_encodings = tokenizer.batch_encode_plus(example_batch['context'], \n",
    "                                                  max_length=max_input_length, \n",
    "                                                  add_special_tokens=True,\n",
    "                                                  truncation=True, \n",
    "                                                  pad_to_max_length=True)\n",
    "    \n",
    "    target_encodings = tokenizer.batch_encode_plus(example_batch['question'], \n",
    "                                                   max_length=max_target_length, \n",
    "                                                   add_special_tokens=True,\n",
    "                                                   truncation=True, pad_to_max_length=True)\n",
    "                                                   \n",
    "    encodings = {\n",
    "        'input_ids': input_encodings['input_ids'], \n",
    "        'attention_mask': input_encodings['attention_mask'],\n",
    "        'decoder_input_ids': target_encodings['input_ids'],\n",
    "        'decoder_attention_mask': target_encodings['attention_mask']\n",
    "    }\n",
    "\n",
    "    return encodings\n",
    "\n",
    "def add_eos_examples(example):\n",
    "    example['context'] = example['context'] + \" \" + sep_token\n",
    "    example['question'] = example['question'] + \" \" + sep_token\n",
    "    return example\n",
    "\n",
    "\n",
    "def add_special_tokens(example):\n",
    "  example['question'] = example['question'].replace(\"{sep_token}\", sep_token)\n",
    "  return example\n",
    "\n",
    "def refactor_columns(example):\n",
    "   is_selected = example[\"passages\"][\"is_selected\"]\n",
    "   passages_text = example[\"passages\"][\"passage_text\"]\n",
    "   indexes_selected = [i for i in range(len(is_selected)) if is_selected[i] == 1]\n",
    "   context = \"\\n\".join([passages_text[i] for i in indexes_selected])\n",
    "   question = example['query']\n",
    "\n",
    "   example[\"context\"] = context\n",
    "   example[\"question\"] = question\n",
    "\n",
    "   return example"
   ]
  },
  {
   "cell_type": "code",
   "execution_count": 9,
   "metadata": {},
   "outputs": [
    {
     "name": "stderr",
     "output_type": "stream",
     "text": [
      "Loading cached processed dataset at C:\\Users\\manuv\\.cache\\huggingface\\datasets\\ms_marco\\v1.1\\1.1.0\\b6a62715fa5219aea5275dd3556601004cd63945cb63e36e022f77bb3cbbca84\\cache-101f4a75820b9f6e.arrow\n",
      "Loading cached processed dataset at C:\\Users\\manuv\\.cache\\huggingface\\datasets\\ms_marco\\v1.1\\1.1.0\\b6a62715fa5219aea5275dd3556601004cd63945cb63e36e022f77bb3cbbca84\\cache-27f2b55914df1d2a.arrow\n",
      "Loading cached processed dataset at C:\\Users\\manuv\\.cache\\huggingface\\datasets\\ms_marco\\v1.1\\1.1.0\\b6a62715fa5219aea5275dd3556601004cd63945cb63e36e022f77bb3cbbca84\\cache-c352caa0f03b2468.arrow\n",
      "Loading cached processed dataset at C:\\Users\\manuv\\.cache\\huggingface\\datasets\\ms_marco\\v1.1\\1.1.0\\b6a62715fa5219aea5275dd3556601004cd63945cb63e36e022f77bb3cbbca84\\cache-dafbe92010328fd7.arrow\n",
      "Loading cached processed dataset at C:\\Users\\manuv\\.cache\\huggingface\\datasets\\ms_marco\\v1.1\\1.1.0\\b6a62715fa5219aea5275dd3556601004cd63945cb63e36e022f77bb3cbbca84\\cache-9804eb8465b152a3.arrow\n",
      "Loading cached processed dataset at C:\\Users\\manuv\\.cache\\huggingface\\datasets\\ms_marco\\v1.1\\1.1.0\\b6a62715fa5219aea5275dd3556601004cd63945cb63e36e022f77bb3cbbca84\\cache-e3443b45a00ba8eb.arrow\n",
      "Loading cached processed dataset at C:\\Users\\manuv\\.cache\\huggingface\\datasets\\ms_marco\\v1.1\\1.1.0\\b6a62715fa5219aea5275dd3556601004cd63945cb63e36e022f77bb3cbbca84\\cache-6e6bab882a3444d0.arrow\n",
      "Loading cached processed dataset at C:\\Users\\manuv\\.cache\\huggingface\\datasets\\ms_marco\\v1.1\\1.1.0\\b6a62715fa5219aea5275dd3556601004cd63945cb63e36e022f77bb3cbbca84\\cache-fe81581f648267f6.arrow\n",
      "Loading cached processed dataset at C:\\Users\\manuv\\.cache\\huggingface\\datasets\\ms_marco\\v1.1\\1.1.0\\b6a62715fa5219aea5275dd3556601004cd63945cb63e36e022f77bb3cbbca84\\cache-18ca08a7b700d5c1.arrow\n",
      "Loading cached processed dataset at C:\\Users\\manuv\\.cache\\huggingface\\datasets\\ms_marco\\v1.1\\1.1.0\\b6a62715fa5219aea5275dd3556601004cd63945cb63e36e022f77bb3cbbca84\\cache-7e980d39b9364914.arrow\n",
      "Map:   0%|          | 0/82326 [00:00<?, ? examples/s]c:\\Users\\manuv\\miniconda3\\envs\\t5_qg\\Lib\\site-packages\\transformers\\tokenization_utils_base.py:2346: FutureWarning: The `pad_to_max_length` argument is deprecated and will be removed in a future version, use `padding=True` or `padding='longest'` to pad to the longest sequence in the batch, or use `padding='max_length'` to pad to a max length. In this case, you can give a specific length with `max_length` (e.g. `max_length=45`) or leave max_length to None to pad to the maximal input size of the model (e.g. 512 for Bert).\n",
      "  warnings.warn(\n",
      "Loading cached processed dataset at C:\\Users\\manuv\\.cache\\huggingface\\datasets\\ms_marco\\v1.1\\1.1.0\\b6a62715fa5219aea5275dd3556601004cd63945cb63e36e022f77bb3cbbca84\\cache-dfee2f4286717cb2.arrow\n"
     ]
    }
   ],
   "source": [
    "tokenized_dataset = dataset.map(refactor_columns)\n",
    "tokenized_dataset  = tokenized_dataset.map(add_eos_examples)\n",
    "tokenized_dataset = tokenized_dataset.map(add_special_tokens)\n",
    "tokenized_dataset  = tokenized_dataset.map(convert_to_features,  batched=True)"
   ]
  },
  {
   "cell_type": "code",
   "execution_count": 10,
   "metadata": {},
   "outputs": [
    {
     "data": {
      "text/plain": [
       "'what is rba <sep>'"
      ]
     },
     "execution_count": 10,
     "metadata": {},
     "output_type": "execute_result"
    }
   ],
   "source": [
    "tokenized_dataset[\"train\"][0][\"question\"]"
   ]
  },
  {
   "cell_type": "code",
   "execution_count": 11,
   "metadata": {},
   "outputs": [
    {
     "data": {
      "text/plain": [
       "dict_keys(['answers', 'passages', 'query', 'query_id', 'query_type', 'wellFormedAnswers', 'context', 'question', 'input_ids', 'attention_mask', 'decoder_input_ids', 'decoder_attention_mask'])"
      ]
     },
     "execution_count": 11,
     "metadata": {},
     "output_type": "execute_result"
    }
   ],
   "source": [
    "tokenized_dataset[\"train\"][0].keys()"
   ]
  },
  {
   "cell_type": "code",
   "execution_count": null,
   "metadata": {},
   "outputs": [],
   "source": []
  },
  {
   "cell_type": "code",
   "execution_count": 12,
   "metadata": {},
   "outputs": [],
   "source": [
    "tokenized_dataset = tokenized_dataset.remove_columns(\n",
    "    [\"answers\", \"passages\",\"query\",\"query_id\",\"query_type\",\"wellFormedAnswers\",\"context\",\"question\"]\n",
    ")\n",
    "\n",
    "train_dataset = tokenized_dataset[\"train\"]\n",
    "valid_dataset = tokenized_dataset[\"validation\"]\n",
    "\n",
    "columns = ['input_ids', 'decoder_input_ids', 'attention_mask', 'decoder_attention_mask']\n",
    "train_dataset.set_format(type='torch', columns=columns)\n",
    "valid_dataset.set_format(type='torch', columns=columns)"
   ]
  },
  {
   "cell_type": "code",
   "execution_count": 13,
   "metadata": {},
   "outputs": [],
   "source": [
    "torch.save(train_dataset, 'train_data.pt')\n",
    "torch.save(valid_dataset, 'valid_data.pt')"
   ]
  },
  {
   "cell_type": "code",
   "execution_count": 14,
   "metadata": {},
   "outputs": [],
   "source": [
    "from typing import Dict, List\n",
    "\n",
    "class T2TDataCollator():\n",
    "    def __call__(self, batch: List) -> Dict[str, torch.Tensor]:\n",
    "        \"\"\"\n",
    "        Take a list of samples from a Dataset and collate them into a batch.\n",
    "        Returns:\n",
    "        A dictionary of tensors\n",
    "        \"\"\"\n",
    "\n",
    "        input_ids = torch.stack([example['input_ids'] for example in batch])\n",
    "        lm_labels = torch.stack([example['decoder_input_ids'] for example in batch])\n",
    "        lm_labels[lm_labels[:, :] == 0] = -100 \n",
    "        attention_mask = torch.stack([example['attention_mask'] for example in batch])\n",
    "        decoder_attention_mask = torch.stack([example['decoder_attention_mask'] for example in batch])\n",
    "\n",
    "        return {\n",
    "            'input_ids': input_ids, \n",
    "            'attention_mask': attention_mask,\n",
    "            'labels': lm_labels, \n",
    "            'decoder_attention_mask': decoder_attention_mask\n",
    "        }"
   ]
  },
  {
   "cell_type": "code",
   "execution_count": 15,
   "metadata": {},
   "outputs": [],
   "source": [
    "training_args = transformers.TrainingArguments(output_dir=models_dir, \n",
    "                                  per_device_train_batch_size=4, \n",
    "                                  per_device_eval_batch_size=4,\n",
    "                                  gradient_accumulation_steps=16,\n",
    "                                  learning_rate=learning_rate, \n",
    "                                  num_train_epochs=num_epochs,\n",
    "                                  logging_steps=100,\n",
    "                                  run_name=\"t5_answer-agnostic_msmarco\",\n",
    "                                  evaluation_strategy=\"steps\",\n",
    "                                  save_steps=500)"
   ]
  },
  {
   "cell_type": "code",
   "execution_count": 16,
   "metadata": {},
   "outputs": [],
   "source": [
    "logger = logging.getLogger(__name__)\n",
    "\n",
    "# Initialize our Trainer\n",
    "trainer = transformers.Trainer(\n",
    "    model=model,\n",
    "    args=training_args,\n",
    "    train_dataset=train_dataset,\n",
    "    eval_dataset=valid_dataset,\n",
    "    data_collator=T2TDataCollator()\n",
    ")\n"
   ]
  },
  {
   "cell_type": "code",
   "execution_count": 17,
   "metadata": {},
   "outputs": [
    {
     "name": "stdout",
     "output_type": "stream",
     "text": [
      "Model is on GPU\n"
     ]
    }
   ],
   "source": [
    "if model.device.type == 'cuda':\n",
    "    print('Model is on GPU')\n",
    "else:\n",
    "    print('Model is on CPU')"
   ]
  },
  {
   "cell_type": "code",
   "execution_count": 18,
   "metadata": {},
   "outputs": [
    {
     "name": "stderr",
     "output_type": "stream",
     "text": [
      "c:\\Users\\manuv\\miniconda3\\envs\\t5_qg\\Lib\\site-packages\\transformers\\optimization.py:391: FutureWarning: This implementation of AdamW is deprecated and will be removed in a future version. Use the PyTorch implementation torch.optim.AdamW instead, or set `no_deprecation_warning=True` to disable this warning\n",
      "  warnings.warn(\n",
      "Failed to detect the name of this notebook, you can set it manually with the WANDB_NOTEBOOK_NAME environment variable to enable code saving.\n",
      "\u001b[34m\u001b[1mwandb\u001b[0m: Currently logged in as: \u001b[33mmanu-vleurick\u001b[0m (\u001b[33mhogent-team\u001b[0m). Use \u001b[1m`wandb login --relogin`\u001b[0m to force relogin\n"
     ]
    },
    {
     "data": {
      "text/html": [
       "wandb version 0.15.2 is available!  To upgrade, please run:\n",
       " $ pip install wandb --upgrade"
      ],
      "text/plain": [
       "<IPython.core.display.HTML object>"
      ]
     },
     "metadata": {},
     "output_type": "display_data"
    },
    {
     "data": {
      "text/html": [
       "Tracking run with wandb version 0.14.2"
      ],
      "text/plain": [
       "<IPython.core.display.HTML object>"
      ]
     },
     "metadata": {},
     "output_type": "display_data"
    },
    {
     "data": {
      "text/html": [
       "Run data is saved locally in <code>c:\\Users\\manuv\\OneDrive\\Documenten\\Code\\BAP\\BP_gitrepo\\BP_Info_Support\\T5\\wandb\\run-20230506_234254-4pno0j4w</code>"
      ],
      "text/plain": [
       "<IPython.core.display.HTML object>"
      ]
     },
     "metadata": {},
     "output_type": "display_data"
    },
    {
     "data": {
      "text/html": [
       "Syncing run <strong><a href='https://wandb.ai/hogent-team/huggingface/runs/4pno0j4w' target=\"_blank\">t5_answer-agnostic_msmarco</a></strong> to <a href='https://wandb.ai/hogent-team/huggingface' target=\"_blank\">Weights & Biases</a> (<a href='https://wandb.me/run' target=\"_blank\">docs</a>)<br/>"
      ],
      "text/plain": [
       "<IPython.core.display.HTML object>"
      ]
     },
     "metadata": {},
     "output_type": "display_data"
    },
    {
     "data": {
      "text/html": [
       " View project at <a href='https://wandb.ai/hogent-team/huggingface' target=\"_blank\">https://wandb.ai/hogent-team/huggingface</a>"
      ],
      "text/plain": [
       "<IPython.core.display.HTML object>"
      ]
     },
     "metadata": {},
     "output_type": "display_data"
    },
    {
     "data": {
      "text/html": [
       " View run at <a href='https://wandb.ai/hogent-team/huggingface/runs/4pno0j4w' target=\"_blank\">https://wandb.ai/hogent-team/huggingface/runs/4pno0j4w</a>"
      ],
      "text/plain": [
       "<IPython.core.display.HTML object>"
      ]
     },
     "metadata": {},
     "output_type": "display_data"
    },
    {
     "name": "stderr",
     "output_type": "stream",
     "text": [
      "  8%|▊         | 100/1286 [16:13<3:14:50,  9.86s/it]"
     ]
    },
    {
     "name": "stdout",
     "output_type": "stream",
     "text": [
      "{'loss': 3.5303, 'learning_rate': 9.222395023328149e-05, 'epoch': 0.08}\n"
     ]
    },
    {
     "name": "stderr",
     "output_type": "stream",
     "text": [
      "                                                    \n",
      "  8%|▊         | 100/1286 [25:02<3:14:50,  9.86s/it]"
     ]
    },
    {
     "name": "stdout",
     "output_type": "stream",
     "text": [
      "{'eval_loss': 2.2867953777313232, 'eval_runtime': 528.8825, 'eval_samples_per_second': 18.997, 'eval_steps_per_second': 4.75, 'epoch': 0.08}\n"
     ]
    },
    {
     "name": "stderr",
     "output_type": "stream",
     "text": [
      " 16%|█▌        | 200/1286 [41:31<2:58:51,  9.88s/it]  "
     ]
    },
    {
     "name": "stdout",
     "output_type": "stream",
     "text": [
      "{'loss': 2.3438, 'learning_rate': 8.4447900466563e-05, 'epoch': 0.16}\n"
     ]
    },
    {
     "name": "stderr",
     "output_type": "stream",
     "text": [
      "                                                    \n",
      " 16%|█▌        | 200/1286 [50:20<2:58:51,  9.88s/it]"
     ]
    },
    {
     "name": "stdout",
     "output_type": "stream",
     "text": [
      "{'eval_loss': 2.128758430480957, 'eval_runtime': 529.3197, 'eval_samples_per_second': 18.981, 'eval_steps_per_second': 4.746, 'epoch': 0.16}\n"
     ]
    },
    {
     "name": "stderr",
     "output_type": "stream",
     "text": [
      " 23%|██▎       | 300/1286 [1:06:49<2:42:30,  9.89s/it]"
     ]
    },
    {
     "name": "stdout",
     "output_type": "stream",
     "text": [
      "{'loss': 2.1638, 'learning_rate': 7.667185069984448e-05, 'epoch': 0.23}\n"
     ]
    },
    {
     "name": "stderr",
     "output_type": "stream",
     "text": [
      "                                                      \n",
      " 23%|██▎       | 300/1286 [1:15:38<2:42:30,  9.89s/it]"
     ]
    },
    {
     "name": "stdout",
     "output_type": "stream",
     "text": [
      "{'eval_loss': 1.9595227241516113, 'eval_runtime': 529.4459, 'eval_samples_per_second': 18.976, 'eval_steps_per_second': 4.745, 'epoch': 0.23}\n"
     ]
    },
    {
     "name": "stderr",
     "output_type": "stream",
     "text": [
      " 31%|███       | 400/1286 [1:32:07<2:25:58,  9.89s/it]  "
     ]
    },
    {
     "name": "stdout",
     "output_type": "stream",
     "text": [
      "{'loss': 2.0536, 'learning_rate': 6.889580093312597e-05, 'epoch': 0.31}\n"
     ]
    },
    {
     "name": "stderr",
     "output_type": "stream",
     "text": [
      "                                                      \n",
      " 31%|███       | 400/1286 [1:40:56<2:25:58,  9.89s/it]"
     ]
    },
    {
     "name": "stdout",
     "output_type": "stream",
     "text": [
      "{'eval_loss': 1.8713061809539795, 'eval_runtime': 529.4509, 'eval_samples_per_second': 18.976, 'eval_steps_per_second': 4.745, 'epoch': 0.31}\n"
     ]
    },
    {
     "name": "stderr",
     "output_type": "stream",
     "text": [
      " 39%|███▉      | 500/1286 [1:57:25<2:09:29,  9.89s/it]  "
     ]
    },
    {
     "name": "stdout",
     "output_type": "stream",
     "text": [
      "{'loss': 1.9984, 'learning_rate': 6.111975116640747e-05, 'epoch': 0.39}\n"
     ]
    },
    {
     "name": "stderr",
     "output_type": "stream",
     "text": [
      "                                                      \n",
      " 39%|███▉      | 500/1286 [2:06:07<2:09:29,  9.89s/it]"
     ]
    },
    {
     "name": "stdout",
     "output_type": "stream",
     "text": [
      "{'eval_loss': 1.840945839881897, 'eval_runtime': 522.8269, 'eval_samples_per_second': 19.217, 'eval_steps_per_second': 4.805, 'epoch': 0.39}\n"
     ]
    },
    {
     "name": "stderr",
     "output_type": "stream",
     "text": [
      " 47%|████▋     | 600/1286 [2:22:24<1:50:58,  9.71s/it]  "
     ]
    },
    {
     "name": "stdout",
     "output_type": "stream",
     "text": [
      "{'loss': 1.9409, 'learning_rate': 5.334370139968896e-05, 'epoch': 0.47}\n"
     ]
    },
    {
     "name": "stderr",
     "output_type": "stream",
     "text": [
      "                                                      \n",
      " 47%|████▋     | 600/1286 [2:31:04<1:50:58,  9.71s/it]"
     ]
    },
    {
     "name": "stdout",
     "output_type": "stream",
     "text": [
      "{'eval_loss': 1.7618476152420044, 'eval_runtime': 519.9562, 'eval_samples_per_second': 19.323, 'eval_steps_per_second': 4.831, 'epoch': 0.47}\n"
     ]
    },
    {
     "name": "stderr",
     "output_type": "stream",
     "text": [
      " 54%|█████▍    | 700/1286 [2:47:35<1:36:41,  9.90s/it]  "
     ]
    },
    {
     "name": "stdout",
     "output_type": "stream",
     "text": [
      "{'loss': 1.9077, 'learning_rate': 4.5567651632970456e-05, 'epoch': 0.54}\n"
     ]
    },
    {
     "name": "stderr",
     "output_type": "stream",
     "text": [
      "                                                      \n",
      " 54%|█████▍    | 700/1286 [2:56:25<1:36:41,  9.90s/it]"
     ]
    },
    {
     "name": "stdout",
     "output_type": "stream",
     "text": [
      "{'eval_loss': 1.736270546913147, 'eval_runtime': 529.5919, 'eval_samples_per_second': 18.971, 'eval_steps_per_second': 4.743, 'epoch': 0.54}\n"
     ]
    },
    {
     "name": "stderr",
     "output_type": "stream",
     "text": [
      " 62%|██████▏   | 800/1286 [3:12:56<1:20:34,  9.95s/it]  "
     ]
    },
    {
     "name": "stdout",
     "output_type": "stream",
     "text": [
      "{'loss': 1.8875, 'learning_rate': 3.7791601866251944e-05, 'epoch': 0.62}\n"
     ]
    },
    {
     "name": "stderr",
     "output_type": "stream",
     "text": [
      "                                                      \n",
      " 62%|██████▏   | 800/1286 [3:21:46<1:20:34,  9.95s/it]"
     ]
    },
    {
     "name": "stdout",
     "output_type": "stream",
     "text": [
      "{'eval_loss': 1.6955516338348389, 'eval_runtime': 529.786, 'eval_samples_per_second': 18.964, 'eval_steps_per_second': 4.742, 'epoch': 0.62}\n"
     ]
    },
    {
     "name": "stderr",
     "output_type": "stream",
     "text": [
      " 70%|██████▉   | 900/1286 [3:38:16<1:03:40,  9.90s/it]  "
     ]
    },
    {
     "name": "stdout",
     "output_type": "stream",
     "text": [
      "{'loss': 1.8809, 'learning_rate': 3.001555209953344e-05, 'epoch': 0.7}\n"
     ]
    },
    {
     "name": "stderr",
     "output_type": "stream",
     "text": [
      "                                                      \n",
      " 70%|██████▉   | 900/1286 [3:46:57<1:03:40,  9.90s/it]"
     ]
    },
    {
     "name": "stdout",
     "output_type": "stream",
     "text": [
      "{'eval_loss': 1.6788443326950073, 'eval_runtime': 521.1493, 'eval_samples_per_second': 19.279, 'eval_steps_per_second': 4.82, 'epoch': 0.7}\n"
     ]
    },
    {
     "name": "stderr",
     "output_type": "stream",
     "text": [
      " 78%|███████▊  | 1000/1286 [4:03:07<46:11,  9.69s/it]   "
     ]
    },
    {
     "name": "stdout",
     "output_type": "stream",
     "text": [
      "{'loss': 1.8294, 'learning_rate': 2.2239502332814934e-05, 'epoch': 0.78}\n"
     ]
    },
    {
     "name": "stderr",
     "output_type": "stream",
     "text": [
      "                                                     \n",
      " 78%|███████▊  | 1000/1286 [4:11:46<46:11,  9.69s/it]"
     ]
    },
    {
     "name": "stdout",
     "output_type": "stream",
     "text": [
      "{'eval_loss': 1.6688786745071411, 'eval_runtime': 518.7788, 'eval_samples_per_second': 19.367, 'eval_steps_per_second': 4.842, 'epoch': 0.78}\n"
     ]
    },
    {
     "name": "stderr",
     "output_type": "stream",
     "text": [
      " 86%|████████▌ | 1100/1286 [4:28:02<30:01,  9.69s/it]    "
     ]
    },
    {
     "name": "stdout",
     "output_type": "stream",
     "text": [
      "{'loss': 1.8417, 'learning_rate': 1.4463452566096425e-05, 'epoch': 0.86}\n"
     ]
    },
    {
     "name": "stderr",
     "output_type": "stream",
     "text": [
      "                                                     \n",
      " 86%|████████▌ | 1100/1286 [4:36:41<30:01,  9.69s/it]"
     ]
    },
    {
     "name": "stdout",
     "output_type": "stream",
     "text": [
      "{'eval_loss': 1.648364782333374, 'eval_runtime': 518.536, 'eval_samples_per_second': 19.376, 'eval_steps_per_second': 4.844, 'epoch': 0.86}\n"
     ]
    },
    {
     "name": "stderr",
     "output_type": "stream",
     "text": [
      " 93%|█████████▎| 1200/1286 [4:52:55<14:05,  9.83s/it]   "
     ]
    },
    {
     "name": "stdout",
     "output_type": "stream",
     "text": [
      "{'loss': 1.814, 'learning_rate': 6.687402799377916e-06, 'epoch': 0.93}\n"
     ]
    },
    {
     "name": "stderr",
     "output_type": "stream",
     "text": [
      "                                                     \n",
      " 93%|█████████▎| 1200/1286 [5:01:33<14:05,  9.83s/it]"
     ]
    },
    {
     "name": "stdout",
     "output_type": "stream",
     "text": [
      "{'eval_loss': 1.6555589437484741, 'eval_runtime': 518.3939, 'eval_samples_per_second': 19.381, 'eval_steps_per_second': 4.846, 'epoch': 0.93}\n"
     ]
    },
    {
     "name": "stderr",
     "output_type": "stream",
     "text": [
      "100%|██████████| 1286/1286 [5:15:26<00:00, 14.72s/it]   "
     ]
    },
    {
     "name": "stdout",
     "output_type": "stream",
     "text": [
      "{'train_runtime': 18930.149, 'train_samples_per_second': 4.349, 'train_steps_per_second': 0.068, 'train_loss': 2.0809333528367393, 'epoch': 1.0}\n"
     ]
    },
    {
     "name": "stderr",
     "output_type": "stream",
     "text": [
      "\n"
     ]
    },
    {
     "data": {
      "text/plain": [
       "TrainOutput(global_step=1286, training_loss=2.0809333528367393, metrics={'train_runtime': 18930.149, 'train_samples_per_second': 4.349, 'train_steps_per_second': 0.068, 'train_loss': 2.0809333528367393, 'epoch': 1.0})"
      ]
     },
     "execution_count": 18,
     "metadata": {},
     "output_type": "execute_result"
    }
   ],
   "source": [
    "trainer.train()"
   ]
  },
  {
   "cell_type": "code",
   "execution_count": 19,
   "metadata": {},
   "outputs": [],
   "source": [
    "# save the model\n",
    "trainer.save_model(models_dir)"
   ]
  },
  {
   "cell_type": "code",
   "execution_count": 20,
   "metadata": {},
   "outputs": [],
   "source": [
    "sep_token = '<sep>'\n",
    "dataset_name = \"ms_marco\"# v1.1\n",
    "models_dir = \"../../saved_models/t5_base-msmarco\"\n",
    "checkpoint = 't5-base'"
   ]
  },
  {
   "cell_type": "code",
   "execution_count": 21,
   "metadata": {},
   "outputs": [
    {
     "name": "stderr",
     "output_type": "stream",
     "text": [
      "c:\\Users\\manuv\\miniconda3\\envs\\t5_qg\\Lib\\site-packages\\transformers\\models\\t5\\tokenization_t5_fast.py:155: FutureWarning: This tokenizer was incorrectly instantiated with a model max length of 512 which will be corrected in Transformers v5.\n",
      "For now, this behavior is kept to avoid breaking backwards compatibility when padding/encoding with `truncation is True`.\n",
      "- Be aware that you SHOULD NOT rely on t5-base automatically truncating your input to 512 when padding/encoding.\n",
      "- If you want to encode/pad to sequences longer than 512 you can either instantiate this tokenizer with `model_max_length` or pass `max_length` when encoding/padding.\n",
      "- To avoid this warning, please instantiate this tokenizer with `model_max_length` set to your preferred value.\n",
      "  warnings.warn(\n"
     ]
    }
   ],
   "source": [
    "from transformers import T5ForConditionalGeneration, T5TokenizerFast\n",
    "# load the saved model\n",
    "loaded_model = T5ForConditionalGeneration.from_pretrained(models_dir)\n",
    "tokenizer = T5TokenizerFast.from_pretrained(checkpoint)"
   ]
  },
  {
   "cell_type": "code",
   "execution_count": 22,
   "metadata": {},
   "outputs": [],
   "source": [
    "def run_model(input_string, **generator_args):\n",
    "    generator_args = {\n",
    "    \"max_length\": 768,\n",
    "    \"num_beams\": 4,# bij grotere num_beams is trager maar complexere vragen(niet per se betere vragen)\n",
    "    \"length_penalty\": 1.5,\n",
    "    \"no_repeat_ngram_size\": 3,\n",
    "    \"early_stopping\": True,\n",
    "    }\n",
    "    input_string = input_string + \" <sep>\"\n",
    "    input_ids = tokenizer.encode(input_string, return_tensors=\"pt\")\n",
    "    res = loaded_model.generate(input_ids, **generator_args)\n",
    "    output = tokenizer.batch_decode(res, skip_special_tokens=True)\n",
    "    output = [item.split(\"<sep>\") for item in output]\n",
    "    return output"
   ]
  },
  {
   "cell_type": "code",
   "execution_count": 23,
   "metadata": {},
   "outputs": [
    {
     "data": {
      "text/plain": [
       "[['where did cheese originate from in egypt? exactly where did it come from? hi, where is cheese found in europe? where is it found in the middle east? where was it found? where did the cheese originate? where does it originate from? what is the earliest evidence of cheesemaking in the uk? what are the origins of cheese making in asia? where are the cheeses found in china?']]"
      ]
     },
     "execution_count": 23,
     "metadata": {},
     "output_type": "execute_result"
    }
   ],
   "source": [
    "context = \"\"\"\n",
    "Cheese is an ancient food whose origins predate recorded history. There is no conclusive evidence indicating where cheesemaking originated, whether in Europe, Central Asia or the Middle East. Earliest proposed dates for the origin of cheesemaking range from around 8000 BCE, when sheep were first domesticated. Since animal skins and inflated internal organs have, since ancient times, provided storage vessels for a range of foodstuffs, it is probable that the process of cheese making was discovered accidentally by storing milk in a container made from the stomach of an animal, resulting in the milk being turned to curd and whey by the rennet from the stomach.[7] There is a legend—with variations—about the discovery of cheese by an Arab trader who used this method of storing milk.[8]\n",
    "\n",
    "The earliest evidence of cheesemaking in the archaeological record dates back to 5500 BCE and is found in what is now Kuyavia, Poland, where strainers coated with milk-fat molecules have been found.[9]\n",
    "\n",
    "Cheesemaking may have begun independently of this by the pressing and salting of curdled milk to preserve it. Observation that the effect of making cheese in an animal stomach gave more solid and better-textured curds may have led to the deliberate addition of rennet. Early archeological evidence of Egyptian cheese has been found in Egyptian tomb murals, dating to about 2000 BCE.[10] A 2018 scientific paper stated that the world's oldest cheese, dating to approximately 1200 BCE (3200 years before present), was found in ancient Egyptian tombs.[11][12]\n",
    "\n",
    "The earliest cheeses were likely quite sour and salty, similar in texture to rustic cottage cheese or feta, a crumbly, flavorful Greek cheese. Cheese produced in Europe, where climates are cooler than the Middle East, required less salt for preservation. With less salt and acidity, the cheese became a suitable environment for useful microbes and molds, giving aged cheeses their respective flavors. The earliest ever discovered preserved cheese was found in the Taklamakan Desert in Xinjiang, China, dating back as early as 1615 BCE (3600 years before present).\n",
    "\"\"\"\n",
    "\n",
    "run_model(context)"
   ]
  },
  {
   "attachments": {},
   "cell_type": "markdown",
   "metadata": {},
   "source": [
    "## Evaluation"
   ]
  },
  {
   "cell_type": "code",
   "execution_count": 24,
   "metadata": {},
   "outputs": [
    {
     "data": {
      "text/plain": [
       "{'answers': ['Approximately $15,000 per year.'],\n",
       " 'passages': {'is_selected': [1, 0, 0, 0, 0, 0],\n",
       "  'passage_text': ['The average Walgreens salary ranges from approximately $15,000 per year for Customer Service Associate / Cashier to $179,900 per year for District Manager. Average Walgreens hourly pay ranges from approximately $7.35 per hour for Laboratory Technician to $68.90 per hour for Pharmacy Manager. Salary information comes from 7,810 data points collected directly from employees, users, and jobs on Indeed.',\n",
       "   'The average revenue in 2011 of a Starbuck Store was $1,078,000, up  from $1,011,000 in 2010.    The average ticket (total purchase) at domestic Starbuck stores in  No … vember 2007 was reported at $6.36.    In 2008, the average ticket was flat (0.0% change).',\n",
       "   'In fiscal 2014, Walgreens opened a total of 184 new locations and acquired 84 locations, for a net decrease of 273 after relocations and closings. How big are your stores? The average size for a typical Walgreens is about 14,500 square feet and the sales floor averages about 11,000 square feet. How do we select locations for new stores? There are several factors that Walgreens takes into account, such as major intersections, traffic patterns, demographics and locations near hospitals.',\n",
       "   'th store in 1984, reaching $4 billion in sales in 1987, and $5 billion two years later. Walgreens ended the 1980s with 1,484 stores, $5.3 billion in revenues and $154 million in profits. However, profit margins remained just below 3 percent of sales, and returns on assets of less than 10 percent.',\n",
       "   'The number of Walgreen stores has risen from 5,000 in 2005 to more than 8,000 at present. The average square footage per store stood at approximately 10,200 and we forecast the figure to remain constant over our review period. Walgreen earned $303 as average front-end revenue per store square foot in 2012.',\n",
       "   'Your Walgreens Store. Select a store from the search results to make it Your Walgreens Store and save time getting what you need. Your Walgreens Store will be the default location for picking up prescriptions, photos, in store orders and finding deals in the Weekly Ad.'],\n",
       "  'url': ['http://www.indeed.com/cmp/Walgreens/salaries',\n",
       "   \"http://www.answers.com/Q/What_is_the_average_gross_sales_volume_of_a_single_Walgreen's_Store\",\n",
       "   'http://news.walgreens.com/fact-sheets/frequently-asked-questions.htm',\n",
       "   'http://www.babson.edu/executive-education/thought-leadership/retailing/Documents/walgreens-strategic-evolution.pdf',\n",
       "   'http://www.trefis.com/stock/wag/articles/199532/key-trends-driving-walgreens-business/2013-08-07',\n",
       "   'http://www.walgreens.com/storelocator/find.jsp?requestType=locator']},\n",
       " 'query': 'walgreens store sales average',\n",
       " 'query_id': 9652,\n",
       " 'query_type': 'numeric',\n",
       " 'wellFormedAnswers': []}"
      ]
     },
     "execution_count": 24,
     "metadata": {},
     "output_type": "execute_result"
    }
   ],
   "source": [
    "dataset[\"validation\"][0]"
   ]
  },
  {
   "cell_type": "code",
   "execution_count": 40,
   "metadata": {},
   "outputs": [
    {
     "name": "stderr",
     "output_type": "stream",
     "text": [
      "WARNING:datasets.builder:Found cached dataset ms_marco (C:/Users/manuv/.cache/huggingface/datasets/ms_marco/v1.1/1.1.0/b6a62715fa5219aea5275dd3556601004cd63945cb63e36e022f77bb3cbbca84)\n",
      "100%|██████████| 3/3 [00:02<00:00,  1.16it/s]\n",
      "c:\\Users\\manuv\\miniconda3\\envs\\t5_qg\\Lib\\site-packages\\transformers\\models\\t5\\tokenization_t5_fast.py:155: FutureWarning: This tokenizer was incorrectly instantiated with a model max length of 512 which will be corrected in Transformers v5.\n",
      "For now, this behavior is kept to avoid breaking backwards compatibility when padding/encoding with `truncation is True`.\n",
      "- Be aware that you SHOULD NOT rely on t5-base automatically truncating your input to 512 when padding/encoding.\n",
      "- If you want to encode/pad to sequences longer than 512 you can either instantiate this tokenizer with `model_max_length` or pass `max_length` when encoding/padding.\n",
      "- To avoid this warning, please instantiate this tokenizer with `model_max_length` set to your preferred value.\n",
      "  warnings.warn(\n"
     ]
    }
   ],
   "source": [
    "import numpy as np\n",
    "import nltk\n",
    "from rouge_score import rouge_scorer\n",
    "from nltk.translate.meteor_score import meteor_score as calculate_meteor\n",
    "from nltk.translate.bleu_score import SmoothingFunction\n",
    "import datasets\n",
    "from transformers import T5ForConditionalGeneration, T5TokenizerFast\n",
    "dataset_name = \"ms_marco\"# v1.1\n",
    "models_dir = \"../../saved_models/t5_base-msmarco\"\n",
    "checkpoint = 't5-base'\n",
    "dataset = datasets.load_dataset(dataset_name,\"v1.1\")\n",
    "val_dataset = dataset[\"validation\"]\n",
    "test_dataset = dataset[\"test\"]\n",
    "\n",
    "loaded_model = T5ForConditionalGeneration.from_pretrained(models_dir)\n",
    "tokenizer = T5TokenizerFast.from_pretrained(checkpoint)"
   ]
  },
  {
   "cell_type": "code",
   "execution_count": 41,
   "metadata": {},
   "outputs": [
    {
     "data": {
      "text/plain": [
       "Dataset({\n",
       "    features: ['answers', 'passages', 'query', 'query_id', 'query_type', 'wellFormedAnswers'],\n",
       "    num_rows: 9650\n",
       "})"
      ]
     },
     "execution_count": 41,
     "metadata": {},
     "output_type": "execute_result"
    }
   ],
   "source": [
    "test_dataset"
   ]
  },
  {
   "cell_type": "code",
   "execution_count": 42,
   "metadata": {},
   "outputs": [
    {
     "data": {
      "text/plain": [
       "Dataset({\n",
       "    features: ['answers', 'passages', 'query', 'query_id', 'query_type', 'wellFormedAnswers'],\n",
       "    num_rows: 10047\n",
       "})"
      ]
     },
     "execution_count": 42,
     "metadata": {},
     "output_type": "execute_result"
    }
   ],
   "source": [
    "val_dataset"
   ]
  },
  {
   "cell_type": "code",
   "execution_count": 43,
   "metadata": {},
   "outputs": [],
   "source": [
    "def run_model(input_string, **generator_args):\n",
    "    generator_args = {\n",
    "    \"max_length\": 768,\n",
    "    \"num_beams\": 4,# bij grotere num_beams is trager maar complexere vragen(niet per se betere vragen)\n",
    "    \"length_penalty\": 1.5,\n",
    "    \"no_repeat_ngram_size\": 3,\n",
    "    \"early_stopping\": True,\n",
    "    }\n",
    "    input_string = input_string + \" <sep>\"\n",
    "    input_ids = tokenizer.encode(input_string, return_tensors=\"pt\")\n",
    "    res = loaded_model.generate(input_ids, **generator_args)\n",
    "    output = tokenizer.batch_decode(res, skip_special_tokens=True)\n",
    "    output = [item.split(\"<sep>\") for item in output]\n",
    "    return output"
   ]
  },
  {
   "cell_type": "code",
   "execution_count": 44,
   "metadata": {},
   "outputs": [],
   "source": [
    "from transformers import AutoTokenizer, AutoModelForQuestionAnswering\n",
    "from transformers import pipeline\n",
    "\n",
    "tokenizer_qa = AutoTokenizer.from_pretrained(\"damapika/roberta-base_mod\")\n",
    "model_qa = AutoModelForQuestionAnswering.from_pretrained(\"damapika/roberta-base_mod\")\n",
    "\n",
    "question_answerer = pipeline(\"question-answering\", model=\"damapika/roberta-base_mod\")"
   ]
  },
  {
   "cell_type": "code",
   "execution_count": 45,
   "metadata": {},
   "outputs": [],
   "source": [
    "def refactor_columns(example):\n",
    "    is_selected = example[\"passages\"][\"is_selected\"]\n",
    "    passages_text = example[\"passages\"][\"passage_text\"]\n",
    "    indexes_selected = [i for i in range(len(is_selected)) if is_selected[i] == 1]\n",
    "    context = \"\\n\".join([passages_text[i] for i in indexes_selected])\n",
    "    question = example['query']\n",
    "\n",
    "    example[\"context\"] = context\n",
    "    example[\"question\"] = question\n",
    "\n",
    "    return example"
   ]
  },
  {
   "cell_type": "code",
   "execution_count": 46,
   "metadata": {},
   "outputs": [
    {
     "name": "stderr",
     "output_type": "stream",
     "text": [
      "WARNING:datasets.arrow_dataset:Loading cached processed dataset at C:\\Users\\manuv\\.cache\\huggingface\\datasets\\ms_marco\\v1.1\\1.1.0\\b6a62715fa5219aea5275dd3556601004cd63945cb63e36e022f77bb3cbbca84\\cache-6df05236781da934.arrow\n"
     ]
    }
   ],
   "source": [
    "test_dataset = test_dataset.map(refactor_columns)"
   ]
  },
  {
   "attachments": {},
   "cell_type": "markdown",
   "metadata": {},
   "source": [
    "### Automatic Metrics\n",
    "\n",
    "* BLEU\n",
    "* ROUGE\n",
    "* METEOR"
   ]
  },
  {
   "cell_type": "code",
   "execution_count": 47,
   "metadata": {},
   "outputs": [
    {
     "name": "stdout",
     "output_type": "stream",
     "text": [
      "gen_question: how old do you have to be to take a ira withdrawal? <-> target_question: does human hair stop squirrels | 0\n",
      "gen_question: how old do you have to be to take a ira withdrawal? <-> target_question: what are the benefits of fossil fuels | 1\n",
      "gen_question: what are the benefits of fossil fuels for our economy? <-> target_question: what is a apothem | 2\n",
      "gen_question: what is the apothem of a polygon? <-> target_question: average cost for custom canopy | 3\n",
      "gen_question: hi cost of a canopy? <-> target_question: what is a hardware in a computer | 4\n",
      "gen_question: what is computer hardware used for? <-> target_question: edi logistics definition | 5\n",
      "gen_question: what is edi format used for? <-> target_question: why should recreational marijuana be illegal | 6\n",
      "gen_question: why should marijuana be legal for recreational use? <-> target_question: what class are spiders in | 7\n",
      "gen_question: what is the class of spiders that are arachnids? <-> target_question: where is the amur leopard found | 8\n",
      "gen_question: where are amur leopards found in china? <-> target_question: how much does it cost to spayed my female rabbit | 9\n",
      "gen_question: how much does it cost to spay a rabbit? <-> target_question: what does proteus mirabilis look like | 10\n",
      "gen_question: what is prototeus mirabilis that is Gram negative? <-> target_question: is bougainvillea a shrub | 11\n",
      "gen_question: what is bougainvillea plant called? <-> target_question: is oxyfluorfen safe on cotton | 12\n",
      "gen_question: what is oxyfluorfen used for? <-> target_question: what types of bacteria are found in the mouth | 13\n",
      "gen_question: what are the two types of bacteria that live without oxygen? <-> target_question: is self insurance insurance or a deductible | 14\n",
      "gen_question: what is a? <-> target_question: average wage of an actor | 15\n",
      "gen_question: how much does an actor make per day in the united states? <-> target_question: how often should men get a PSA test | 16\n",
      "gen_question: what age should men have a PSA test? <-> target_question: what is financial assets | 17\n",
      "gen_question: what is a financial asset? <-> target_question: Starch and _____ are common polysaccharide carbohydrates found in plants. | 18\n",
      "gen_question: hi here, what do cellulose molecules do in plants? <-> target_question: is cypress community storage flooded | 19\n",
      "gen_question: is cypress creek a tributary of the hillsborough river? <-> target_question: what is a cost variance | 20\n",
      "gen_question: what is a cost variance that is tracked at job level? <-> target_question: where does bacteria come from | 21\n",
      "gen_question: what does e. coli bacteria come from? <-> target_question: what are electromagnetic waves made of | 22\n",
      "gen_question: what are electromagnetic waves made of called? <-> target_question: what causes inflamed pancreas | 23\n",
      "gen_question: what causes inflamed pancreas? <-> target_question: what does the word starling mean | 24\n",
      "gen_question: what is a starling definition in wikipedia? <-> target_question: what constitutes battery | 25\n",
      "gen_question: what is a battery offense in the united states? <-> target_question: what causes yeast infection itching | 26\n",
      "gen_question: what type of fungus causes yeast infection in vagina? <-> target_question: What is the difference between mastic and thinset? | 27\n",
      "gen_question: what is the advantage of mastic over thinset? <-> target_question: how long to steam artichokes in steamer | 28\n",
      "gen_question: how long to cook artichokes in pressure cooker? <-> target_question: why is glucose important | 29\n",
      "gen_question: why is glucose important to the body? <-> target_question: temp chicken to be cook | 30\n",
      "gen_question: how long does it take to cook a chicken in the oven? <-> target_question: what is the postsynaptic density | 31\n",
      "gen_question: what is the structure of a postsynaptic membrane that is a protein dense specialization attached to it? <-> target_question: why is a minority discount applied | 32\n",
      "gen_question: what is a? <-> target_question: nigel name meaning | 33\n",
      "gen_question: what does the name nigel mean in irish? <-> target_question: which bring electrical impulses toward a cell body | 34\n",
      "gen_question: what do neurons communicate with each other? <-> target_question: what reform policies did mikhail gorbachev initiate | 35\n",
      "gen_question: what was the purpose of glasnost in the soviet union? <-> target_question: definition of a business association | 36\n",
      "gen_question: what is a business association? <-> target_question: what temperature degree to cook crepes at | 37\n",
      "gen_question: how long do you bake crepes in oven? <-> target_question: when must ira distributions begin | 38\n",
      "gen_question: how old do you have to be to take a ira withdrawal? <-> target_question: what qualifications do a police officer need | 39\n",
      "gen_question: what is the minimum education requirement for a police officer? <-> target_question: the progressive movement leader theodore roosevelt quizlet | 40\n",
      "gen_question: what is a? <-> target_question: nervous system axon definition | 41\n",
      "gen_question: hi there, what does it do for the body that is regulated by the nerves? <-> target_question: what is gilded glass | 42\n",
      "gen_question: what is water gilding used for? <-> target_question: define neutropenic fever | 43\n",
      "gen_question: what is a neutropenia temperature in a patient? <-> target_question: subjectively define | 44\n",
      "gen_question: what is subjective in medical terminology? <-> target_question: can prison help the borderline? | 45\n",
      "gen_question: what is subjective in medical terminology? <-> target_question: average physician assistant salary boston ma | 46\n",
      "gen_question: what is the salary of a physician assistant in boston MA? <-> target_question: what are herbaceous perennials | 47\n",
      "gen_question: what are herbaceous perennials? <-> target_question: what type of blood types are there | 48\n",
      "gen_question: what type of blood type does a person have? <-> target_question: how long to dwarf hamsters live | 49\n",
      "gen_question: what is the average life span for a pet? <-> target_question: what is the element family for plutonium | 50\n",
      "gen_question: what is the half life of plutonium in the periodic table? <-> target_question: where was miranda lambert born and raised | 51\n",
      "gen_question: where was merriam lattery born in texas? <-> target_question: what is commercial leasing | 52\n",
      "gen_question: what is a commercial lease agreement? <-> target_question: what does the name lalita mean | 53\n",
      "gen_question: what does lalita mean in hindi? <-> target_question: how long is your average period last | 54\n",
      "gen_question: how long does it take for a period to become regular in a girl? <-> target_question: what is reabsorbed in the proximal convoluted tubule | 55\n",
      "gen_question: where is the proximal convoluted tubule located in the body? <-> target_question: what day did president obama declare the war is over | 56\n",
      "gen_question: how long does it take for us troops to leave iraq? <-> target_question: what is torso | 57\n",
      "gen_question: what is a torso defined for? <-> target_question: how fast are hurricanes | 58\n",
      "gen_question: what is a torso defined for? <-> target_question: what did ancient greeks live in | 59\n",
      "gen_question: where did they live in the mediterranean sea? <-> target_question: what does glucose blood test mean | 60\n",
      "gen_question: what is a blood glucose test used for? <-> target_question: who was william beveridge | 61\n",
      "gen_question: when was william beveridge born? <-> target_question: how to reset an iphone with buttons | 62\n",
      "gen_question: how to reset an iphone without passcode? <-> target_question: where was the bauhaus built | 63\n",
      "gen_question: what was the output of the bauhaus school in germany in 1939? <-> target_question: prepositional phrases that modify a verb are called | 64\n",
      "gen_question: what was the output of the bauhaus school in germany in 1939? <-> target_question: what are some diseases caused diabetes | 65\n",
      "gen_question: what is diabetes mellitus that causes frequent urination? <-> target_question: average cost of patio roof | 66\n",
      "gen_question: how much does it cost to add a patio roof? <-> target_question: average cost to process an invoice | 67\n",
      "gen_question: how much does it cost to process invoices in a company? <-> target_question: how much do eddie stobart pay | 68\n",
      "gen_question: how much does edward stobart make per year on Indeed? <-> target_question: do turtles carry disease | 69\n",
      "gen_question: what diseases do turtles carry? <-> target_question: is sponsorship advertising | 70\n",
      "gen_question: sponsorship advertising what is it used for? <-> target_question: how much does itunes cost | 71\n",
      "gen_question: how much does it cost to buy songs on ios? <-> target_question: the terms of the treaty of versailles for kids | 72\n",
      "gen_question: what did the treaty of versailles do in 1919 mean? <-> target_question: ingested meaning in english | 73\n",
      "gen_question: what does ingestion mean in biology? <-> target_question: what is an angiosperm answers | 74\n",
      "gen_question: what is the difference between angiosperms and gymnosperms? <-> target_question: average cost to install egress window | 75\n",
      "gen_question: how much does it cost to install a egress window in a basement? <-> target_question: where are rattlesnakes found in the world | 76\n",
      "gen_question: where are rattlesnakes found in the united states? <-> target_question: average price per pound for chicken foster farm | 77\n",
      "gen_question: how much does a rotisserie chicken cost per pound? <-> target_question: where is meadowbank | 78\n",
      "gen_question: where is meadowbank in sydney australia? <-> target_question: Life expectancy in lincoln, ne | 79\n",
      "gen_question: what is the average life expectancy in lincoln? <-> target_question: what does pale stool mean | 80\n",
      "gen_question: what is a pale stool color? <-> target_question: what is iron vitamin good for | 81\n",
      "gen_question: what foods are good sources of iron? <-> target_question: what is a substation | 82\n",
      "gen_question: what is a substation used for? <-> target_question: what is foie gras | 83\n",
      "gen_question: exactly what is it called in francais? <-> target_question: salary increase in mtn | 84\n",
      "gen_question: what is the salary of mtn in johannesburg? <-> target_question: how long to broil round steak | 85\n",
      "gen_question: how long to broil a steak in a broiler/? <-> target_question: when was maurice tillet born | 86\n",
      "gen_question: when was maurece tillet born? <-> target_question: what are lox food | 87\n",
      "gen_question: what is lox salmon cooked in? <-> target_question: cost to build walmart supercenter | 88\n",
      "gen_question: how much does lowe's cost to build in bangor, md? <-> target_question: how to use a semicolon in a letter | 89\n",
      "gen_question: what is a semicolon used for? <-> target_question: who is stephen hawking family | 90\n",
      "gen_question: when was steve hawking born? <-> target_question: is randolph mantooth married | 91\n",
      "gen_question: how long has randolph mantooth been married to kristen Connors? <-> target_question: what is dynamic muscle contraction | 92\n",
      "gen_question: what are the different types of contractions for muscles? <-> target_question: electrician rates per hour | 93\n",
      "gen_question: how much does an electrician charge per hour? <-> target_question: what kind of insurance does a court reporter need | 94\n",
      "gen_question: what type of liability does a court reporter carry? <-> target_question: do i need to send photos for passport renewal | 95\n",
      "gen_question: how to renew a passport by mail? <-> target_question: who won the second battle of bull run | 96\n",
      "gen_question: who won the battle of bull run in the civil war? <-> target_question: how long can you keep egg salad in fridge | 97\n",
      "gen_question: how long can you keep an egg salad in the refrigerator? <-> target_question: what is EIFS system | 98\n",
      "gen_question: what is eifs Exterior Insulation Systems? <-> target_question: what does accent | 99\n",
      "gen_question: what does accent mean in sociolinguistics? <-> target_question: what cut is a bolar roast | 100\n",
      "gen_question: what is a bolar roast used for? <-> target_question: what is malta known for | 101\n",
      "gen_question: what is malta known for? <-> target_question: what type of epithelial tissue lines kidney tubules | 102\n",
      "gen_question: what is a simple cuboidal epithelium found in kidney tubules? <-> target_question: what kind of liquid is custard | 103\n",
      "gen_question: what does salmonella contain in eggs? <-> target_question: does late pregnancy delay menopause | 104\n",
      "gen_question: what is the difference between late onset menopause and pregnancy? <-> target_question: what does the initial fee cover | 105\n",
      "gen_question: what is the initial franchise fee for a company? <-> target_question: how much should restaurant food cost be | 106\n",
      "gen_question: how is labor cost calculated for a restaurant? <-> target_question: allele definition biology quizlet | 107\n",
      "gen_question: what are the differences between structural and regulatory genes? <-> target_question: what is rationalization in sociology | 108\n",
      "gen_question: what does rationalization mean in sociology? <-> target_question: unconventional means | 109\n",
      "gen_question: definition of unconventional gonzo in phonetic transcription? <-> target_question: dea special agent physical requirements | 110\n",
      "gen_question: what age do i need to be a special agent in detroit? <-> target_question: what is perindopril | 111\n",
      "gen_question: what is perindopril used for? <-> target_question: how long do a medical office keep medical records | 112\n",
      "gen_question: how long should a physician keep a medical record in california? <-> target_question: how long can you be on dialysis | 113\n",
      "gen_question: how long does it take to live on dialysis? <-> target_question: meaning of accorded | 114\n",
      "gen_question: what does accord mean? <-> target_question: reasons for the sinking of the titanic | 115\n",
      "gen_question: why did the titanic sinking occur in the atlantic ocean during the tragedy? <-> target_question: what is normal pulse pressure range | 116\n",
      "gen_question: what does pulse pressure mean in mmhg? <-> target_question: when was clear air act passed | 117\n",
      "gen_question: what is the clean air act used for in the united states? <-> target_question: what part of the knee is the acl located | 118\n",
      "gen_question: what are the ligaments in the knee that are prone to injury? <-> target_question: what is morphine used for | 119\n",
      "gen_question: what is morphine used for in the body? <-> target_question: what are malpighian tubules | 120\n",
      "gen_question: what is a malpighian tubule used for? <-> target_question: vanna white income | 121\n",
      "gen_question: what is her salary? <-> target_question: the meaning of the name hughes | 122\n",
      "gen_question: meaning of the name hughes in irls? <-> target_question: what is a pbr panel | 123\n",
      "gen_question: what is pbr panel used for? <-> target_question: the behaviorist movement rejected what practice of psychology | 124\n",
      "gen_question: what is behaviorism in psychology? <-> target_question: what is hep a caused by | 125\n",
      "gen_question: what is hepatitis a cause? <-> target_question: average price of land in atlanta | 126\n",
      "gen_question: what is hepatitis a cause? <-> target_question: how much do gaming marketing managers make | 127\n",
      "gen_question: what is a? <-> target_question: how long does it take to fry a chicken leg | 128\n",
      "gen_question: how long does it take to fry chicken legs on the stove top? <-> target_question: how to make a word in a cell as hyperlink | 129\n",
      "gen_question: how to create a hyperlink in a worksheet? <-> target_question: what is the given name | 130\n",
      "gen_question: what is a given name in christianity? <-> target_question: highest paid actress ever | 131\n",
      "gen_question: how much money does sandra bullock make at the oscars? <-> target_question: height of fence needed to keep deer out | 132\n",
      "gen_question: how long does it take for a deer to jump into a handling facility? <-> target_question: what causes hep a | 133\n",
      "gen_question: what is a? <-> target_question: where are the ossicles located | 134\n",
      "gen_question: what are the ossicles in the middle ear called in the human body? <-> target_question: what is a travel agency | 135\n",
      "gen_question: what does a travel agency do? <-> target_question: what is pus and how is it formed | 136\n",
      "gen_question: what is pus composed of? <-> target_question: meaning of name hendrik | 137\n",
      "gen_question: what does the name hendrik mean in sweden? <-> target_question: what are groundnuts | 138\n",
      "gen_question: ? <-> target_question: comparative heartbeats per year | 139\n",
      "gen_question: how many times does the heart beat in a day? <-> target_question: what is polydextrose | 140\n",
      "gen_question: what is polydextrose used for? <-> target_question: how long does it take to become a pe teacher | 141\n",
      "gen_question: how long does it take to become a physical education teacher in college? <-> target_question: what does plato allegory of the cave representations | 142\n",
      "gen_question: hi jennifer, how did i learn the theory of cave by Plato? <-> target_question: what is a carrier of a disease | 143\n",
      "gen_question: what is a carrier? <-> target_question: how much prednisone can i take | 144\n",
      "gen_question: how much do you need to take a day for fatigue? <-> target_question: how do you keep cats from getting on your car | 145\n",
      "gen_question: what is the best way to keep cats off your car? <-> target_question: cost of accreditation in healthcare | 146\n",
      "gen_question: how much does dnv cost to be accredited in a hospital? <-> target_question: what is the difference between paypal and paypal here | 147\n",
      "gen_question: what is a? <-> target_question: monosomy definition biology | 148\n",
      "gen_question: what is partial monosomy in humans? <-> target_question: etymology of name antonio | 149\n",
      "gen_question: what does the name antonio mean? <-> target_question: why do molecules of starch need to be digested | 150\n",
      "gen_question: how are carbohydrates digested in the stomach and small intestine? <-> target_question: is an HVAC plenum necessary | 151\n",
      "gen_question: hi what is the difference between the two types of ducts? <-> target_question: secluded region of sunshine coast | 152\n",
      "gen_question: where is the sunshine coast located in australia? <-> target_question: how long keep self assessment records | 153\n",
      "gen_question: how long should business records be kept after tax deadline? <-> target_question: trigeminal definition | 154\n",
      "gen_question: what is trigeminal neuralgia? <-> target_question: what is metabolic disorder | 155\n",
      "gen_question: what is metabolic syndrome? <-> target_question: what are ketones test strips | 156\n",
      "gen_question: what is urine ketone test strips used for? <-> target_question: how much does it cost to have a fence put up | 157\n",
      "gen_question: how much does it cost to install a privacy fence? <-> target_question: gestation period for whooping crane | 158\n",
      "gen_question: how long does a whooping crane lay eggs in the wild? <-> target_question: where are majority of continental glaciers found | 159\n",
      "gen_question: what are the two types of glaciers that are found in the alps? <-> target_question: what degree is needed to become a counselor | 160\n",
      "gen_question: what degree is required to become a school guidance counselor? <-> target_question: genetic biodiversity definition | 161\n",
      "gen_question: variegated alleles are different from species diversity? <-> target_question: what is theme of pygmalion | 162\n",
      "gen_question: what is pygmalion play by george bernard shaw? <-> target_question: is virtualization provides cost effective | 163\n",
      "gen_question: what is the cost of a virtualized server? <-> target_question: education requirements for a dea agent | 164\n",
      "gen_question: how much does a dna agent make in california? <-> target_question: how long does a colonoscopy take to perform | 165\n",
      "gen_question: how long does a colonoscopy take? <-> target_question: what is serum tsh | 166\n",
      "gen_question: how long does a colonoscopy take? <-> target_question: what is the unit for hardness | 167\n",
      "gen_question: what is vickers hardness number used for? <-> target_question: what is the useful energy transferred when coal is burnt | 168\n",
      "gen_question: what is chemical energy stored in in a turbine? <-> target_question: what do you use an internal medicine | 169\n",
      "gen_question: what is an internist in medicine in cairns? <-> target_question: when do you pay congestion charge in london | 170\n",
      "gen_question: what is a congestion charge in london? <-> target_question: where do tiger live a | 171\n",
      "gen_question: where do they live? <-> target_question: do not expose the concrete surface to air having a temperature more than | 172\n",
      "gen_question: what is the average temperature of different ground materials? <-> target_question: what is market stability | 173\n",
      "gen_question: what is a market stability reserve? <-> target_question: what is considered a fast pulse rate | 174\n",
      "gen_question: what is a rapid heartbeat? <-> target_question: average salary of a teacher in texas | 175\n",
      "gen_question: what is a rapid heartbeat? <-> target_question: estimated costs of content insurance | 176\n",
      "gen_question: what is a? <-> target_question: what is german brand sausage | 177\n",
      "gen_question: what is a sausage made of in chile? <-> target_question: what is a vts machine | 178\n",
      "gen_question: what is a vts telemanipulator? <-> target_question: can you get pregnant with twins with only one follicle | 179\n",
      "gen_question: how long does it take for a follicle to ovulate? <-> target_question: why is punctuality important for dancing | 180\n",
      "gen_question: what does perseverance teach you? <-> target_question: is bismuth radioactive | 181\n",
      "gen_question: what is it used for? <-> target_question: can napping help your mood | 182\n",
      "gen_question: what does it take to get enough sleep in a day? <-> target_question: How long does it take a death certificate to go public. | 183\n",
      "gen_question: how long does it take to get a death certificate in nebraska? <-> target_question: What is lacking in diet if hair is thinning | 184\n",
      "gen_question: is vitamin a good for hair loss prevention? <-> target_question: what is azuki beans | 185\n",
      "gen_question: what is a adzuki bean used for? <-> target_question: how does a bail bondsman make money | 186\n",
      "gen_question: how much does a bail bondsman make? <-> target_question: average temperature in peru in the winter | 187\n",
      "gen_question: what is the average temperature in peru? <-> target_question: height of spinach plant | 188\n",
      "gen_question: what is a spinach plant known for? <-> target_question: closest airport to larissa greece | 189\n",
      "gen_question: where is larissa, greece located? <-> target_question: define what a single gene defect is | 190\n",
      "gen_question: where is larissa, greece located? <-> target_question: jetsons characters | 191\n",
      "gen_question: who are the jetsons family? <-> target_question: what government does us have | 192\n",
      "gen_question: what is the constitution of the united states of america? <-> target_question: average cost for attorney fees | 193\n",
      "gen_question: how much does a bankruptcy attorney charge in arizona sound like? <-> target_question: what is the incubation period for the common cold | 194\n",
      "gen_question: how long does it take for rhinovirus to incubate a cold? <-> target_question: full dental implant cost | 195\n",
      "gen_question: how much does it cost to replace a tooth with an implant? <-> target_question: how much could i get in food stamps | 196\n",
      "gen_question: can you get food stamps if you have too many assets? <-> target_question: what is a roquito pepper | 197\n",
      "gen_question: what is roquito peppers used for? <-> target_question: what is protein acetylation | 198\n",
      "gen_question: what is the process of acetylation in the human body? <-> target_question: how much does it cost for wind energy installation | 199\n",
      "gen_question: how much does a wind turbine cost per kwh? <-> target_question: actors who played pippin | 200\n",
      "gen_question: who played pippin in the lord of the rings trilogy? <-> target_question: where are valves found besides the heart | 201\n",
      "gen_question: what is a? <-> target_question: what type of mountain is vinson massif | 202\n",
      "gen_question: where is it located? <-> target_question: what is a source of variation in asexual reproduction | 203\n",
      "gen_question: what is the difference between the two types of reproduction? <-> target_question: is molas sardinia | 204\n",
      "gen_question: where is molas resort located in sardinia? <-> target_question: schumann cavity definition | 205\n",
      "gen_question: what are schumann resonances called? <-> target_question: how long to keep accounts for for HMRC | 206\n",
      "gen_question: how long does it take for hmrc to check your tax return? <-> target_question: are carrots bad for bunnies | 207\n",
      "gen_question: what are carrots good for bunnies? <-> target_question: meaning of name gina | 208\n",
      "gen_question: what does the name gina mean? <-> target_question: where does the quinceanera come from | 209\n",
      "gen_question: what is the meaning of quinceanera in aztec culture? <-> target_question: what is dominance | 210\n",
      "gen_question: hi, what is recessive genetics semnificance? <-> target_question: what is SNCA gene | 211\n",
      "gen_question: what is the snca gene used for? <-> target_question: what functions do tendons serve | 212\n",
      "gen_question: what is a tendon made of that is similar to ligaments and fasciae? <-> target_question: how many doses of hepatitis b vaccine | 213\n",
      "gen_question: how many doses of hepatitis b vaccine should you get? <-> target_question: What was the Babylonian Empire | 214\n",
      "gen_question: what did the baptist empire do in the ancient world? <-> target_question: what does the painting american gothic depict | 215\n",
      "gen_question: what is the story behind the painting american Gothic that Grant Wood painted? <-> target_question: the average cost for university north texas | 216\n",
      "gen_question: how much does it cost to attend texas university in a semester? <-> target_question: what determines gender of a baby | 217\n",
      "gen_question: what sex chromosomes are in a sperm cell? <-> target_question: what is annual salary requirement | 218\n",
      "gen_question: what is a? <-> target_question: what is pepto bismol used for | 219\n",
      "gen_question: what is bismuth subsalicylate used for? <-> target_question: what are the different kinds of pears | 220\n",
      "gen_question: what are the different types of pears called in the us? <-> target_question: how deuterium is produced | 221\n",
      "gen_question: what is a fusion reaction? <-> target_question: roast beef cook temperature | 222\n",
      "gen_question: what is a fusion reaction? <-> target_question: fort dix nj prison phone number | 223\n",
      "gen_question: what is a? <-> target_question: what are the gatekeeper butterflies predators are | 224\n",
      "gen_question: what is a? <-> target_question: how long before to detect aids | 225\n",
      "gen_question: how long does it take for hbi to produce antibodies after exposure? <-> target_question: transverse wave definition | 226\n",
      "gen_question: how long does it take for hbi to produce antibodies after exposure? <-> target_question: what is virtuoso | 227\n",
      "gen_question: what is a virtuoso from italy? <-> target_question: what is opioid | 228\n",
      "gen_question: what is a opioid called in the body? <-> target_question: what temperature do i set my grill to a rib eye steak | 229\n",
      "gen_question: how long do you cook rib eye steaks in the oven? <-> target_question: whooping cough incubation period in adults | 230\n",
      "gen_question: how long does it take for a whooping cough to develop in adults? <-> target_question: what temperature should grill be for making hamburger | 231\n",
      "gen_question: how long do you cook a burger on the grill? <-> target_question: what does a ton of sand look like | 232\n",
      "gen_question: how many tons of sand do you need to dump in a truck? <-> target_question: why is carbon dioxide inorganic | 233\n",
      "gen_question: what is an organic compound considered as inorganic? <-> target_question: how to file form in mca | 234\n",
      "gen_question: how to fill up mca application form online? <-> target_question: what ecosystem does a white owl live in | 235\n",
      "gen_question: what is a snowy owl in the arctic area? <-> target_question: The immune system process that leads to the production of more white blood cells is known as | 236\n",
      "gen_question: what are white blood cells called? <-> target_question: what age can women start conceiving a child | 237\n",
      "gen_question: hi i have a chance of getting pregnant without fda? <-> target_question: what is the difference in AF-C and AF-A | 238\n",
      "gen_question: what is af 'continuous'? <-> target_question: prison psychologist salary california | 239\n",
      "gen_question: how much does a prison psychologist make per year in texas? <-> target_question: coronavirus contagious period | 240\n",
      "gen_question: how long is coronavirus incubation period for dogs? <-> target_question: what is the future of forex trading | 241\n",
      "gen_question: how long is coronavirus incubation period for dogs? <-> target_question: defining the salary in FP per annum | 242\n",
      "gen_question: what is a? <-> target_question: what was the original purpose of the aboriginal protection act | 243\n",
      "gen_question: what was the purpose of the aboriginal protection board in victoria in 1869? <-> target_question: wonderlic score analysis | 244\n",
      "gen_question: what is the wonderlic cognitive aptitude test used for? <-> target_question: anaerobic blood culture top colour | 245\n",
      "gen_question: what is anaerobic blood culture used for? <-> target_question: where is saliva produced | 246\n",
      "gen_question: what does saliva contain in the body? <-> target_question: what is chemical sedimentary composed of | 247\n",
      "gen_question: what are chemical sedimentary rocks composed of? <-> target_question: how much should it cost to replace a rear wheel bearing | 248\n",
      "gen_question: how much does it cost to replace wheel bearings in a car? <-> target_question: estimated cost for refacing kitchen cabinets | 249\n",
      "gen_question: how much does it cost to replace a kitchen cabinet? <-> target_question: what qualifications do you need to be a compliance officer | 250\n",
      "gen_question: what education is required to be a compliance officer? <-> target_question: installing air conditioner cost | 251\n",
      "gen_question: what education is required to be a compliance officer? <-> target_question: where about is drayton | 252\n",
      "gen_question: where is drayton north dakota located? <-> target_question: egg increase in size as chickens age | 253\n",
      "gen_question: how long does it take to lay a chicken egg in a flock? <-> target_question: what does rose quartz stone mean | 254\n",
      "gen_question: what is the meaning of rose quartz crystals? <-> target_question: what is the origin of the word joss | 255\n",
      "gen_question: what is the origin of the name joss in the english language? <-> target_question: what is a cell structure | 256\n",
      "gen_question: what is a? <-> target_question: what is a dihybrid cross | 257\n",
      "gen_question: what is a dihybrid cross example? <-> target_question: how much dna is in a human cell | 258\n",
      "gen_question: how many micrometers of dna is in a human body? <-> target_question: average salary of allergy doctor | 259\n",
      "gen_question: what is the average salary of allergist in nevada? <-> target_question: how to lose weight and build muscle fast | 260\n",
      "gen_question: hi hi, what is the key to losing weight and building muscle? <-> target_question: examples of polysaccharide | 261\n",
      "gen_question: what is a polysaccharide exactly? <-> target_question: is mandelate a salt | 262\n",
      "gen_question: what is sodium acid hydrochloride used for in the urine? <-> target_question: What Is Homologous Recombination | 263\n",
      "gen_question: what is homologous recombination in genetics? <-> target_question: what are transgenic plants | 264\n",
      "gen_question: what is a transgenic plant? <-> target_question: what are parachutes | 265\n",
      "gen_question: what is a parachute used for? <-> target_question: average cost to dry clean a sweater | 266\n",
      "gen_question: how much does it cost to dry clean down comforters in a laundromat? <-> target_question: what is thermolactyl made of | 267\n",
      "gen_question: what is damart thermolactyl made of? <-> target_question: what qualifications to be a vet nurse | 268\n",
      "gen_question: how long does it take to become a veterinary nurse? <-> target_question: destin florida average temperatures in winter | 269\n",
      "gen_question: how long does it take to become a veterinary nurse? <-> target_question: how much do the risk officers earn | 270\n",
      "gen_question: how much does a credit risk officer make in the u.s. average salary? <-> target_question: what a excretory system | 271\n",
      "gen_question: what does the excretory system do for the body? <-> target_question: what was mouthwash originally used for | 272\n",
      "gen_question: what is the most common use of mouthwash? <-> target_question: what is a MRP inventory control system | 273\n",
      "gen_question: what is a mrp definition? <-> target_question: how much does a cleaner franchise cost in auckland | 274\n",
      "gen_question: what is a commercial cleaning franchise in auckland cost? <-> target_question: signs and symptoms of blocked fallopian tubes | 275\n",
      "gen_question: hirosalpinx causes infertility? <-> target_question: demography is destiny meaning | 276\n",
      "gen_question: what does demography is destiny mean? <-> target_question: how to straighten out your shoulders | 277\n",
      "gen_question: how do you pull your head back from your shoulders? <-> target_question: how to tell how acidic your body is | 278\n",
      "gen_question: what does alkalinity mean in your body? <-> target_question: kendi name meaning | 279\n",
      "gen_question: what does the name kendi mean? <-> target_question: what is down date endorsement | 280\n",
      "gen_question: how much does it cost to get a mortgagee endorsement? <-> target_question: what kind of packaging is organic coffee | 281\n",
      "gen_question: what is organic coffee used for? <-> target_question: why does alcohol have an age limit | 282\n",
      "gen_question: hi how old is the legal age for drinking in america? <-> target_question: mauritius average temperature | 283\n",
      "gen_question: what is the average temperature of the Indian Ocean in mauritius? <-> target_question: how much does a robotic hysterectomy cost | 284\n",
      "gen_question: what is the average temperature of the Indian Ocean in mauritius? <-> target_question: what kind of sugar to brew kombucha | 285\n",
      "gen_question: what is cane sugar used for? <-> target_question: tangata whenua definition | 286\n",
      "gen_question: what does tangata whenua mean in mori culture? <-> target_question: symptoms of niacin deficiency in ducks | 287\n",
      "gen_question: what is niacin deficiency seen in turkeys and ducks? <-> target_question: which region of italy is monza in | 288\n",
      "gen_question: where is monza italy located? <-> target_question: closing cost for a house in florida | 289\n",
      "gen_question: how much does it cost to buy a house in california? <-> target_question: where is myanmar located on the map | 290\n",
      "gen_question: where is birmingham located in south east asia? <-> target_question: what is the most powerful poisonous bite | 291\n",
      "gen_question: what is the ld50 of a taipan in australia? <-> target_question: can you see on an iphone how much data you've used | 292\n",
      "gen_question: how do i check my data usage on my vte? <-> target_question: cost per foot for aluminum gutters | 293\n",
      "gen_question: what is the average cost per linear foot for gutters? <-> target_question: what is the meaning of faux | 294\n",
      "gen_question: what does faux mean in french? <-> target_question: what is spinosad made from | 295\n",
      "gen_question: what is spinosad used for? <-> target_question: is a towable caravan allowed to park in the street | 296\n",
      "gen_question: can you park a caravan on the road? <-> target_question: what are the effects of sediment transport | 297\n",
      "gen_question: can you park a caravan on the road? <-> target_question: what is incipient tuberculosis | 298\n",
      "gen_question: what is asymptomatic tuberculosis definition? <-> target_question: tsh level ranges for pregnancy | 299\n",
      "gen_question: what is the normal thyroid level during pregnancy? <-> target_question: how long does irs take to say refund approved | 300\n",
      "gen_question: how long does it take for an irs refund to be approved? <-> target_question: what is a bsd | 301\n",
      "gen_question: what is bsd software distribution? <-> target_question: what is a cellular matrix | 302\n",
      "gen_question: what is bsd software distribution? <-> target_question: seedless vascular plants dominant generation | 303\n",
      "gen_question: what are whisk ferns like in plants that lack woody tissue? <-> target_question: what is biga | 304\n",
      "gen_question: what is a biga bread used for in italy? <-> target_question: is seaweed fungi | 305\n",
      "gen_question: what are fungi called? <-> target_question: how much does a wall cost to build | 306\n",
      "gen_question: what are fungi called? <-> target_question: how much with an app cost to make | 307\n",
      "gen_question: how much does it cost to build an app? <-> target_question: where is skelton | 308\n",
      "gen_question: where is skelton in england? <-> target_question: what is a deflection limit | 309\n",
      "gen_question: what is the maximum deflection of a building? <-> target_question: what is cav | 310\n",
      "gen_question: hi hi, how do i get a dose of cyclophosphamide in my arm? <-> target_question: why is ceres considered a dwarf planet | 311\n",
      "gen_question: what is a? <-> target_question: what is solifenacin succinate | 312\n",
      "gen_question: what is a? <-> target_question: is an optometrist a physician | 313\n",
      "gen_question: what is an ophthalmologist? <-> target_question: what is synthetic oil for | 314\n",
      "gen_question: what is a synthetic oil used for? <-> target_question: what is psa levels mean | 315\n",
      "gen_question: what is a psa test for prostate cancer? <-> target_question: where does copper come from | 316\n",
      "gen_question: what is the largest producer of copper in the us? <-> target_question: good cat food for ferrets | 317\n",
      "gen_question: what type of food should ferrets eat? <-> target_question: what is stout mean | 318\n",
      "gen_question: what is a stout made of? <-> target_question: how was the treaty of versailles unfair to germany | 319\n",
      "gen_question: why did the germans hate the treaty of versailles? <-> target_question: what type of nervous tissue is in the lungs | 320\n",
      "gen_question: what is muscle tissue made of in our body called? <-> target_question: what is modulus of rigidity | 321\n",
      "gen_question: what is a shear modulus definition? <-> target_question: average salary of a hospital pharmacist in canada | 322\n",
      "gen_question: how much does a pharmacist make in u.s. according to Indeed? <-> target_question: what is the force that is most responsible for generating surface currents | 323\n",
      "gen_question: what causes the currents on the surface of the earth? <-> target_question: what is the ocean between africa and australia called | 324\n",
      "gen_question: where is the indian ocean located between africa and australia? <-> target_question: what is scaled agile framework | 325\n",
      "gen_question: where is the indian ocean located between africa and australia? <-> target_question: off leash dog parks near tewksbury ma | 326\n",
      "gen_question: where is a dog park in billerica, massachusetts? <-> target_question: the process by which dna reproduces itself is | 327\n",
      "gen_question: what does dna replication do for cell division? <-> target_question: is myopia genetic | 328\n",
      "gen_question: why is myopia a public health problem? <-> target_question: what is triodos bank | 329\n",
      "gen_question: what is triodos bank in belgium? <-> target_question: what was the intent of the northwest ordinance | 330\n",
      "gen_question: what was the first organized territory in the united states that was created by the northwest ordinance? <-> target_question: average size of a skating rink | 331\n",
      "gen_question: what is a roller rink used for? <-> target_question: what is the cost of amicus software | 332\n",
      "gen_question: how much does amicus attorney cost in 21 days? <-> target_question: how does obsidian go through the rock cycle | 333\n",
      "gen_question: what is a? <-> target_question: what happens when a homeless felon person dies | 334\n",
      "gen_question: how do i know if a homeless person dies in a graveyard? <-> target_question: daily limit for colchicine dosage | 335\n",
      "gen_question: dose of colchicine for gout flares? <-> target_question: What is LPC in Counseling | 336\n",
      "gen_question: dose of colchicine for gout flares? <-> target_question: aap what age can you take a baby swimming | 337\n",
      "gen_question: how old can a baby swim before birth? <-> target_question: what is broth | 338\n",
      "gen_question: what is a broth called in britain? <-> target_question: what does an engineer require | 339\n",
      "gen_question: what are the requirements to become an engineer in the united states? <-> target_question: proposition psychology definition | 340\n",
      "gen_question: hi hi, where is the proposition found? <-> target_question: what does latino mean | 341\n",
      "gen_question: what does latino mean in spanish? <-> target_question: male hen is called | 342\n",
      "gen_question: what is a mature male chicken called? <-> target_question: how long does it take to become a cna | 343\n",
      "gen_question: how long does it take to become a cna in the uk? <-> target_question: what are closest accommodations to kangaroo island airport | 344\n",
      "gen_question: what is a? <-> target_question: what does powertrain warranty cover | 345\n",
      "gen_question: what is a powertrain warranty made of? <-> target_question: anaerobic breakdown of glucose produces fragments that accumulate in the muscles and blood called | 346\n",
      "gen_question: what does anaerobic glucose breakdown produce? <-> target_question: what is the chemical formula for vinegar | 347\n",
      "gen_question: what is the chemical name for vinegar? <-> target_question: taking lexapro with food or without | 348\n",
      "gen_question: how often should i take lexapro with food? <-> target_question: how much does stump grinding cost | 349\n",
      "gen_question: how much does it cost to grind a stump yourself? <-> target_question: what is disodium edta made from | 350\n",
      "gen_question: what is a? <-> target_question: average cost of window installation | 351\n",
      "gen_question: average cost of window installation in california? <-> target_question: how do curly hair tarantulas mate | 352\n",
      "gen_question: what are curlyhair tarantulas used for? <-> target_question: what is an airbus jet | 353\n",
      "gen_question: ? <-> target_question: do daycare expense and preschool expenses count towards tax deductions | 354\n",
      "gen_question: how much can a child care credit be used for? <-> target_question: what is melatonin | 355\n",
      "gen_question: hi doctor, what is it made of? <-> target_question: what is traumatic implantation fungus | 356\n",
      "gen_question: what is a? <-> target_question: how long must you serve before applying for UKSF | 357\n",
      "gen_question: how old do you have to be to be a special forces soldier to be eligible for selection? <-> target_question: what is a fractal structure | 358\n",
      "gen_question: what does a fractal mean in physics? <-> target_question: Wall insulation cost | 359\n",
      "gen_question: how much does it cost to blow insulation into an attic? <-> target_question: can you cook asparagus wrapped bacon in the microwave | 360\n",
      "gen_question: hi, how long does it take for bacon to cook in microwave? <-> target_question: does medicare pay for a mammogram every year | 361\n",
      "gen_question: how much does it cost to get a mammogram on medicare? <-> target_question: what antibiotic is taken for a bladder infection | 362\n",
      "gen_question: what is trimethoprim used for for bladder infections? <-> target_question: what is moebius syndrome | 363\n",
      "gen_question: what is moebius syndrome signified by? <-> target_question: what is capsimax | 364\n",
      "gen_question: what is capsimax capsules used for? <-> target_question: what are gonadotropins | 365\n",
      "gen_question: what are gonadotropins used for? <-> target_question: how much does a ct scan cost in ohio | 366\n",
      "gen_question: how much does a ct scan cost in ohio? <-> target_question: what should your resting heart rate be | 367\n",
      "gen_question: what is a normal resting heart rate for adults? <-> target_question: standard poodle average heat cycle | 368\n",
      "gen_question: how long does a poodle heat cycle last for? <-> target_question: what is similar to mineral oil? | 369\n",
      "gen_question: what is mineral oil used for in greece? <-> target_question: vehicle graphics cost | 370\n",
      "gen_question: how much does it cost to wrap a car? <-> target_question: where is speedway and esperanza map tucson | 371\n",
      "gen_question: where is the sendero esperanza trailhead located in tucson? <-> target_question: what does dental hygienist do | 372\n",
      "gen_question: what does a dental hygienist do for patients? <-> target_question: what does the iris reflex do | 373\n",
      "gen_question: what is a reflex in the iris that causes the pupil to become smaller? <-> target_question: salary of social auxiliary worker | 374\n",
      "gen_question: what is the average salary of a social auxiliary worker in canada? <-> target_question: what nutrients are in dairy | 375\n",
      "gen_question: what nutrients are in dairy foods? <-> target_question: at what rate does a heart beat in order to burn fat | 376\n",
      "gen_question: what is the target heart rate for fat burning? <-> target_question: what is a examples of cocci | 377\n",
      "gen_question: what is a spherical shaped bacteria? <-> target_question: how much does it cost to put up a garage | 378\n",
      "gen_question: how much does it cost to add a garage to a house? <-> target_question: how to get a nursing job in labor and delivery | 379\n",
      "gen_question: how much does it cost to add a garage to a house? <-> target_question: what is caterpillar the company | 380\n",
      "gen_question: what is caterpillar inc? <-> target_question: does pepsi contain bvo | 381\n",
      "gen_question: what is bvo used for in sodas? <-> target_question: what element is pb | 382\n",
      "gen_question: what is pbs that is a compound? <-> target_question: the meaning of name brody | 383\n",
      "gen_question: what is pbs that is a compound? <-> target_question: what type of lettuce is used in greek salad | 384\n",
      "gen_question: how to make a horiatiki salad with lettuce in greece? <-> target_question: how do you find field in list of table | 385\n",
      "gen_question: what is a? <-> target_question: how long is a boxing match | 386\n",
      "gen_question: how long is a boxing round for men and women? <-> target_question: how much does it cost to demolish a house in melbourne | 387\n",
      "gen_question: how much does it cost to demolish a house in bristol? <-> target_question: how often should a dog get a bordetella vaccine | 388\n",
      "gen_question: how long can a dog be given intranasal vaccine? <-> target_question: what year did us declare independence | 389\n",
      "gen_question: what day did the united states of americans celebrate independence? <-> target_question: is purified water healthy to drink | 390\n",
      "gen_question: what is purified water dangerous for? <-> target_question: are non pathogenic bacteria harmful | 391\n",
      "gen_question: what is the difference between pathogenic and nonpathogenic bacteria? <-> target_question: what is cupro | 392\n",
      "gen_question: hi, what does cupro fiber mean in textile industry? <-> target_question: how to remove wrinkles from upper lip | 393\n",
      "gen_question: what is injectable fillers for upper lip wrinkles? <-> target_question: what is marine biologist | 394\n",
      "gen_question: what does a marine biologist do? <-> target_question: where does the surname henderson originate from | 395\n",
      "gen_question: what is the meaning of the name henderson in scotland? <-> target_question: how fast does an elm tree grow | 396\n",
      "gen_question: what is it called in chinese medicine? <-> target_question: what materials are gotten from gneiss | 397\n",
      "gen_question: what does gneiss mean in physics? <-> target_question: size of bacterial cell compared to human cell | 398\n",
      "gen_question: how big is a bacterial cell than a human cell? <-> target_question: how much does a housekeeper / chauffeur cost? | 399\n",
      "gen_question: how much does a housekeeper cost per hour? <-> target_question: what is a ethnic minority | 400\n",
      "gen_question: what is an ethnic minority in a country? <-> target_question: what the average person should weigh | 401\n",
      "gen_question: what is the average weight of a woman in america? <-> target_question: chiari malformation what is | 402\n",
      "gen_question: what is a Chiari malformation? <-> target_question: meaning of yaritza name | 403\n",
      "gen_question: what does the name yaritza mean? <-> target_question: what is dreamhost | 404\n",
      "gen_question: what is dreamhost web hosting provider in los angeles? <-> target_question: how many acres is lake minnetonka | 405\n",
      "gen_question: where is lake minnetonka located in minnesota? <-> target_question: is selling on etsy worth it | 406\n",
      "gen_question: how much does it cost to sell on etsy? <-> target_question: irish water what is the capped yearly charge for one person household | 407\n",
      "gen_question: how much does it cost to register with irish water? <-> target_question: what is kalocsa | 408\n",
      "gen_question: where is kalocsa located in hungary? <-> target_question: what is the arctic tundra | 409\n",
      "gen_question: where is the arctic tundra located in the world? <-> target_question: what is hummus good for | 410\n",
      "gen_question: what is hummus good for in moderation? <-> target_question: how wide is the potomac river | 411\n",
      "gen_question: where is the potomac river located in the u.s.? <-> target_question: what is wcf | 412\n",
      "gen_question: what is wcf serviceoriented architecture defined as? <-> target_question: identify various types of energy sources | 413\n",
      "gen_question: what are the types of energy sources that can be replenished naturally in excess? <-> target_question: meanings of roxie cat name | 414\n",
      "gen_question: what does the name roxy mean in persian? <-> target_question: how does traumatic brain injury affect learning | 415\n",
      "gen_question: what does tbi mean in a person's life? <-> target_question: how long does personal trainer certification take | 416\n",
      "gen_question: how long does it take to become a personal trainer? <-> target_question: who needs nursing care | 417\n",
      "gen_question: what is the role of a nurse in a hospital? <-> target_question: how much does a teacher earn per month | 418\n",
      "gen_question: how much does a teacher make per month in usa? <-> target_question: why did the continental system fail | 419\n",
      "gen_question: why did the continental system fail to destroy england's trade? <-> target_question: how long should a gas oven last | 420\n",
      "gen_question: how long does a refrigerator last in a house? <-> target_question: Who is the girl from the book thief | 421\n",
      "gen_question: where is the book thief set in germany with death as narrator? <-> target_question: how to apply for survivor benefits for veteran survivor | 422\n",
      "gen_question: where is the book thief set in germany with death as narrator? <-> target_question: dependent deduction qualifications | 423\n",
      "gen_question: how much do you owe the irs for dependents? <-> target_question: what are rgp lenses | 424\n",
      "gen_question: what is rgp contact lenses used for? <-> target_question: what is the average mean temperature of the earth | 425\n",
      "gen_question: what is the average temperature on earth? <-> target_question: how to set up your email for bigpond | 426\n",
      "gen_question: how to set up a bigpond email account? <-> target_question: when was a-ha formed | 427\n",
      "gen_question: what is a-ha in norway? <-> target_question: how many miles from chicago to denver colorado | 428\n",
      "gen_question: how long does it take to drive from chicago to detroit CO? <-> target_question: hourly salary for surveillance operator at a casino | 429\n",
      "gen_question: what is the average salary of a casino surveillance operator in california? <-> target_question: is a mushroom a prokaryote or eukaryote | 430\n",
      "gen_question: what are eukaryotic fungi that produce ATP? <-> target_question: what is a farming method that can reduce the effect of erosion | 431\n",
      "gen_question: how can we reduce erosion of cropland using farming methods? <-> target_question: exclusivity meaning | 432\n",
      "gen_question: what is an example of exclusivity? <-> target_question: what contains cornstarch | 433\n",
      "gen_question: what is corn starch used for in recipes? <-> target_question: why are gmos produced | 434\n",
      "gen_question: why are gmos used to create drugs? <-> target_question: how long does it take to get a building permit | 435\n",
      "gen_question: how long does it take for a building permit to be issued? <-> target_question: what does endocrine mean | 436\n",
      "gen_question: what is endocrine glands used for in biology? <-> target_question: where is the scoreboard in nats stadium | 437\n",
      "gen_question: what is a? <-> target_question: how long does it take for concrete to dry before you can walk on it | 438\n",
      "gen_question: how long does it take for concrete to cure to walk on? <-> target_question: what is an alias | 439\n",
      "gen_question: what is an alias name used for? <-> target_question: what is potassium tellurite agar | 440\n",
      "gen_question: is potassium tellurite agar selective for the growth of staphylococci and corynebacteria? <-> target_question: are permanent residents allowed to collect pension | 441\n",
      "gen_question: is potassium tellurite agar selective for the growth of staphylococci and corynebacteria? <-> target_question: dna must be replicated prior to what event | 442\n",
      "gen_question: how does dna replicate before mitosis? <-> target_question: where is the menai bridge | 443\n",
      "gen_question: where is menai bridge located in wales? <-> target_question: how did medicare policy evolve | 444\n",
      "gen_question: what is a? <-> target_question: price elasticity of demand gasoline | 445\n",
      "gen_question: what is the short run price elasticity of gasoline demand? <-> target_question: what is winsxs backup folder for | 446\n",
      "gen_question: what is a c:windowsbackup folder used for? <-> target_question: Hearing is considered to be within normal limits | 447\n",
      "gen_question: what is the normal range of hearing loss in decibels? <-> target_question: how do hyena sounds | 448\n",
      "gen_question: what is a spotted hyena? <-> target_question: bacterial cell ribosomes function | 449\n"
     ]
    }
   ],
   "source": [
    "\n",
    "scorer = rouge_scorer.RougeScorer(['rouge1', 'rouge2', 'rougeL'], use_stemmer=True)\n",
    "smoother = SmoothingFunction().method1\n",
    "\n",
    "bleu_scores = np.array([])\n",
    "rouge_scores = np.array([])\n",
    "meteor_scores = np.array([])\n",
    "count = 0\n",
    "for row in test_dataset:\n",
    "    best_bleu,best_rouge,best_meteor = 0,0,0\n",
    "\n",
    "    context,target_question = row[\"context\"],row[\"question\"]\n",
    "\n",
    "    gen_questions = run_model(context)[0][0].replace('\\sep>','').replace('sep>','')\n",
    "    print(f'gen_question: {gen_question} <-> target_question: {target_question} | {count}')\n",
    "\n",
    "    for gen_question in [question.strip() + \"?\" for question in gen_questions.split('?')[:-1]]:# only gets best bleu,rouge and meteor score by looping over each question\n",
    "        # Tokenization\n",
    "        gen_tokens = nltk.word_tokenize(gen_question.lower())\n",
    "        target_tokens = nltk.word_tokenize(target_question.lower())\n",
    "\n",
    "        # Calculate scores\n",
    "        bleu_score = nltk.translate.bleu_score.sentence_bleu([target_tokens], gen_tokens,smoothing_function=smoother)\n",
    "        best_bleu = bleu_score if bleu_score > best_bleu else best_bleu\n",
    "\n",
    "        # Calculate ROUGE score\n",
    "        rouge_score = scorer.score(target_question, gen_question)[\"rougeL\"].fmeasure# Doesn't need tokenization\n",
    "        best_rouge = rouge_score if rouge_score > best_rouge else best_rouge\n",
    "\n",
    "        # Calculate METEOR score\n",
    "        meteor_score = calculate_meteor([target_tokens],gen_tokens)\n",
    "        best_meteor = meteor_score if meteor_score > best_meteor else best_meteor\n",
    "\n",
    "    bleu_scores = np.append(bleu_scores,best_bleu)\n",
    "    rouge_scores = np.append(rouge_scores,best_rouge)\n",
    "    meteor_scores = np.append(meteor_scores,best_meteor)\n",
    "\n",
    "    count+=1\n",
    "\n",
    "avg_bleu_score = np.mean(bleu_scores)\n",
    "avg_rouge_score = np.mean(rouge_scores)\n",
    "avg_meteor_score = np.mean(meteor_scores)\n",
    "\n",
    "print(f'Average BLEU4: {avg_bleu_score}')\n",
    "print(f'Average ROUGE: {avg_rouge_score}')\n",
    "print(f'Average METEOR: {avg_meteor_score}')"
   ]
  }
 ],
 "metadata": {
  "kernelspec": {
   "display_name": "t5_test",
   "language": "python",
   "name": "python3"
  },
  "language_info": {
   "codemirror_mode": {
    "name": "ipython",
    "version": 3
   },
   "file_extension": ".py",
   "mimetype": "text/x-python",
   "name": "python",
   "nbconvert_exporter": "python",
   "pygments_lexer": "ipython3",
   "version": "3.11.3"
  },
  "orig_nbformat": 4
 },
 "nbformat": 4,
 "nbformat_minor": 2
}
