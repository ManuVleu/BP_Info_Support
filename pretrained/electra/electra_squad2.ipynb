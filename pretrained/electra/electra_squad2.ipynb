{
 "cells": [
  {
   "cell_type": "code",
   "execution_count": 1,
   "metadata": {},
   "outputs": [
    {
     "name": "stderr",
     "output_type": "stream",
     "text": [
      "c:\\Users\\dama_\\AppData\\Local\\Programs\\Python\\Python311\\Lib\\site-packages\\tqdm\\auto.py:21: TqdmWarning: IProgress not found. Please update jupyter and ipywidgets. See https://ipywidgets.readthedocs.io/en/stable/user_install.html\n",
      "  from .autonotebook import tqdm as notebook_tqdm\n"
     ]
    }
   ],
   "source": [
    "import os\n",
    "from transformers import SquadV2Processor,TFElectraForQuestionAnswering, ElectraTokenizer, AutoModelForQuestionAnswering,ElectraForQuestionAnswering,Trainer,TrainingArguments, pipeline, ElectraConfig, ElectraModel,SquadExample\n",
    "import numpy as np\n",
    "import torch\n",
    "import tensorflow as tf\n",
    "from datasets import load_dataset\n",
    "import requests\n",
    "from bs4 import BeautifulSoup\n",
    "import re"
   ]
  },
  {
   "cell_type": "code",
   "execution_count": 2,
   "metadata": {},
   "outputs": [],
   "source": [
    "model_name = \"sultan/BioM-ELECTRA-Large-SQuAD2\""
   ]
  },
  {
   "attachments": {},
   "cell_type": "markdown",
   "metadata": {},
   "source": [
    "### Import and Initialize the tokenizer\n",
    "Transformer models can’t process the raw text and would need to be converted into numbers for models to make sense of the data. "
   ]
  },
  {
   "cell_type": "code",
   "execution_count": 3,
   "metadata": {},
   "outputs": [],
   "source": [
    "tokenizer = ElectraTokenizer.from_pretrained(model_name)"
   ]
  },
  {
   "attachments": {},
   "cell_type": "markdown",
   "metadata": {},
   "source": [
    "### Import the model\n",
    "We can download pre-trained models the same as we downloaded the tokenizer in the above step. Here we will instantiate a model that contains a base transformer module, given inputs, it will produce outputs i.e a high dimensional vector. "
   ]
  },
  {
   "cell_type": "code",
   "execution_count": 4,
   "metadata": {},
   "outputs": [],
   "source": [
    "model_answering = ElectraForQuestionAnswering.from_pretrained(model_name)"
   ]
  },
  {
   "cell_type": "code",
   "execution_count": 5,
   "metadata": {},
   "outputs": [],
   "source": [
    "# Initialize the question generation pipeline\n",
    "qa_pipeline = pipeline('question-answering', model=model_answering, tokenizer=tokenizer)\n"
   ]
  },
  {
   "cell_type": "code",
   "execution_count": 6,
   "metadata": {},
   "outputs": [],
   "source": [
    "from transformers.data.processors.squad import SquadExample\n",
    "\n",
    "example = SquadExample(\n",
    "    qas_id=\"Q1\",\n",
    "    question_text=\"What is the capital of France?\",\n",
    "    context_text=\"Paris is a beatiful city and also the capital of France.\",\n",
    "    answer_text=\"Paris is the capital of France.\",\n",
    "    start_position_character=1,\n",
    "    title='q1'\n",
    ")\n"
   ]
  },
  {
   "cell_type": "code",
   "execution_count": 7,
   "metadata": {},
   "outputs": [],
   "source": [
    "input_dict = {\n",
    "    \"question\": example.question_text,\n",
    "    \"context\": example.context_text\n",
    "}"
   ]
  },
  {
   "cell_type": "code",
   "execution_count": 8,
   "metadata": {},
   "outputs": [],
   "source": [
    "# result of the question answering task\n",
    "result = qa_pipeline(input_dict)\n",
    "\n",
    "\n"
   ]
  },
  {
   "cell_type": "code",
   "execution_count": 67,
   "metadata": {},
   "outputs": [
    {
     "data": {
      "text/plain": [
       "{'score': 0.9944676756858826, 'start': 0, 'end': 5, 'answer': 'Paris'}"
      ]
     },
     "execution_count": 67,
     "metadata": {},
     "output_type": "execute_result"
    }
   ],
   "source": [
    "result"
   ]
  },
  {
   "cell_type": "code",
   "execution_count": 9,
   "metadata": {},
   "outputs": [],
   "source": [
    "# Define the URL of the webpage to scrape\n",
    "url = 'https://en.wikipedia.org/wiki/React_(software)'\n"
   ]
  },
  {
   "cell_type": "code",
   "execution_count": 10,
   "metadata": {},
   "outputs": [],
   "source": [
    "# Send a GET request to the URL and parse the HTML content\n",
    "response = requests.get(url)\n",
    "soup = BeautifulSoup(response.content, 'html.parser')"
   ]
  },
  {
   "cell_type": "code",
   "execution_count": 11,
   "metadata": {},
   "outputs": [],
   "source": [
    "# Extract the text from the HTML content\n",
    "# Input text for which you want to generate questions\n",
    "text = ' '.join([p.get_text() for p in soup.find_all('p')])"
   ]
  },
  {
   "cell_type": "code",
   "execution_count": 12,
   "metadata": {},
   "outputs": [
    {
     "data": {
      "text/plain": [
       "'React (also known as React.js or ReactJS) is a free and open-source front-end JavaScript library[3] for building user interfaces based on components. It is maintained by Meta (formerly Facebook) and a community of individual developers and companies.[4][5][6]\\n React can be used as a base in the development of single-page, mobile, or server-rendered applications with frameworks like Next.js. However, React is only concerned with the user interface and rendering components to the DOM, so creating React applications usually requires the use of additional libraries for routing, as well as certain client-side functionality.[7][8]\\n The following is a rudimentary example of using React for the web, written in JSX and JavaScript.\\n based on the HTML document below.\\n The Greeting function is a React component that displays the famous introductory \\'\\'Hello, world\".\\n When displayed in a web browser, the result will be a rendering of:\\n React adheres to the declarative programming paradigm (a programming paradigm). Developers design views for each state of an application, and React updates and renders components when data changes. This is in contrast with imperative programming.[9]\\n React code is made of entities called components. These components are reusable and must be formed in the SRC folder following the Pascal Case as its naming convention (capitalize camelCase). Components can be rendered to a particular element in the DOM using the React DOM library. When rendering a component, one can pass the values between components through \"props\":[10]\\n In the above example, the name property with the value \"Gulshan\" has been passed from the Example component to the Tool component. \\n Also the return section is wrapped in a tag because there is a limitation in the return function, it can only return a single value. So all JSX elements and components are bound into a single tag. \\n The two primary ways of declaring components in React are through function components and class-based components. \\n Function components are declared with a function that then returns some JSX. From React 16.8 version and above, Functional component can use state using Hooks.\\n On February 16, 2019, React 16.8 was released to the public.[11] The release introduced React Hooks.[12] Hooks are functions that let developers \"hook into\" React state and lifecycle features from function components.[13] Hooks do not work inside classes — they let developers use React without classes.[14]\\n React provides a few built-in hooks like useState,[15] useContext, useReducer , useMemo and useEffect.[16] Others are documented in the Hooks API Reference.[17] useState and useEffect, which are the most commonly used, are for controlling state and side effects respectively.\\n There are rules of hooks[18] which describe the characteristic code pattern that hooks rely on. It is the modern way to handle state with React.\\n Although these rules can\\'t be enforced at runtime, code analysis tools such as linters can be configured to detect many mistakes during development. The rules apply to both usage of hooks and the implementation of custom hooks,[19] which may call other hooks.\\n Class-based components are declared using ES6 classes.\\n Where class components are all about the use of classes and the lifecycle methods, functional components have hooks to deal with state management and other problems which arise when writing code in React.\\n Another notable feature is the use of a virtual Document Object Model, or virtual DOM. React creates an in-memory data-structure cache, computes the resulting differences, and then updates the browser\\'s displayed DOM efficiently.[20] This process is called reconciliation. This allows the programmer to write code as if the entire page is rendered on each change, while the React libraries only render subcomponents that actually change. This selective rendering provides a major performance boost.[21]\\n It saves the effort of recalculating the CSS style, layout for the page and rendering for the entire page.[21]\\n When ReactDOM.render[22] is called again for the same component and target, React takes the existing virtual DOM[23] it knows about last time it rendered the element tree, compares it to whatever new thing developers want to render, and determines which (if any) of the living DOM needs to change.[24]\\n Lifecycle methods for class-based components use a form of hooking that allows the execution of code at set points during a component\\'s lifetime.\\n JSX, or JavaScript Syntax Extension, is an extension to the JavaScript language syntax.[25] Similar in appearance to HTML, JSX provides a way to structure component rendering using syntax familiar to many developers. React components are typically written using JSX, although they do not have to be (components may also be written in pure JavaScript). JSX is similar to another extension syntax created by Facebook for PHP called XHP.\\n An example of JSX code:\\n The basic architecture of React applies beyond rendering HTML in the browser. For example, Facebook has dynamic charts that render to <canvas> tags,[26] and Netflix and PayPal use universal loading to render identical HTML on both the server and client.[27][28]\\n Server-side rendering refers to the process of rendering a client-side JavaScript application on the server, rather than in the browser. This can improve the performance of the application, especially for users on slower connections or devices.\\n With server-side rendering, the initial HTML that is sent to the client includes the fully rendered UI of the application. This allows the client\\'s browser to display the UI immediately, rather than having to wait for the JavaScript to download and execute before rendering the UI.\\n \\nReact supports server-side rendering, which allows developers to render React components on the server and send the resulting HTML to the client. This can be useful for improving the performance of the application, as well as for search engine optimization (SEO) purposes. React does not attempt to provide a complete \"application library\". It is designed specifically for building user interfaces[3] and therefore does not include many of the tools some developers might consider necessary to build an application. This allows the choice of whichever libraries the developer prefers to accomplish tasks such as performing network access or local data storage. Common patterns of usage have emerged as the library matures.\\n To support React\\'s concept of unidirectional data flow (which might be contrasted with AngularJS\\'s bidirectional flow), the Flux architecture was developed as an alternative to the popular model–view–controller architecture. Flux features actions which are sent through a central dispatcher to a store, and changes to the store are propagated back to the view.[29] When used with React, this propagation is accomplished through component properties. Since its conception, Flux has been superseded by libraries such as Redux and MobX.[30]\\n Flux can be considered a variant of the observer pattern.[31]\\n A React component under the Flux architecture should not directly modify any props passed to it, but should be passed callback functions that create actions which are sent by the dispatcher to modify the store. The action is an object whose responsibility is to describe what has taken place: for example, an action describing one user \"following\" another might contain a user id, a target user id, and the type USER_FOLLOWED_ANOTHER_USER.[32] The stores, which can be thought of as models, can alter themselves in response to actions received from the dispatcher.\\n This pattern is sometimes expressed as \"properties flow down, actions flow up\". Many implementations of Flux have been created since its inception, perhaps the most well-known being Redux, which features a single store, often called a single source of truth.[33]\\n In February 2019, useReducer was introduced as a React hook in the 16.8 release. It provides an API that is consistent with Redux, enabling developers to create Redux-like stores that are local to component states.[34]\\n Project status can be tracked via the core team discussion forum.[35] However, major changes to React go through the Future of React repository issues and pull requests.[36][37] This enables the React community to provide feedback on new potential features, experimental APIs and JavaScript syntax improvements.\\n React was created by Jordan Walke, a software engineer at Meta, who released an early prototype of React called \"FaxJS\".[38][39] He was influenced by XHP, an HTML component library for PHP. It was first deployed on Facebook\\'s News Feed in 2011 and later on Instagram in 2012.[citation needed] It was open-sourced at JSConf US in May 2013.[39]\\n React Native, which enables native Android, iOS, and UWP development with React, was announced at Facebook\\'s React Conf in February 2015 and open-sourced in March 2015.\\n On April 18, 2017, Facebook announced React Fiber, a new set of internal algorithms for rendering, as opposed to React\\'s old rendering algorithm, Stack.[40] React Fiber was to become the foundation of any future improvements and feature development of the React library.[41][needs update] The actual syntax for programming with React does not change; only the way that the syntax is executed has changed.[42] React\\'s old rendering system, Stack, was developed at a time when the focus of the system on dynamic change was not understood. Stack was slow to draw complex animation, for example, trying to accomplish all of it in one chunk. Fiber breaks down animation into segments that can be spread out over multiple frames. Likewise, the structure of a page can be broken into segments that may be maintained and updated separately. JavaScript functions and virtual DOM objects are called \"fibers\", and each can be operated and updated separately, allowing for smoother on-screen rendering.[43]\\n On September 26, 2017, React 16.0 was released to the public.[44]\\n On August 10, 2020, the React team announced the first release candidate for React v17.0, notable as the first major release without major changes to the React developer-facing API.[45]\\n On March 29, 2022, React 18 was released which introduced a new concurrent renderer, automatic batching and support for server side rendering with Suspense.[46]\\n React Is - Fix lazy and memo types considered elements instead of components\\n Fix regressions in React core library and React Dom.\\n Revert warning for cross-component updates that happen inside class render lifecycles\\n Add new JSX Transform, Changes to Event Delegation\\n \\nThe initial public release of React in May 2013 used the Apache License 2.0. In October 2014, React 0.12.00 replaced this with the 3-clause BSD license and added a separate PATENTS text file that permits usage of any Facebook patents related to the software:[47] The license granted hereunder will terminate, automatically and without notice, for anyone that makes any claim (including by filing any lawsuit, assertion or other action) alleging (a) direct, indirect, or contributory infringement or inducement to infringe any patent: (i) by Facebook or any of its subsidiaries or affiliates, whether or not such claim is related to the Software, (ii) by any party if such claim arises in whole or in part from any software, product or service of Facebook or any of its subsidiaries or affiliates, whether or not such claim is related to the Software, or (iii) by any party relating to the Software; or (b) that any right in any patent claim of Facebook is invalid or unenforceable. This unconventional clause caused some controversy and debate in the React user community, because it could be interpreted to empower Facebook to revoke the license in many scenarios, for example, if Facebook sues the licensee prompting them to take \"other action\" by publishing the action on a blog or elsewhere. Many expressed concerns that Facebook could unfairly exploit the termination clause or that integrating React into a product might complicate a startup company\\'s future acquisition.[48]\\n Based on community feedback, Facebook updated the patent grant in April 2015 to be less ambiguous and more permissive:[49]\\n The license granted hereunder will terminate, automatically and without notice, if you (or any of your subsidiaries, corporate affiliates or agents) initiate directly or indirectly, or take a direct financial interest in, any Patent Assertion: (i) against Facebook or any of its subsidiaries or corporate affiliates, (ii) against any party if such Patent Assertion arises in whole or in part from any software, technology, product or service of Facebook or any of its subsidiaries or corporate affiliates, or (iii) against any party relating to the Software. [...] A \"Patent Assertion\" is any lawsuit or other action alleging direct, indirect, or contributory infringement or inducement to infringe any patent, including a cross-claim or counterclaim.[50] The Apache Software Foundation considered this licensing arrangement to be incompatible with its licensing policies, as it \"passes along risk to downstream consumers of our software imbalanced in favor of the licensor, not the licensee, thereby violating our Apache legal policy of being a universal donor\", and \"are not a subset of those found in the [Apache License 2.0], and they cannot be sublicensed as [Apache License 2.0]\".[51] In August 2017, Facebook dismissed the Apache Foundation\\'s downstream concerns and refused to reconsider their license.[52][53] The following month, WordPress decided to switch its Gutenberg and Calypso projects away from React.[54]\\n On September 23, 2017, Facebook announced that the following week, it would re-license Flow, Jest, React, and Immutable.js under a standard MIT License; the company stated that React was \"the foundation of a broad ecosystem of open source software for the web\", and that they did not want to \"hold back forward progress for nontechnical reasons\".[55]\\n On September 26, 2017, React 16.0.0 was released with the MIT license.[56] The MIT license change has also been backported to the 15.x release line with React 15.6.2.[57]\\n'"
      ]
     },
     "execution_count": 12,
     "metadata": {},
     "output_type": "execute_result"
    }
   ],
   "source": [
    "text"
   ]
  },
  {
   "cell_type": "code",
   "execution_count": 14,
   "metadata": {},
   "outputs": [
    {
     "name": "stdout",
     "output_type": "stream",
     "text": [
      "{'score': 0.7309399843215942, 'start': 13853, 'end': 13927, 'answer': '\"the foundation of a broad ecosystem of open source software for the web\",'}\n"
     ]
    }
   ],
   "source": [
    "question= input(\"Ask a question: \")\n",
    "result= qa_pipeline(question=question,context=text)\n",
    "print(result)"
   ]
  }
 ],
 "metadata": {
  "kernelspec": {
   "display_name": "Python 3",
   "language": "python",
   "name": "python3"
  },
  "language_info": {
   "codemirror_mode": {
    "name": "ipython",
    "version": 3
   },
   "file_extension": ".py",
   "mimetype": "text/x-python",
   "name": "python",
   "nbconvert_exporter": "python",
   "pygments_lexer": "ipython3",
   "version": "3.11.1"
  },
  "orig_nbformat": 4
 },
 "nbformat": 4,
 "nbformat_minor": 2
}
