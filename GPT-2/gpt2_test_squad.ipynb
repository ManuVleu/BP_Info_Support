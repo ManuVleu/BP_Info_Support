{
 "cells": [
  {
   "cell_type": "code",
   "execution_count": null,
   "metadata": {},
   "outputs": [],
   "source": [
    "import transformers\n",
    "import datasets\n",
    "import torch\n",
    "import logging"
   ]
  },
  {
   "cell_type": "code",
   "execution_count": null,
   "metadata": {},
   "outputs": [],
   "source": [
    "# Preprocessing\n",
    "sep_token = '<sep>'\n",
    "dataset_name = \"wiselinjayajos/squad_modified_for_t5_qg\"\n",
    "models_dir = \"saved_models/gpt2_base-squad_mod\"\n",
    "checkpoint = 'gpt2-base'\n",
    "max_input_length = 512\n",
    "max_target_length = 64\n",
    "\n",
    "## Training\n",
    "learning_rate = 1e-4\n",
    "num_epochs = 7"
   ]
  }
 ],
 "metadata": {
  "language_info": {
   "name": "python"
  },
  "orig_nbformat": 4
 },
 "nbformat": 4,
 "nbformat_minor": 2
}
