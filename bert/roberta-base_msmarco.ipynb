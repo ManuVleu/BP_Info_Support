{
 "cells": [
  {
   "cell_type": "code",
   "execution_count": 1,
   "metadata": {},
   "outputs": [
    {
     "name": "stderr",
     "output_type": "stream",
     "text": [
      "c:\\Users\\dama_\\AppData\\Local\\Programs\\Python\\Python311\\Lib\\site-packages\\tqdm\\auto.py:21: TqdmWarning: IProgress not found. Please update jupyter and ipywidgets. See https://ipywidgets.readthedocs.io/en/stable/user_install.html\n",
      "  from .autonotebook import tqdm as notebook_tqdm\n"
     ]
    }
   ],
   "source": [
    "import transformers \n",
    "import datasets\n",
    "import torch\n",
    "import logging\n",
    "import json\n",
    "import pandas as pd\n",
    "from torch.utils.data import Subset"
   ]
  },
  {
   "cell_type": "code",
   "execution_count": 2,
   "metadata": {},
   "outputs": [],
   "source": [
    "class MyDataset:\n",
    "    def __init__(self, data):\n",
    "        self.data = data\n",
    "\n",
    "    def __len__(self):\n",
    "        return len(self.data)\n",
    "\n",
    "    def __getitem__(self, index):\n",
    "        row = self.data[index]\n",
    "        return {\n",
    "            'id': row['id'],\n",
    "            'question': row['question'],\n",
    "            'answer': row['answer'],\n",
    "            'context': row['context'],\n",
    "            'answer_start': row['answer_start'],\n",
    "            'answer_end': row['answer_end']\n",
    "        }\n",
    "\n",
    "    def get(self, index):\n",
    "        return self.__getitem__(index)\n",
    "\n",
    "    def set(self, index, id=None, question=None, answer=None, context=None, answer_start=None, answer_end=None):\n",
    "        if id is not None:\n",
    "            self.data[index]['id'] = id\n",
    "        if question is not None:\n",
    "            self.data[index]['question'] = question\n",
    "        if answer is not None:\n",
    "            self.data[index]['answer'] = answer\n",
    "        if context is not None:\n",
    "            self.data[index]['context'] = context\n",
    "        if answer_start is not None:\n",
    "            self.data[index]['answer_start'] = answer_start\n",
    "        if answer_end is not None:\n",
    "            self.data[index]['answer_end'] = answer_end"
   ]
  },
  {
   "cell_type": "code",
   "execution_count": 3,
   "metadata": {},
   "outputs": [],
   "source": [
    "dataset=torch.load(\"../datasets/ms-marco_train_qa.pt\")"
   ]
  },
  {
   "cell_type": "code",
   "execution_count": 6,
   "metadata": {},
   "outputs": [
    {
     "data": {
      "text/plain": [
       "DatasetDict({\n",
       "    train: Dataset({\n",
       "        features: ['id', 'question', 'answer', 'context', 'answer_start', 'answer_end'],\n",
       "        num_rows: 301763\n",
       "    })\n",
       "    test: Dataset({\n",
       "        features: ['id', 'question', 'answer', 'context', 'answer_start', 'answer_end'],\n",
       "        num_rows: 201176\n",
       "    })\n",
       "})"
      ]
     },
     "execution_count": 6,
     "metadata": {},
     "output_type": "execute_result"
    }
   ],
   "source": [
    "dataset"
   ]
  },
  {
   "cell_type": "code",
   "execution_count": 4,
   "metadata": {},
   "outputs": [],
   "source": [
    "dataset=dataset.train_test_split(test_size=0.4)"
   ]
  },
  {
   "cell_type": "code",
   "execution_count": 5,
   "metadata": {},
   "outputs": [],
   "source": [
    "dataset_train=dataset['train']"
   ]
  },
  {
   "cell_type": "code",
   "execution_count": 6,
   "metadata": {},
   "outputs": [
    {
     "data": {
      "text/plain": [
       "{'id': 862709,\n",
       " 'question': 'what is whatsapp executable',\n",
       " 'answer': 'Known as BlackBerry Desktop Software and it is developed by Research In Motion.',\n",
       " 'context': \"Start FreeFixer and scan your computer again. If WhatsApp.exe still remains in the scan result, proceed with the next step. If WhatsApp.exe is gone from the scan result you're done. If WhatsApp.exe still remains in the scan result, check its checkbox again in the scan result and click Fix. Whatsapp.exe for pc social advice. Users interested in Whatsapp.exe for pc generally download: Free. Wassapp is a PC application developed to be a non-official client for WhatsApp Messenger. You just have to type your phone number, import your contacts and chat with them instantly using your keyboard. The application has a simple and easy to use interface. What is WhatsApp .exe ? WhatsApp .exe is known as BlackBerry Desktop Software and it is developed by Research In Motion , it is also developed by . We have seen about 2 different instances of WhatsApp .exe in different location. So far we haven't seen any alert about this product. If you think there is a virus or malware with this product, please submit your feedback at the bottom. Showing results for whatsapp for as the word pc is considered too common. Search instead for whatsapp.exe for pc. You can recover WhatsApp messages, photos, videos and contacts. WhatsApp Extractor is ... to recover WhatsApp messages, ... and recovers WhatsApp Conversations. 181 votes 4 commented. WhatsApp Messenger is a cross-platform mobile messaging app which allows you to exchange messages without having to pay for SMS. WhatsApp Messenger is available for iPhone, BlackBerry, Android, Windows Phone and Nokia and yes, those phones can all message each other! Because WhatsApp Messenger uses the same internet data plan that you use for email and web browsing, there is no cost to message and stay in touch with your friends. In addition to basic messaging WhatsApp users can create groups, send each other unlimited images, video and audio media messages. Brian and I spent a combined 20 years at Yahoo! working hard to keep the site working. And yes, working hard to sell ads, because that's what Yahoo! did. It gathered data and it served pages and it sold ads. WhatsApp For PC is a free program that enables you to communicate with all the devices that have WhatsApp installed. The application lets you send and receive messages on your PC, share photos, videos and documents. WhatsApp.exe is digitally signed by Stepan Rybin. WhatsApp.exe is usually located in the 'C:\\\\ProgramData\\\\{dfc3cf67-877b-1283-dfc3-3cf678773d9e}\\\\' folder. Some of the anti-virus scanners at VirusTotal detected WhatsApp.exe. If you have additional information about the file, please share it with the FreeFixer users by posting a comment at the bottom of this page. WhatsApp Messenger is a cross-platform mobile messaging app which allows you to exchange messages without having to pay for SMS. WhatsApp Messenger is available for iPhone, BlackBerry, Windows Phone, Android and Nokia. When the scan is finished, locate WhatsApp.exe in the scan result and tick the checkbox next to the WhatsApp.exe file. Do not check any other file for removal unless you are 100% sure you want to delete it. Tip: Press CTRL-F to open up FreeFixer's search dialog to quickly locate WhatsApp.exe in the scan result.\",\n",
       " 'answer_start': 358,\n",
       " 'answer_end': 742}"
      ]
     },
     "execution_count": 6,
     "metadata": {},
     "output_type": "execute_result"
    }
   ],
   "source": [
    "dataset_train[0]"
   ]
  },
  {
   "cell_type": "code",
   "execution_count": 7,
   "metadata": {},
   "outputs": [],
   "source": [
    "dataset=dataset['test'].train_test_split(test_size=0.5)"
   ]
  },
  {
   "cell_type": "code",
   "execution_count": 8,
   "metadata": {},
   "outputs": [],
   "source": [
    "dataset_valid=dataset['train']"
   ]
  },
  {
   "cell_type": "code",
   "execution_count": 9,
   "metadata": {},
   "outputs": [
    {
     "data": {
      "text/plain": [
       "{'id': 575498,\n",
       " 'question': 'what are the uses of juniper berries',\n",
       " 'answer': 'As a spice used in a wide variety of culinary dishes, as a primary flavoring in gin.Also used as the primary flavor in the liquor Jenever and sahti-style of beers.Juniper berry sauce is often a popular flavoring choice.',\n",
       " 'context': \"Comments. Submit. Juniper berries have been in use since the time of the Greeks. They have had many uses from medicinal to culinary for hundreds of years. If you have access to this interesting spice, you can use juniper berries in a number of different ways, from seasoning food to being used as a diuretic.However, fresh juniper berries can be dangerous to ingest for those with kidney problems or those who are pregnant.f you have access to this interesting spice, you can use juniper berries in a number of different ways, from seasoning food to being used as a diuretic. However, fresh juniper berries can be dangerous to ingest for those with kidney problems or those who are pregnant. Juniper berries recipes. The spicy, aromatic, dark berries of the juniper tree can be used fresh or dried, crushed or whole, to flavour casseroles, marinades and stuffings and complement pork, rabbit, venison, beef and duck. They can also be used in sweet dishes such as fruitcake.Juniper berries also provide the main flavouring for gin.he spicy, aromatic, dark berries of the juniper tree can be used fresh or dried, crushed or whole, to flavour casseroles, marinades and stuffings and complement pork, rabbit, venison, beef and duck. Meats. Juniper berries can be crushed fresh and used in marinades for a variety of meats, from wild game like venison and rabbit to beef and pork. Goulash can also be flavored with juniper berries. Dried juniper berries can be crushed and used in meat marinades, but they are not as flavorful as fresh juniper berries.f you have access to this interesting spice, you can use juniper berries in a number of different ways, from seasoning food to being used as a diuretic. However, fresh juniper berries can be dangerous to ingest for those with kidney problems or those who are pregnant. Juniper (Juniperus osteosperma and scopulorum) essential oil. Juniper berries are a spice used in a wide variety of culinary dishes and best known for the primary flavoring in gin (and responsible for gin's name, which is a shortening of the Dutch word for juniper, genever).Juniper berries are also used as the primary flavor in the liquor Jenever and sahti-style of beers.Juniper berry sauce is often a popular flavoring choice for quail, pheasant, veal, rabbit, venison and other meat dishes.uniper berries are also used as the primary flavor in the liquor Jenever and sahti-style of beers. Juniper berry sauce is often a popular flavoring choice for quail, pheasant, veal, rabbit, venison and other meat dishes. The spicy, aromatic, dark berries of the juniper tree can be used fresh or dried, crushed or whole, to flavour casseroles, marinades and stuffings and complement pork, rabbit, venison, beef and duck.They can also be used in sweet dishes such as fruitcake. Juniper berries also provide the main flavouring for gin.he spicy, aromatic, dark berries of the juniper tree can be used fresh or dried, crushed or whole, to flavour casseroles, marinades and stuffings and complement pork, rabbit, venison, beef and duck. Juniper is a short to medium-height tree that grows wild in some parts of Europe, North America, and Asia. There are many varieties of juniper, but Juniperus communis is the most common in North America. People use the juniper berry to make medicine.Medicinal preparations include the extract of juniper berry, as well as the essential oil of juniper berry.eople use the juniper berry to make medicine. Medicinal preparations include the extract of juniper berry, as well as the essential oil of juniper berry. Juniper berries, here still attached to a branch, are actually modified conifer cones. A juniper berry is the female seed cone produced by the various species of junipers.It is not a true berry but a cone with unusually fleshy and merged scales, which give it a berry-like appearance. juniper berry is the female seed cone produced by the various species of junipers. It is not a true berry but a cone with unusually fleshy and merged scales, which give it a berry-like appearance. Juniper berry was first intended as a medication since juniper berries are a diuretic and were also thought to be an appetite stimulant and a remedy for rheumatism and arthritis. Native Americans are reported to have used the juniper berry as an appetite suppressant in times of hunger. juniper berry is the female seed cone produced by the various species of junipers. It is not a true berry but a cone with unusually fleshy and merged scales, which give it a berry-like appearance. Dried juniper berries (or fresh ones, when they are available) are used as a flavoring in Northern European cuisine, especially in Scandinavia, Germany and the Alsace region of France. Americans are most likely to have encountered juniper in gin, the liquor that gets its name from the Dutch or French word for juniper.ried juniper berries (or fresh ones, when they are available) are used as a flavoring in Northern European cuisine, especially in Scandinavia, Germany and the Alsace region of France. Americans are most likely to have encountered juniper in gin, the liquor that gets its name from the Dutch or French word for juniper. Eating more juniper berries may help improve digestion and prevent disease. You probably know the piney flavor of juniper berries from their use in flavoring gin, but you may not know that they have a wide variety of medicinal benefits.ou probably know the piney flavor of juniper berries from their use in flavoring gin, but you may not know that they have a wide variety of medicinal benefits.\",\n",
       " 'answer_start': 586,\n",
       " 'answer_end': 1301}"
      ]
     },
     "execution_count": 9,
     "metadata": {},
     "output_type": "execute_result"
    }
   ],
   "source": [
    "dataset_valid[0]"
   ]
  },
  {
   "cell_type": "code",
   "execution_count": 10,
   "metadata": {},
   "outputs": [],
   "source": [
    "dataset_test=dataset['test']"
   ]
  },
  {
   "cell_type": "code",
   "execution_count": 12,
   "metadata": {},
   "outputs": [
    {
     "data": {
      "text/plain": [
       "{'id': 770053,\n",
       " 'question': 'what is meant by the phrase the reflective practitioner',\n",
       " 'answer': 'The capacity to reflect on action so as to engage in a process of continuous learning. According to one definition it involves paying critical attention to the practical values and theories which inform everyday actions, by examining practice reflectively and reflexively.',\n",
       " 'context': \"Give an overview of how reflection is used in nursing. Explain its relevance to nursing and how and when it is used. Explore the concepts of reflective practice and critical incident analysis. Introduce use of reflection for personal development. This page provides all possible meanings and translations of the word Reflective practice. Reflective practice. Reflective practice is the capacity to reflect on action so as to engage in a process of continuous learning. According to one definition it involves paying critical attention to the practical values and theories which inform everyday actions, by examining practice reflectively and reflexively. Freebase(0.00 / 0 votes)Rate this definition: Reflective practice. Reflective practice is the capacity to reflect on action so as to engage in a process of continuous learning. Reflective is an adjective that can describe a person who thinks things through, or a surface that reflects light or sound, like the reflective lettering on a stop sign. To reflect is to bounce back an image, light, or sound. A reflective surface is one that can bounce back light — like the reflective sun shade that you put over the windshield of your car. It bounces the sun's rays away, helping the interior cool. Johns and Freshwater (2005) propose that health professionals should find the meaning of reflection through description rather than definition because to define reflection is to suggest the author has authority over its meaning. In scientific terms reflection is seen as light, heat or sound striking a surface to give off a reflection (Darlene 2006). Reflection is also seen as philosophical understanding of how one can gain knowledge through experience and use different approaches to the same scenario (ref). To achieve this I will explain what reflection practice is using models of reflection; evaluate theories of personal development - what they are and how they are used. Discuss how reflective practice benefits communication skills and in turn influence our knowledge of nursing care. Reflective practice can be an important tool in practice-based professional learning settings where individuals learning from their own professional experiences, rather than from formal teaching or knowledge transfer, may be the most important source of personal professional development and improvement. Reflection can also be seen as the engine that facilitates superficial learning into finding a deeper understanding that enables the practitioner to transform what is known to knowledge in action (Boud et al 1985 cited in Rolfe et al 2011). The question of how best to learn from experience has wider relevance however, to any organizational learning environment. In particular, people in leadership positions have a tremendous development opportunity if they engage in reflective practice.\",\n",
       " 'answer_start': 246,\n",
       " 'answer_end': 653}"
      ]
     },
     "execution_count": 12,
     "metadata": {},
     "output_type": "execute_result"
    }
   ],
   "source": [
    "dataset_test[0]"
   ]
  },
  {
   "cell_type": "code",
   "execution_count": 4,
   "metadata": {},
   "outputs": [],
   "source": [
    "squad=torch.load(\"../datasets/squad.pt\")"
   ]
  },
  {
   "cell_type": "code",
   "execution_count": 14,
   "metadata": {},
   "outputs": [
    {
     "data": {
      "text/plain": [
       "Dataset({\n",
       "    features: ['id', 'title', 'context', 'question', 'answers'],\n",
       "    num_rows: 87599\n",
       "})"
      ]
     },
     "execution_count": 14,
     "metadata": {},
     "output_type": "execute_result"
    }
   ],
   "source": [
    "squad['train']"
   ]
  },
  {
   "cell_type": "code",
   "execution_count": 13,
   "metadata": {},
   "outputs": [],
   "source": [
    "# calculate max context length for dataset\n",
    "def calc_max_len(dataset):\n",
    "  context_length_max=len(dataset[0]['context'])\n",
    "  for i in range(len(dataset)):\n",
    "    con_len=len(dataset[i]['context'])\n",
    "    if(con_len<context_length_max):\n",
    "      context_length_max=con_len\n",
    "      print(context_length_max)\n",
    "      print(dataset[i]['context'])\n",
    "  return context_length_max\n"
   ]
  },
  {
   "cell_type": "code",
   "execution_count": 14,
   "metadata": {},
   "outputs": [
    {
     "name": "stdout",
     "output_type": "stream",
     "text": [
      "2769\n",
      "Excess mucus in the stool is sometimes accompanied by other symptoms, which may be a sign of a bigger problem. These symptoms include: blood or pus in the stool. abdominal pain, cramping, or bloating. changes in bowel movements or habits. Diarrhea is not always a sign of illness. For some children, the occasional bout may be normal, even if it contains mucus. The key is to know when diarrhea is a symptom of a problem. Factors to evaluate include the frequency and consistency of the stool. A large increase in the amount of mucus in your child's feces may point to illness, however, especially if it is accompanied by loose stool or blood. The combination of watery stool and mucus may indicate a viral infection or medical problem with the intestines. Blood & Mucus: Work-up should be done to determine if you have inflammatory bowel disease(ulcerative colitis or crohn's ) depending upon the duration of the symptoms , there may of course be other explanation. Evaluation may include stool samples and direct visualization of the colon by sigmoidoscopy or colonoscopy . Mucus is not unusual in the stool or a sign of diarrhea. The internal surface of the intestines is lined with this substance. It serves as a lubricant, according to Dr. Michael F. Picco of MayoClinic.com. Causes of Blood in Stool. 1  Anal Fissure. If no diarrhea, most of these children have a small tear in the anus. 2  Strep Skin Infection. A Strep skin infection around the anus can also cause blood-streaked stools. 3  Bacterial Diarrhea. If also has bloody diarrhea, a gut bacterial infection may be the cause.  Red, but not Blood. Multiple: Many times if the child is constipated there will be a bit of blood from an anal fissure ( cut) . Sometimes it may mean some viral infection. Sometimes it may mean a food intolerance/allergy. Please see your pediatrician, and bring a stool sample. ...Read more. Having a noticeable increase in the mucus in your stool may be the symptom of an underlying health issue, such as: 1  Crohn's disease. 2  cystic fibrosis. 3  ulcerative colitis.  irritable bowel 1  syndrome. an intestinal or parasitic infection.  malabsorption issues, such as lactose intolerance or celiac 1  disease. anal fissures. Causes and Background Information. Causes of Blood in Stool. Anal Fissure. If no diarrhea, most of these children have a small tear in the anus. This is called an anal fissure. Anal fissures usually are caused by passage of a large or hard stool. This is the cause in 90% of children with blood in the stools. Blood and mucus in a child's stool can be alarming to parents. There are several causes of rectal bleeding, and doctors can determine the cause based on taking a careful history and an examination and through imaging and laboratory testing.\n",
      "2605\n",
      "That is, the permeability of finished. GCL products depends on a combina-. tion of factors, including the type and. amount of bentonite, the amount of. additives, the type of geosynthetic. material, and the product configuration. (i.e., the method of affixing the. geosynthetic to the clay). Landfill centre for household waste, bank covered by geomembrane © J-M. Geosynthetic materials are everywhere : they strengthen our roads, weatherproof waste landfill facilities, etc. • geopipes - perforated or solid wall polymeric pipes. used for the drainage of various liquids. • geocomposites - hybrid systems of any, or all, of. the above geosynthetic types which can function as. specifically designed for use in soil, rock, waste and. Ageing geosynthetic materials could lead to a possible drop in weatherproofing performance and a transfer of materials. Ecotoxicological and economic consequences must now be measured and the only way of studying the evolution of a geomembrane is to take field samples, which come at a cost for professionals. By including separation and reinforcement geosynthetic products in these standard construction details, a technically equivalent (or superior) design can be achieved by reducing the expensive mineral base course material thickness. WHAT IS GEOSYNTHETIC? Generally, geosynthetic refers to a product that is made from polymeric material and is applied as a key component in a structure or system to achieve engineering purposes. The prefix “geo” suggests whose application has to do with soil, rock, and/or earth. Landfill centre for household waste, bank covered by geomembrane © J-M. Le Bars / Irstea. Geosynthetic materials are everywhere : they strengthen our roads, weatherproof waste landfill facilities, etc. • geonets - stiff polymer net-like sheets with in-plane. openings used primarily as a drainage material. within landfills or in soil and rock masses. • geosynthetic clay liners - prefabricated bentonite. clay layers incorporated between geotextiles and/or. geomembranes and used as a barrier for liquid or. • Geosynthetics are human-made materials. made from various types of polymers used. to enhance, augment and make possible cost. effective environmental, transportation and. geotechnical engineering construction. projects. They are used to provide one or. Geosynthetic clay liners (GCLs) represent a relatively new technology (developed in. 1986) currently gaining acceptance as a barrier system in municipal solid waste landfill. applications. Federal and some state regulations specify design standards for bottom liners. and final covers.\n",
      "2420\n",
      "It appears, however, from Russian explorations during the last third of the 19th North- century, that it has all the characteristics of an elevated western plateau, of a rhomboid shape (like Bohemia), bounded by four mountain ranges; namely, the Russian Altai on the N.W., the Sayans on the N.E., the Kentei range on the S.E., and the Ektagh Altai on the S.W. Definition of rhomboid for English Language Learners geometry: a shape with four sides where only the opposite sides and angles are equal Learn More about rhomboid The rhomboid muscles (/ ˈ r ɒ m b ɔɪ d /), often simply called the rhomboids, are rhombus-shaped muscles associated with the scapula and are chiefly responsible for its retraction. They are innervated by the dorsal scapular nerve. There are two rhomboid muscles on each side of the upper back: Rhomboid major muscle; Rhomboid minor muscle; Additional images He named it rhomboides, meaning rhomboid, from the shape of its body. Bass, Pike, Perch, and Others James Alexander Henshall I am simply telling you what Dr. rhomboid told me last night. Define rhomboideus: either of two muscles that lie beneath the trapezius muscle and connect the spinous processes of various vertebrae with the… either of two muscles that lie beneath the trapezius muscle and connect the spinous processes of various vertebrae with the medial border of the … See the full definition Origin of rhomboid French rhomboïde from Classical Latin rhomboides from Classical Greek rhomboeid?s, rhomboid-shaped: see rhombus and -oid shaped like a rhomboid (Definition of “rhomboideus” from the Cambridge Advanced Learner’s Dictionary & Thesaurus © Cambridge University Press) Translations of “rhomboideus” in Chinese (Simplified) rhomboideus; rhomboideus major; rhomboideus minor; rhombomere; Rhombosolea tapirina; rhompa grass; rhoncal; rhonchal; rhonchal fremitus; rhonchi; rhonchus; rhopheocytosis; rhoptry; rhotacism; Rh-positive; rHu-rhubarb; rhubarb, Chinese; rHuEPO; r-HuEPO; rhuMAb-E25; Rhus; rhus dermatitis; Rhus tox; Rhus toxicodendron antigen; Rhus venenata antigen Collins English Dictionary - Complete & Unabridged 2012 Digital Edition © William Collins Sons & Co. Ltd. 1979, 1986 © HarperCollins Publishers 1998, 2000, 2003, 2005, 2006, 2007, 2009, 2012 Cite This Source rhomboideus definition, meaning, what is rhomboideus: one of the two back muscles that connect the spine with the shoulder blades. Learn more.\n",
      "2396\n",
      "‘I grew up in Buenos Aires, and my parents' quinta a little outside the city was named ‘Buen Aire’.’. ‘Hidden away in the forest and mountains, the picture-postcard town of Sintra is home to impressive palaces and traditional quintas.’. 1.1 A country estate, in particular a wine-growing estate in Portugal. Spanish and Portuguese, from quinta parte ‘fifth part’ (originally referring to the amount of a farm's produce paid in rent). What made you want to look up quinta? Please tell us where you read or heard it (including the quote, if possible). Home British & World English quint. 1(in piquet) a sequence of five cards of the same suit. A run of ace, king, queen, jack, and ten is a quint major and one of jack, ten, nine, eight, and seven a quint minor. 2North American. Definition of quinta - (in Spain, Portugal, and Latin America) a large house in the country or on the outskirts of a town. Definition of quinta - (in Spain, Portugal, and Latin America) a large house in the country or on the outskirts of a town. ‘It overlooks a former quinta or agricultural estate, now swallowed up by the city and transformed into a large public park.’ ‘Single quinta vintage ports are wholly unblended and can give some very idiosyncratic tastes.’ Definition of quinta in English: quinta. noun. 1(in Spain, Portugal, and Latin America) a large house in the country or on the outskirts of a town. ‘His assertion that the country house, or quinta, was of only one story, is apparently based on a document that refers to the residence as ‘two low dwellings.’’. Definition of quint - (in piquet) a sequence of five cards of the same suit. A run of ace, king, queen, jack, and ten is a quint major and one of jack, Definition of quint - (in piquet) a sequence of five cards of the same suit. A run of ace, king, queen, jack, and ten is a quint major and one of jack, dictionary Translation of quinta at Merriam-Webster's Spanish-English Dictionary. Audio pronunciations, verb conjugations, quizzes and more. Quinta definition. v. The act of dispersing ones pubic hairs around an object.orn. a sensible, funny, amazing, and awesome one who loves to be with people, and is the life span associated with the party. She really loves everybody and many people really like her. She's super nice breasts and ass, and she will do just about anything for you, since she is so faithful. by Cesar Report definition.\n",
      "2364\n",
      "Dunkin Donuts, Iced Coffee With Skim Milk And Sugar (1 serving) Calories: 60, Fat: 0g, Carbs: 15g, Protein: 1g. how many calories is in a large dunkin donuts light and sweet regular coffee & how much does it cost? kgb answers » Food & Drink » how many calories is in a large dunkin donuts light and sweet regular coffee & how much does it cost? Dunkin Donuts Coffee with Splenda 10 oz has 15 calories. Tags: splenda, calories. Calories in Dunkin Donuts Iced Coffee. Calories in Dunkin Donuts Iced Coffee with Skim Milk. *Percent Daily Values are based on a 2,000 calorie diet. Your daily values may be higher or lower depending on your calorie needs. A traditional glazed doughnut contains 260 calories, 14gm of fat, and 12gm of sugar. Glazed doughnuts also contain around 300mg of sodium. Specialty doughnuts, like maple Kreme drizzle donuts or powdered cake stick donuts, feature nearly 400 calories per serving and in excess of 20gm of fat each. Explore the menu. Dunkin’ Donuts is committed to offering great-tasting food and beverages that meet many different dietary needs. Here you’ll find the nutrition information you need to make the right choices for your life style. A 16 ounce small iced coffee from Dunkin' Donuts is about 10 calories. With Splenda and skim milk, it's 30. The Unhealthiest Dunkin' Donuts Nutrition Choices. So which donuts should you avoid if you want to keep your trip to Dunkin' Donuts healthy? Some of the higher calorie donuts like the Chocolate Coconut Cake Donut provide 550 calories and 39 grams of fat. How many colories in a small hazelnut iced coffee light and sweet from dunkin donuts? Dunkin' Donuts Iced Coffee - Medium - Hazelnut With Milk And 2 Splenda has 35... Most Popular Dunkin' Donuts Food. The standard Glazed Donut is a fan favorite at Dunkin Donuts. If this treat is your favorite on the menu, then you won't derail your diet completely when you indulge—unless you are on a low carb diet. The light, sugary treat provides just 260 calories, 31 grams of carbohydrate and 12 grams of sugar. how many calories is in a large dunkin donuts light and sweet regular coffee & how much does it cost? kgb answers » Food & Drink » how many calories is in a large dunkin donuts light and sweet regular coffee & how much does it cost? Dunkin Donuts Coffee with Splenda 10 oz has 15 calories. Top 10 questions Food & Drink.\n",
      "2193\n",
      "Search Ava NY Land for Sale . Find ranches, lots, acreage, and more on Land And Farm. Ava, Oneida County, New York Land for Sale. Looking for rural homes and land for sale in Ava, Oneida County, New York? LandWatch.com has thousands of rural properties in Ava, Oneida County, New York, including hunting & fishing properties, cabins, Land for sale and land auctions. Choose from small acreage lots to massive 500+ acre estates. You can also find Ava, Oneida County, New York real estate agents who specialize in land and rural retreats. Sign up for our Ava, Oneida County, New York email alerts and never miss out on a new listing again! Single-family new house construction building permits: 1  Health care (23%) 2  Public administration (12%) 3  Educational services (11%) 4  Department and other general merchandise stores (6%) 5  Motor vehicle and parts dealers (5%) 6  Finance and insurance (5%) 7  Administrative and support and waste management services (5%) For population 25 years and over in Ava: 1  High school or higher: 78.6%. 2  Bachelor's degree or higher: 5.2%. 3  Graduate or professional degree: 2.2%. 4  Unemployed: 5.5%. 5  Mean travel time to work (commute): 40.5 minutes. New York; Oneida County; Ava; Ava Cemetery; Added: 2 Jan 2000; Find A Grave Cemetery: #63875 The town is made up of land of: 1  Adgate patent, a 45,000 acre patent issued to Matthew Adgate. Adgate was a member of the NY assembly and the US constitutional convention. 2  the Oothoudt Patent, a 16,052 acre patent issued to Henry Oothoudt in 1786 (about one have of Ava lies within this patent). Canadian Postal Code Database. Get all Canadian Postal Codes and their information in one easy to use database. 2010 Census Database. Get the 2010 Census data in an easy to use format for all summary levels: National, State, County, City, and Congressional District. Find county courthouse in Ava, NY on Yellowbook. Get reviews and contact details for each business including videos, opening hours and more. AVA, ONEIDA COUNTY, CENTRAL, NEW YORK LAND FOR SALE: 1 - 15 of 24 listings. Ava, NY. News; Forums & Polls; Real-Time News; Crime; Dating; Jobs; Local Politics; Obituaries; Real Estate; Yellow Pages\n",
      "2083\n",
      "The national average Field Service Engineer salary is $62,731. Filter by location to see Field Service Engineer salaries in your area. Salary estimates are based on 3,535 salaries submitted anonymously to Glassdoor by Field Service Engineer employees. 3,831 Field Service Engineer Salaries provided anonymously by employees. What salary does a Field Service Engineer earn in your area? Best Places to Work 2018 NEW! Previous Experience as a Field Service Engineer. We have an exciting opportunity for a Field Service Engineer to join our rapidly expanding team to support our... Easily apply to this job field service engineer covering the midlands. The role will be to install and service chemical dosing equipment to dishwashers, glass washers and laundry... Easily apply to this job Field Service Engineer – Medical Devices. To strengthen this team in the UK we are looking for a Field Service Engineer to support customers in the UK.... How much does a Field Service Engineer make? The national average salary for a Field Service Engineer is $65,722 in United States. Filter by location to see Field Service Engineer salaries in your area. Salary estimates are based on 3,717 salaries submitted anonymously to Glassdoor by Field Service Engineer employees. A field engineer may specialize in the field of utilities. A field engineer may install or repair products in a client's home. A field engineer may specialize in the area of construction. Home Based Field Service Engineer. The Best Companies are always on the look-out for the best people and we have opportunities for Home-based Field Service Engineers around the country.... A field service engineer is often a good job for military personnel. I had a friend that was a medical field engineer. Before becoming an engineer, he was a member of the army. I am not sure what he did in the military, but the job suited him well. You will be part of a Field Service team which commissions, services and maintains drive units which fully control many types of large electric motors - from... 30+ days ago - save job - more... -\n",
      "2045\n",
      "461 County Road 79, Daviston, AL, 36256 is a mobile / manufactured home of 1,904 sqft. Zillow's Zestimate® for 461 County Road 79 is $101,006 and the Rent Zestimate® is $900/mo. This mobile / manufactured home was built in 2007. Zana, New Site, and Everglade are nearby cities. 665 Acres Daviston, Tallapoosa County, Alabama. $2,850,000. 665 acres +/- of high-fenced hunting land for sale in Tallapoosa County, Alabama. This high-fenced property is an outstanding turn-key hunting operation, spanning 533 acres. Daviston, Tallapoosa County, Alabama Land for Sale. Looking for rural homes and land for sale in Daviston, Tallapoosa County, Alabama? LandWatch.com has thousands of rural properties in Daviston, Tallapoosa County, Alabama, including hunting & fishing properties, cabins, Land for sale and land auctions. Choose from small acreage lots to massive 500+ acre estates. Daviston, Alabama. Daviston is a town in Tallapoosa County, Alabama, United States. At the 2010 census the population was 214, down from 267 in 2000. Daviston, Tallapoosa Co., Alabama. Daviston, incorporated February 16, 1887, is believed to be the first incorporated rural town in Tallapoosa County. Daviston's first mayor was J.D. Dunn. Daviston flourished with improved roads and became the hub of migration. 461 County Road 79, Daviston, AL is a mobile / manufactured home that contains 1,904 sq ft and was built in 2007. This home last sold for $5,900 in January 2008. The Zestimate for this house is $101,006, which has decreased by $77 in the last 30 days. Latest news from Daviston, AL collected exclusively by city-data.com from local newspapers, TV, and radio stations. Ancestries: American (30.0%), Irish (7.9%), English (3.6%), Scotch-Irish (2.1%), French Canadian (1.4%), German (1.4%). Current Local Time: CST time zone. Elevation: 762 feet. Daviston Sheriff. Find Daviston Alabama sheriff's office, department, headquarters, jail and detention center. Sheriffs provide information on records, arrests, inmates, warrants, and mugshots. Daviston Sheriff.\n",
      "1635\n",
      "From Madrid-Puerta de Atocha train to Málaga then bus to Marbella. 3 h 24 min 75€. From Madrid bus to Marbella. 7 h 10 min 32€. From Madrid drive to Marbella. 5 h 53 min 78€. From Recoletos train to Madrid airport, fly to Malaga airport, then bus to Marbella. 4 h 15 min 63€. Route Map from Marbella, Spain to Madrid, Spain. Optimal route map between Marbella, Spain and Madrid, Spain. This route will be about 363 Miles. The driving route information(distance, estimated time, directions), flight route, traffic information and print the map features are placed on the top right corner of the map. Marbella, Spain. Locations around this longitude. 1  Douglas, Isle of Man. 2  Abidjan, Cote d'Ivoire (Ivory Coast) 3  Cardiff, Wales, United Kingdom.  Edinburgh, Scotland, United 1  Kingdom. Timbuktu, Mali. Locations farthest away from Madrid. 1  Palmerston North, New Zealand, 12,405 mi. 2  Napier, New Zealand, 12,360 mi. 3  Wanganui, New Zealand, 12,365 mi.  Paraparaumu, New Zealand, 12,363 1  mi. Wellington, New Zealand, 12,337  mi. Check the Flight distance between Marbella and Madrid. Travel time is an important point to know with the driving distance. Hence you might also want to know the Travel Time from Marbella to Madrid. This will help you estimate how much time you will spend travelling for the distance from Marbella to Madrid. The approx distance between Madrid and Marbella in a straight line is 277 miles or 445.69 KMS See the maps and links below for additional information related to driving distances, fuel costs and estimated journey times for this trip from Madrid to Marbella. Happy trails!! Advertisements:\n",
      "1571\n",
      "92% of the 27301 zip code residents lived in the same house 1 year ago. Out of people who lived in different houses, 62% moved from this county. Out of people who lived in different houses, 22% moved from different county within same state. The ratio of number of residents in zip code 27244 to the number of sex offenders is 1,401 to 1. The number of registered sex offenders compared to the number of residents in this zip code is smaller than the state average. 69% of the 27301 zip code residents lived in the same house 5 years ago. Out of people who lived in different houses, 71% lived in this county. Out of people who lived in different counties, 50% lived in North Carolina. The ratio of number of residents in zip code 27377 to the number of sex offenders is 750 to 1. The number of registered sex offenders compared to the number of residents in this zip code is near the state average. Back to: Gibsonville, NC, All cities. Back to the top. Home price trends powered by Onboard Informatics. © 2012 Onboard Informatics. 336. Gibsonville, NC is currently using one area code which is area code 336. In addition to Gibsonville, NC area code information read more about area code 336 details and North Carolina area codes. Gibsonville, NC is located in Guilford County and observes the Eastern Time Zone. View our Times by Area Code tool. The ratio of number of residents in zip code 27301 to the number of sex offenders is 1,257 to 1. The number of registered sex offenders compared to the number of residents in this zip code is smaller than the state average.\n",
      "1551\n",
      "Amy Madigan. Amy Marie Madigan (born September 11, 1950) is an American actress, producer, and singer. She was nominated for the Academy Award for Best Supporting Actress for the 1985 film Twice in a Lifetime. Format: MP3 Music|Verified Purchase. Kathleen Madigan is hilarious! This album contains some of her earliest stand-up work. Over the years, she has remained true to her devotion to this single mode of entertainment; this is probably why she is something of a well-kept secret. Kathleen Madigan Bothering Jesus OUTTAKE - Fear of Flying - Duration: 2 minutes, 12 seconds. Kathleen Madigan Bothering Jesus OUTTAKE - Hillary Clinton - Duration: 83 seconds. Kathleen Madigan Bothering Jesus Behind The Scenes - The Pabst Theater - Duration: 76 seconds. Kathleen Madigan Bothering Jesus OUTTAKE - Lufthansa - Duration: 2 minutes, 22 seconds. Amy Marie Madigan[1] (born September 11, 1950) is an American actress, producer, and singer. She was nominated for the Academy Award for Best Supporting Actress for the 1985 film Twice in a Lifetime. Kathleen Madigan's humor is refreshingly down-to-earth! Drawing largely from experience growing up in a large, mid-western family, Madigan explores everything from family communication styles to favorite TV shows to global trends in economy. Kathleen Madigan is my favorite comedian. I even have a Pandora channel set up under her name. It plays her stand up bits as well as others like her. She's still the funniest. Kathleen Madigan DJ’s New “Bothering Jesus” Tracks Exclusively on Sirius XM’s Laugh USA\n",
      "1417\n",
      "Actor. Hidetoshi Nishijima was born on March 29, 1971 in Hachioji, Japan. He is an actor, known for Kaze tachinu (2013), Dolls (2002) and Toni Tonî (takitani). 2004 see full ». bio Nishijima starred in Kiyoshi Kurosawa 's 1998 film License to Live. He co-starred with Miho Kanno in Takeshi Kitano 's 2002 film Dolls. He was given the Best Supporting Actor award at the Yokohama Film Festival in 2008. As Hayami sensei, he is very cool and handsome. And I love him even more when I saw Boku to Star no 99 Nichi. Actually I have seen his movies many times since I was a child but I did not realize him at all. I think that the he is older the more he becomes more handsome. Not many people be like that. In Amir Naderi 's 2011 film Cut, he played a leading role, which was described by Chris Cabin of Slant Magazine as the most convincingly pretentious and frustrated cinephile to ever be portrayed on film. His performance in the film was praised by Dan Fainaru of Screen International as painfully memorable. Hmm, I just watched Sabu's 2009 film Kanikousen (Crab Cannery Ship) and he was in it (along with Matsuda Ryuhei, Kengo Kora and I'm pretty sure Oshinari Shugo) but I don't see it here. Is it difficult to add a movie? Nishijima Hidetoshi is a Japanese actor. Nishijima starred in Kiyoshi Kurosawa's 1998 film License to Live. He was given the Best Supporting Actor award at the Yokohama Film Festival in 2008.\n",
      "1304\n",
      "Quality Care - The Nature Care Company—Coralville, IA. A valid driver's license and good driving record are preferred. Good driving record/valid license. Full and part time, and weekend positions are available.... Like most states in the USA, Daylight-Saving Time ( DST ) is observed in Iowa , where the time is shifted forward by 1 hour to Central Daylight Time ( CDT ); which is 5 hours behind Greenwich Mean Time ( GMT-5 ). Mass Markets jobs. Part Time Evening & Weekend Customer Service and Sales Representative | $14.50/hr* | Weekly Pay Cycles jobs. Part Time Evening & Weekend Customer Service and Sales Representative | $14.50/hr* | Weekly Pay Cycles jobs in Iowa City, IA. jobs in Iowa City, IA. Central Standard Time - is abbreviated as CST. Central Daylight Time- is abbreviated as CDT. Coralville, Iowa is GMT/UTC - 6h during Standard Time. Coralville, Iowa is GMT/UTC - 5h during Daylight Saving Time. Coralville, Iowa. Coralville is a city in Johnson County, Iowa, United States. It is a suburb of Iowa City and part of the Iowa City Metropolitan Statistical Area. The population was 18,907 at the 2010 census. What time zone is Iowa in? Iowa is in the Central Time Zone in the United States of America (USA). US Central Standard Time ( CST ) is 6 hours behind Greenwich Mean Time ( GMT-6 ).\n",
      "1132\n",
      "Huambo. n. 1. (Placename) a town in central Angola: designated at one time by the Portuguese as the future capital of the country. Pop: 756 000 (2005 est). Former name (1928-73): Nova Lisboa. (Port. Holonyms (Nova Lisboa is a part of...): Angola; Republic of Angola (a republic in southwestern Africa on the Atlantic Ocean; achieved independence from Portugal in 1975 and was the scene of civil war until 1990). Huam•bo. a city in central Angola. 67,000. Formerly, Nova Lisboa. Advertising. Collins English Dictionary 5th Edition first published in 2000 © HarperCollins Publishers 1979, 1986, 1991, 1994, 1998, 2000 and Collins A-Z Thesaurus 1st edition first published in 1995 © HarperCollins Publishers 1995. 1 a peninsula in E Canada, between the Gulf of St Lawrence and the Bay of Fundy. 2 a province of E Canada, consisting of the Nova Scotia peninsula and Cape Breton Island: first settled by the French as Acadia. Capital: Halifax. Pop.: 947900 (1997 est.). • NOVA LISBOA (noun). The noun NOVA LISBOA has 1 sense: 1. a city in the mountains in western Angola. Familiarity information: NOVA LISBOA used as a noun is very rare.\n",
      "1127\n",
      "DDI is a free standard that can document and manage different stages in the research data lifecycle, such as conceptualization, collection, processing, distribution, discovery, and archiving. Definition of ddI. : a synthetic nucleoside C10H12N4O3 having properties and uses similar to those of ddC —called also didanosine. DDI (dē'dē-ī') n. Dideoxyinosine; a nucleoside analogue drug that is similar to AZT in action. Also called didanosine. Document, Discover and Interoperate. The Data Documentation Initiative (DDI) is an international standard for describing the data produced by surveys and other observational methods in the social, behavioral, economic, and health sciences. Direct inward dial. (Redirected from Direct inward dialing) Direct inward dialing (DID), also called direct dial-in (DDI) in Europe and Oceania, is a telecommunication service offered by telephone companies to subscribers who operate a private branch exchange (PBX) system. Medical Definition of ddI. : a synthetic nucleoside analog C10H12N4O3 having properties and uses similar to those of ddC—called also didanosine, dideoxyinosine; see videx.\n",
      "1047\n",
      "Get the best of both worlds with the SANYO DVD Recorder/VCR Combo. It plays DVDs, CDs and VHS tapes and records to DVD or VHS. SANYO DVD Recorder/VCR Combo: 1  1080p HD upconversion. 2  Dolby Digital stream out. 3  Progressive scan video out. Get the best of both worlds with the SANYO DVD Recorder/VCR Combo. It plays DVDs, CDs and VHS tapes and records to DVD or VHS. SANYO DVD Recorder/VCR Combo: 1  1080p HD upconversion. 2  Dolby Digital stream out. 3  Progressive scan video out. 4  5-speed recording for up to 6 hours. Get the best of both worlds with the SANYO DVD Recorder/VCR Combo. It plays DVDs, CDs and VHS tapes and records to DVD or VHS. SANYO DVD Recorder/VCR Combo: 1  1080p HD upconversion. 2  Dolby Digital stream out. Get the best of both worlds with the SANYO DVD Recorder/VCR Combo. It plays DVDs, CDs and VHS tapes and records to DVD or VHS. Get the best of both worlds with the SANYO DVD Recorder/VCR Combo. It plays DVDs, CDs and VHS tapes and records to DVD or VHS. SANYO DVD Recorder/VCR Combo: 1  1080p HD upconversion.\n",
      "858\n",
      "this article: Kiiara is a 20-year-old from Illinois whose new single “Gold” feels like some fascinating new mutation of bedroom-pop music. “Gold,” a collaboration with producer Felix Snow, takes cues from icy R&B and from glitched-out, spacey dance music, but it also has the wide-open heart of a classic pop song.Gold,” a collaboration with producer Felix Snow, takes cues from icy R&B and from glitched-out, spacey dance music, but it also has the wide-open heart of a classic pop song. iTunes is the world's easiest way to organize and add to your digital media collection. We are unable to find iTunes on your computer. To download from the iTunes Store, get iTunes now.Tunes is the world's easiest way to organize and add to your digital media collection. We are unable to find iTunes on your computer. To download from the iTunes Store, get iTunes now.\n",
      "301\n",
      "Clue: Before noon it's one and the same. We have 1 possible answer for the clue Before noon it's one and the same which appears 1 time in our database.lue: Before noon it's one and the same. We have 1 possible answer for the clue Before noon it's one and the same which appears 1 time in our database.\n"
     ]
    },
    {
     "data": {
      "text/plain": [
       "301"
      ]
     },
     "execution_count": 14,
     "metadata": {},
     "output_type": "execute_result"
    }
   ],
   "source": [
    "calc_max_len(dataset_train)"
   ]
  },
  {
   "cell_type": "code",
   "execution_count": 16,
   "metadata": {},
   "outputs": [],
   "source": [
    "# Preprocessing\n",
    "# sep_token = '<sep>'\n",
    "dataset_name = \"ms_marco\"\n",
    "model_type=\"roberta\"\n",
    "model_name= \"roberta-base\"\n",
    "models_dir = \"saved_models/roberta-base_ms-marco_mod\"\n",
    "checkpoint = 'roberta-base'\n",
    "max_input_length = 301\n",
    "\n",
    "\n",
    "# ## Training\n",
    "learning_rate = 3e-5\n",
    "num_epochs = 2"
   ]
  },
  {
   "cell_type": "code",
   "execution_count": 17,
   "metadata": {},
   "outputs": [],
   "source": [
    "tokenizer = transformers.AutoTokenizer.from_pretrained(model_name)"
   ]
  },
  {
   "cell_type": "code",
   "execution_count": 27,
   "metadata": {},
   "outputs": [],
   "source": [
    "def preprocess_function(examples):\n",
    "    questions = [q.strip() for q in examples[\"question\"]]\n",
    "    inputs = tokenizer(\n",
    "        questions,\n",
    "        examples[\"context\"],\n",
    "        max_length=max_input_length ,\n",
    "        truncation=\"only_second\",\n",
    "        return_offsets_mapping=True,\n",
    "        padding=\"max_length\",\n",
    "    )\n",
    "\n",
    "    offset_mapping = inputs.pop(\"offset_mapping\")\n",
    "    # answers = examples[\"answer\"]\n",
    "    start_positions = []\n",
    "    end_positions = []\n",
    "\n",
    "    for i, offset in enumerate(offset_mapping):\n",
    "        # answer = examples[\"answer_start\"][i]\n",
    "        \n",
    "        start_char = examples[\"answer_start\"][i]      \n",
    "        end_char = examples[\"answer_end\"][i]\n",
    "        sequence_ids = inputs.sequence_ids(i)\n",
    "\n",
    "        # Find the start and end of the context\n",
    "        idx = 0\n",
    "        while sequence_ids[idx] != 1:\n",
    "            idx += 1\n",
    "        context_start = idx\n",
    "        while sequence_ids[idx] == 1:\n",
    "            idx += 1\n",
    "        context_end = idx - 1\n",
    "\n",
    "        # If the answer is not fully inside the context, label it (0, 0)\n",
    "        if offset[context_start][0] > end_char or offset[context_end][1] < start_char:\n",
    "            start_positions.append(0)\n",
    "            end_positions.append(0)\n",
    "        else:\n",
    "            # Otherwise it's the start and end token positions\n",
    "            idx = context_start\n",
    "            while idx <= context_end and offset[idx][0] <= start_char:\n",
    "                idx += 1\n",
    "            start_positions.append(idx - 1)\n",
    "\n",
    "            idx = context_end\n",
    "            while idx >= context_start and offset[idx][1] >= end_char:\n",
    "                idx -= 1\n",
    "            end_positions.append(idx + 1)\n",
    "\n",
    "    inputs[\"start_positions\"] = start_positions\n",
    "    inputs[\"end_positions\"] = end_positions\n",
    "    return inputs"
   ]
  },
  {
   "cell_type": "code",
   "execution_count": null,
   "metadata": {},
   "outputs": [],
   "source": [
    "# Transform your custom dataset to a PyTorch dataset\n",
    "# dataset = datasets.Dataset.from_generator(\n",
    "#     generator=lambda: iter(dataset)\n",
    "# )"
   ]
  },
  {
   "cell_type": "code",
   "execution_count": 12,
   "metadata": {},
   "outputs": [
    {
     "name": "stdout",
     "output_type": "stream",
     "text": [
      "Downloading and preparing dataset generator/default to C:/Users/dama_/.cache/huggingface/datasets/generator/default-1f482045682b315d/0.0.0...\n"
     ]
    },
    {
     "name": "stderr",
     "output_type": "stream",
     "text": [
      "                                                                    \r"
     ]
    },
    {
     "name": "stdout",
     "output_type": "stream",
     "text": [
      "Dataset generator downloaded and prepared to C:/Users/dama_/.cache/huggingface/datasets/generator/default-1f482045682b315d/0.0.0. Subsequent calls will reuse this data.\n"
     ]
    }
   ],
   "source": [
    "# dataset_val= datasets.Dataset.from_generator(\n",
    "#     generator=lambda: iter(dataset_valid))"
   ]
  },
  {
   "cell_type": "code",
   "execution_count": 16,
   "metadata": {},
   "outputs": [],
   "source": [
    "# torch.save(dataset,\"../datasets/ms-marco_train_qa.pt\")"
   ]
  },
  {
   "cell_type": "code",
   "execution_count": 17,
   "metadata": {},
   "outputs": [],
   "source": [
    "# torch.save(dataset_valid,\"../datasets/ms-marco_valid_qa.pt\")# "
   ]
  },
  {
   "cell_type": "code",
   "execution_count": 29,
   "metadata": {},
   "outputs": [
    {
     "data": {
      "text/plain": [
       "Dataset({\n",
       "    features: ['id', 'question', 'answer', 'context', 'answer_start', 'answer_end'],\n",
       "    num_rows: 301763\n",
       "})"
      ]
     },
     "execution_count": 29,
     "metadata": {},
     "output_type": "execute_result"
    }
   ],
   "source": [
    "dataset_train"
   ]
  },
  {
   "cell_type": "code",
   "execution_count": 38,
   "metadata": {},
   "outputs": [
    {
     "data": {
      "text/plain": [
       "{'id': 584861,\n",
       " 'question': 'what causes a rotator cuff tear',\n",
       " 'answer': 'Bleeding and inflammation.',\n",
       " 'context': \"Print. The rotator cuff is a group of muscles and tendons that surround the shoulder joint, keeping the head of your upper arm bone firmly within the shallow socket of the shoulder. A rotator cuff injury can cause a dull ache in the shoulder, which often worsens when you try to sleep on the involved side.he rotator cuff is a group of muscles and tendons that surround the shoulder joint, keeping the head of your upper arm bone firmly within the shallow socket of the shoulder. The rotator cuff is a group of muscles and tendons that surround the shoulder joint, keeping the head of your upper arm bone firmly within the shallow socket of the shoulder.A rotator cuff injury can cause a dull ache in the shoulder, which often worsens when you try to sleep on the involved side.he rotator cuff is a group of muscles and tendons that surround the shoulder joint, keeping the head of your upper arm bone firmly within the shallow socket of the shoulder. In a rotator cuff disorder, tendons that make up the rotator cuff get squeezed and rub against bone. They become damaged and irritated. This causes bleeding and inflammation.The tendons can develop scar tissue, which is not as strong and flexible as normal tendon tissue.n a rotator cuff disorder, tendons that make up the rotator cuff get squeezed and rub against bone. They become damaged and irritated. This causes bleeding and inflammation. Too much stress -- or too many fastballs -- can cause partial tears and swelling in the tendons of the rotator cuff. Abrupt stress may even cause one of the tendons to pull away from the bone or tear in the middle of the tendon.Rotator cuff tears are sometimes incorrectly called ''rotary cuff tears.''.ost rotator cuff tears develop gradually. But they also can happen suddenly -- you might feel a pop, intense pain, and weakness in the arm. To diagnose a rotator cuff tear, your doctor will give you a thorough physical exam. He or she will want you to move your arm in different directions to see what causes pain. The symptoms of a rotator cuff tear include: 1  Pain in the shoulder and arm, which varies depending on how serious the tear is. 2  Weakness and tenderness in the shoulder. 3  Difficulty moving the shoulder, especially when trying to lift your arm above your head. 4  Snapping or crackling sounds when moving the shoulder.ost rotator cuff tears develop gradually. But they also can happen suddenly -- you might feel a pop, intense pain, and weakness in the arm. To diagnose a rotator cuff tear, your doctor will give you a thorough physical exam. He or she will want you to move your arm in different directions to see what causes pain. Rotator Cuff Tears. A rotator cuff tear is a tear of one or more of the tendons of the four rotator cuff muscles. A rotator cuff injury can include any type of irritation or damage to the rotator cuff muscles or tendons.PubMed Health Glossary.he tendons of your rotator cuff can tear for a variety of reasons: 1  An injury, such as falling or being hit in the shoulder. 2  Overuse over time from repeated actions, such as lifting, painting, cleaning windows, or throwing. 3  Natural wear and tear from aging. The rotator cuff is a group of four muscles and tendons that closely surround the shoulder joint. Rotator cuff tears are very common. Most rotator cuff tears are caused by gradual wear of the tendon material as we age.he rotator cuff is a group of four muscles and tendons that closely surround the shoulder joint. Rotator cuff tears are very common. Most rotator cuff tears are caused by gradual wear of the tendon material as we age. 1 Repetitive stress. 2  Repeating the same shoulder motions again and again can stress your rotator cuff muscles and tendons. 3  Baseball, tennis, rowing, and weightlifting are examples of sports activities that can put you at risk for overuse tears. 4  Many jobs and routine chores can cause overuse tears, as well.here is a lubricating sac called a bursa between the rotator cuff and the bone on top of your shoulder (acromion). The bursa allows the rotator cuff tendons to glide freely when you move your arm. When the rotator cuff tendons are injured or damaged, this bursa can also become inflamed and painful. The most common symptoms of a rotator cuff tear include: 1  Pain at rest and at night, particularly if lying on the affected shoulder. 2  Pain when lifting and lowering your arm or with specific movements. 3  Weakness when lifting or rotating your arm. 4  Crepitus or crackling sensation when moving your shoulder in certain positions.here is a lubricating sac called a bursa between the rotator cuff and the bone on top of your shoulder (acromion). The bursa allows the rotator cuff tendons to glide freely when you move your arm. When the rotator cuff tendons are injured or damaged, this bursa can also become inflamed and painful. Re-occurring degeneration and disorganization of the tendons of the rotator cuff can lead to small tears that do not properly heal. This results in a weakened tendon that is more susceptible to serious injuries. The shoulder is a complex joint in the body that is made up of a number of bones, tendons, and muscles.lthough overuse is the most common cause of rotator cuff injuries, other factors are associated with an increased risk of injury, including being male, being older, and having a history of shoulder injury or trauma. The shoulder is subject to other injuries besides rotator cuff tears, including tendinitis and bursitis.\",\n",
       " 'answer_start': 471,\n",
       " 'answer_end': 915}"
      ]
     },
     "execution_count": 38,
     "metadata": {},
     "output_type": "execute_result"
    }
   ],
   "source": [
    "dataset_train[0]"
   ]
  },
  {
   "cell_type": "code",
   "execution_count": 15,
   "metadata": {},
   "outputs": [
    {
     "data": {
      "text/plain": [
       "Dataset({\n",
       "    features: ['id', 'question', 'answer', 'context', 'answer_start', 'answer_end'],\n",
       "    num_rows: 301763\n",
       "})"
      ]
     },
     "execution_count": 15,
     "metadata": {},
     "output_type": "execute_result"
    }
   ],
   "source": [
    "dataset_train"
   ]
  },
  {
   "cell_type": "code",
   "execution_count": 29,
   "metadata": {},
   "outputs": [
    {
     "name": "stderr",
     "output_type": "stream",
     "text": [
      "                                                                     \r"
     ]
    }
   ],
   "source": [
    "tokenized_msmarco_train = dataset_train.map(preprocess_function, batched=True, remove_columns=dataset_train.column_names)"
   ]
  },
  {
   "cell_type": "code",
   "execution_count": 28,
   "metadata": {},
   "outputs": [
    {
     "name": "stderr",
     "output_type": "stream",
     "text": [
      "                                                                     \r"
     ]
    }
   ],
   "source": [
    "tokenized_msmarco_val=dataset_valid.map(preprocess_function, batched=True, remove_columns=dataset_valid.column_names)"
   ]
  },
  {
   "cell_type": "code",
   "execution_count": 30,
   "metadata": {},
   "outputs": [],
   "source": [
    "data_collator = transformers.DefaultDataCollator()"
   ]
  },
  {
   "cell_type": "code",
   "execution_count": 31,
   "metadata": {},
   "outputs": [
    {
     "name": "stderr",
     "output_type": "stream",
     "text": [
      "Some weights of the model checkpoint at roberta-base were not used when initializing RobertaForQuestionAnswering: ['lm_head.layer_norm.weight', 'lm_head.dense.bias', 'lm_head.decoder.weight', 'lm_head.bias', 'lm_head.layer_norm.bias', 'lm_head.dense.weight']\n",
      "- This IS expected if you are initializing RobertaForQuestionAnswering from the checkpoint of a model trained on another task or with another architecture (e.g. initializing a BertForSequenceClassification model from a BertForPreTraining model).\n",
      "- This IS NOT expected if you are initializing RobertaForQuestionAnswering from the checkpoint of a model that you expect to be exactly identical (initializing a BertForSequenceClassification model from a BertForSequenceClassification model).\n",
      "Some weights of RobertaForQuestionAnswering were not initialized from the model checkpoint at roberta-base and are newly initialized: ['qa_outputs.bias', 'qa_outputs.weight']\n",
      "You should probably TRAIN this model on a down-stream task to be able to use it for predictions and inference.\n"
     ]
    }
   ],
   "source": [
    "model = transformers.AutoModelForQuestionAnswering.from_pretrained(model_name)"
   ]
  },
  {
   "cell_type": "code",
   "execution_count": 32,
   "metadata": {},
   "outputs": [
    {
     "name": "stderr",
     "output_type": "stream",
     "text": [
      "Cloning https://huggingface.co/damapika/roberta-base_ms-marco_mod into local empty directory.\n",
      "Download file pytorch_model.bin:   0%|          | 316k/473M [00:01<26:14, 315kB/s]\n",
      "\u001b[A\n",
      "\n",
      "\u001b[A\u001b[A\n",
      "\n",
      "\n",
      "\u001b[A\u001b[A\u001b[A\n",
      "\n",
      "\n",
      "\n",
      "\u001b[A\u001b[A\u001b[A\u001b[A\n",
      "\n",
      "\n",
      "\n",
      "\n",
      "\u001b[A\u001b[A\u001b[A\u001b[A\u001b[A\n",
      "\n",
      "\n",
      "\n",
      "\n",
      "\n",
      "\u001b[A\u001b[A\u001b[A\u001b[A\u001b[A\u001b[A\n",
      "\n",
      "\n",
      "\n",
      "\n",
      "\n",
      "\n",
      "\u001b[A\u001b[A\u001b[A\u001b[A\u001b[A\u001b[A\u001b[A\n",
      "\n",
      "\n",
      "\n",
      "\n",
      "\n",
      "\n",
      "\n",
      "\u001b[A\u001b[A\u001b[A\u001b[A\u001b[A\u001b[A\u001b[A\u001b[A\n",
      "\n",
      "\n",
      "\n",
      "\n",
      "\n",
      "\n",
      "\n",
      "\n",
      "\u001b[A\u001b[A\u001b[A\u001b[A\u001b[A\u001b[A\u001b[A\u001b[A\u001b[A\n",
      "\n",
      "\n",
      "\n",
      "\n",
      "\n",
      "\n",
      "\n",
      "\n",
      "\n",
      "\u001b[A\u001b[A\u001b[A\u001b[A\u001b[A\u001b[A\u001b[A\u001b[A\u001b[A\u001b[A\n",
      "\n",
      "\n",
      "\n",
      "\n",
      "\n",
      "\n",
      "\n",
      "\n",
      "\n",
      "\n",
      "\u001b[A\u001b[A\u001b[A\u001b[A\u001b[A\u001b[A\u001b[A\u001b[A\u001b[A\u001b[A\u001b[A\n",
      "\n",
      "\n",
      "\n",
      "\n",
      "\n",
      "\n",
      "\n",
      "\n",
      "\n",
      "\n",
      "\n",
      "\u001b[A\u001b[A\u001b[A\u001b[A\u001b[A\u001b[A\u001b[A\u001b[A\u001b[A\u001b[A\u001b[A\u001b[A\n",
      "\n",
      "\n",
      "\n",
      "\n",
      "\n",
      "\n",
      "\n",
      "\n",
      "\n",
      "\n",
      "\n",
      "\n",
      "\u001b[A\u001b[A\u001b[A\u001b[A\u001b[A\u001b[A\u001b[A\u001b[A\u001b[A\u001b[A\u001b[A\u001b[A\u001b[A\n",
      "\n",
      "\n",
      "\n",
      "\n",
      "\n",
      "\n",
      "\n",
      "\n",
      "\n",
      "\n",
      "\n",
      "\n",
      "\n",
      "\u001b[A\u001b[A\u001b[A\u001b[A\u001b[A\u001b[A\u001b[A\u001b[A\u001b[A\u001b[A\u001b[A\u001b[A\u001b[A\u001b[A\n",
      "\n",
      "\n",
      "\n",
      "\n",
      "\n",
      "\n",
      "\n",
      "\n",
      "\n",
      "\n",
      "\n",
      "\n",
      "\n",
      "\n",
      "\u001b[A\u001b[A\u001b[A\u001b[A\u001b[A\u001b[A\u001b[A\u001b[A\u001b[A\u001b[A\u001b[A\u001b[A\u001b[A\u001b[A\u001b[A\n",
      "\n",
      "\n",
      "\n",
      "\n",
      "\n",
      "\n",
      "\n",
      "\n",
      "\n",
      "\n",
      "\n",
      "\n",
      "\n",
      "\n",
      "\n",
      "\u001b[A\u001b[A\u001b[A\u001b[A\u001b[A\u001b[A\u001b[A\u001b[A\u001b[A\u001b[A\u001b[A\u001b[A\u001b[A\u001b[A\u001b[A\u001b[A\n",
      "\n",
      "\n",
      "\n",
      "\n",
      "\n",
      "\n",
      "\n",
      "\n",
      "\n",
      "\n",
      "\n",
      "\n",
      "\n",
      "\n",
      "\n",
      "\n",
      "\u001b[A\u001b[A\u001b[A\u001b[A\u001b[A\u001b[A\u001b[A\u001b[A\u001b[A\u001b[A\u001b[A\u001b[A\u001b[A\u001b[A\u001b[A\u001b[A\u001b[A\n",
      "\n",
      "\n",
      "\n",
      "\n",
      "\n",
      "\n",
      "\n",
      "\n",
      "\n",
      "\n",
      "\n",
      "\n",
      "\n",
      "\n",
      "\n",
      "\n",
      "\n",
      "Download file pytorch_model.bin: 100%|██████████| 473M/473M [00:41<00:00, 2.70MB/s] \n",
      "\n",
      "\n",
      "\n",
      "\n",
      "\n",
      "\n",
      "\n",
      "\n",
      "\n",
      "\n",
      "\n",
      "\n",
      "\n",
      "\n",
      "\n",
      "\n",
      "\n",
      "\n",
      "Download file pytorch_model.bin: 100%|██████████| 473M/473M [00:41<00:00, 12.1MB/s]\n",
      "Download file runs/May07_13-55-06_Damapika/1683460517.993868/events.out.tfevents.1683460517.Damapika.2380.1: 100%|██████████| 5.75k/5.75k [00:40<?, ?B/s]\n",
      "\n",
      "\u001b[A\n",
      "Download file runs/May07_14-08-07_Damapika/events.out.tfevents.1683461308.Damapika.23752.0: 100%|██████████| 25.1k/25.1k [00:40<00:00, 206B/s]\n",
      "\n",
      "\n",
      "\u001b[A\u001b[A\n",
      "\n",
      "Download file runs/May07_14-08-07_Damapika/1683461308.6727445/events.out.tfevents.1683461308.Damapika.23752.1: 100%|██████████| 5.75k/5.75k [00:40<?, ?B/s]\n",
      "\n",
      "\n",
      "\n",
      "\u001b[A\u001b[A\u001b[A\n",
      "\n",
      "\n",
      "Download file runs/May06_22-53-09_Damapika/1683406413.8428237/events.out.tfevents.1683406413.Damapika.7792.1: 100%|██████████| 5.75k/5.75k [00:40<?, ?B/s]\n",
      "\n",
      "\n",
      "\n",
      "\n",
      "\u001b[A\u001b[A\u001b[A\u001b[A\n",
      "\n",
      "\n",
      "\n",
      "Download file runs/May06_22-58-42_Damapika/1683406732.2545035/events.out.tfevents.1683406732.Damapika.7792.3: 100%|██████████| 5.75k/5.75k [00:40<?, ?B/s]\n",
      "\n",
      "\n",
      "\n",
      "\n",
      "\n",
      "\u001b[A\u001b[A\u001b[A\u001b[A\u001b[A\n",
      "\n",
      "\n",
      "\n",
      "\n",
      "Download file runs/May07_13-55-06_Damapika/events.out.tfevents.1683460517.Damapika.2380.0: 100%|██████████| 7.80k/7.80k [00:40<?, ?B/s]\n",
      "\n",
      "\n",
      "\n",
      "\n",
      "\n",
      "\n",
      "\u001b[A\u001b[A\u001b[A\u001b[A\u001b[A\u001b[A\n",
      "\n",
      "\n",
      "\n",
      "\n",
      "\n",
      "Download file runs/May07_13-55-06_Damapika/1683460600.1665566/events.out.tfevents.1683460600.Damapika.2380.2: 100%|██████████| 5.75k/5.75k [00:40<?, ?B/s]\n",
      "\n",
      "\n",
      "\n",
      "\n",
      "\n",
      "\n",
      "\n",
      "\u001b[A\u001b[A\u001b[A\u001b[A\u001b[A\u001b[A\u001b[A\n",
      "\n",
      "\n",
      "\n",
      "\n",
      "\n",
      "\n",
      "Download file runs/May06_22-58-42_Damapika/events.out.tfevents.1683406732.Damapika.7792.2: 100%|██████████| 3.94k/3.94k [00:40<?, ?B/s]\n",
      "\n",
      "\n",
      "\n",
      "\n",
      "\n",
      "\n",
      "\n",
      "\n",
      "\u001b[A\u001b[A\u001b[A\u001b[A\u001b[A\u001b[A\u001b[A\u001b[A\n",
      "\n",
      "\n",
      "\n",
      "\n",
      "\n",
      "\n",
      "\n",
      "Download file runs/May06_22-53-09_Damapika/events.out.tfevents.1683406413.Damapika.7792.0: 100%|██████████| 3.94k/3.94k [00:40<?, ?B/s]\n",
      "\n",
      "\n",
      "\n",
      "\n",
      "\n",
      "\n",
      "\n",
      "\n",
      "\n",
      "\u001b[A\u001b[A\u001b[A\u001b[A\u001b[A\u001b[A\u001b[A\u001b[A\u001b[A\n",
      "\n",
      "\n",
      "\n",
      "\n",
      "\n",
      "\n",
      "\n",
      "\n",
      "Download file training_args.bin: 100%|██████████| 3.56k/3.56k [00:40<?, ?B/s]\n",
      "\n",
      "\n",
      "\n",
      "\n",
      "\n",
      "\n",
      "\n",
      "\n",
      "\n",
      "\n",
      "\u001b[A\u001b[A\u001b[A\u001b[A\u001b[A\u001b[A\u001b[A\u001b[A\u001b[A\u001b[A\n",
      "\n",
      "\n",
      "\n",
      "\n",
      "\n",
      "\n",
      "\n",
      "\n",
      "\n",
      "Clean file training_args.bin: 100%|██████████| 3.56k/3.56k [00:40<00:00, 65.2B/s]\n",
      "\n",
      "\n",
      "\n",
      "\n",
      "\n",
      "\n",
      "\n",
      "\n",
      "\n",
      "\n",
      "\n",
      "\u001b[A\u001b[A\u001b[A\u001b[A\u001b[A\u001b[A\u001b[A\u001b[A\u001b[A\u001b[A\u001b[A\n",
      "\n",
      "\n",
      "\n",
      "\n",
      "\n",
      "\n",
      "\n",
      "\n",
      "\n",
      "\n",
      "Clean file runs/May07_13-55-06_Damapika/1683460517.993868/events.out.tfevents.1683460517.Damapika.2380.1: 100%|██████████| 5.75k/5.75k [00:40<00:00, 121B/s]\n",
      "\n",
      "\n",
      "\n",
      "\n",
      "\n",
      "\n",
      "\n",
      "\n",
      "\n",
      "\n",
      "\n",
      "\n",
      "\u001b[A\u001b[A\u001b[A\u001b[A\u001b[A\u001b[A\u001b[A\u001b[A\u001b[A\u001b[A\u001b[A\u001b[A\n",
      "\n",
      "\n",
      "\n",
      "\n",
      "\n",
      "\n",
      "\n",
      "\n",
      "\n",
      "\n",
      "\n",
      "Clean file runs/May07_14-08-07_Damapika/1683461308.6727445/events.out.tfevents.1683461308.Damapika.23752.1: 100%|██████████| 5.75k/5.75k [00:40<00:00, 121B/s]\n",
      "\n",
      "\n",
      "\n",
      "\n",
      "\n",
      "\n",
      "\n",
      "\n",
      "\n",
      "\n",
      "\n",
      "\n",
      "\n",
      "\u001b[A\u001b[A\u001b[A\u001b[A\u001b[A\u001b[A\u001b[A\u001b[A\u001b[A\u001b[A\u001b[A\u001b[A\u001b[A\n",
      "\n",
      "\n",
      "\n",
      "\n",
      "\n",
      "\n",
      "\n",
      "\n",
      "\n",
      "\n",
      "\n",
      "\n",
      "Clean file runs/May06_22-53-09_Damapika/1683406413.8428237/events.out.tfevents.1683406413.Damapika.7792.1: 100%|██████████| 5.75k/5.75k [00:40<00:00, 121B/s]\n",
      "\n",
      "\n",
      "\n",
      "\n",
      "\n",
      "\n",
      "\n",
      "\n",
      "\n",
      "\n",
      "\n",
      "\n",
      "\n",
      "\n",
      "\u001b[A\u001b[A\u001b[A\u001b[A\u001b[A\u001b[A\u001b[A\u001b[A\u001b[A\u001b[A\u001b[A\u001b[A\u001b[A\u001b[A\n",
      "\n",
      "\n",
      "\n",
      "\n",
      "\n",
      "\n",
      "\n",
      "\n",
      "\n",
      "\n",
      "\n",
      "\n",
      "\n",
      "Clean file runs/May06_22-58-42_Damapika/1683406732.2545035/events.out.tfevents.1683406732.Damapika.7792.3: 100%|██████████| 5.75k/5.75k [00:40<00:00, 121B/s]\n",
      "\n",
      "\n",
      "\n",
      "\n",
      "\n",
      "\n",
      "\n",
      "\n",
      "\n",
      "\n",
      "\n",
      "\n",
      "\n",
      "\n",
      "\n",
      "\u001b[A\u001b[A\u001b[A\u001b[A\u001b[A\u001b[A\u001b[A\u001b[A\u001b[A\u001b[A\u001b[A\u001b[A\u001b[A\u001b[A\u001b[A\n",
      "\n",
      "\n",
      "\n",
      "\n",
      "\n",
      "\n",
      "\n",
      "\n",
      "\n",
      "\n",
      "\n",
      "\n",
      "\n",
      "\n",
      "Clean file runs/May07_13-55-06_Damapika/events.out.tfevents.1683460517.Damapika.2380.0: 100%|██████████| 7.80k/7.80k [00:40<00:00, 173B/s]\n",
      "\n",
      "\n",
      "\n",
      "\n",
      "\n",
      "\n",
      "\n",
      "\n",
      "\n",
      "\n",
      "\n",
      "\n",
      "\n",
      "\n",
      "\n",
      "\n",
      "\u001b[A\u001b[A\u001b[A\u001b[A\u001b[A\u001b[A\u001b[A\u001b[A\u001b[A\u001b[A\u001b[A\u001b[A\u001b[A\u001b[A\u001b[A\u001b[A\n",
      "\n",
      "\n",
      "\n",
      "\n",
      "\n",
      "\n",
      "\n",
      "\n",
      "\n",
      "\n",
      "\n",
      "\n",
      "\n",
      "\n",
      "\n",
      "Clean file runs/May07_13-55-06_Damapika/1683460600.1665566/events.out.tfevents.1683460600.Damapika.2380.2: 100%|██████████| 5.75k/5.75k [00:40<00:00, 121B/s]\n",
      "\n",
      "\n",
      "\n",
      "\n",
      "\n",
      "\n",
      "\n",
      "\n",
      "\n",
      "\n",
      "\n",
      "\n",
      "\n",
      "\n",
      "\n",
      "\n",
      "\n",
      "\u001b[A\u001b[A\u001b[A\u001b[A\u001b[A\u001b[A\u001b[A\u001b[A\u001b[A\u001b[A\u001b[A\u001b[A\u001b[A\u001b[A\u001b[A\u001b[A\u001b[A\n",
      "\n",
      "\n",
      "\n",
      "\n",
      "\n",
      "\n",
      "\n",
      "\n",
      "\n",
      "\n",
      "\n",
      "\n",
      "\n",
      "\n",
      "\n",
      "\n",
      "Clean file runs/May07_14-08-07_Damapika/events.out.tfevents.1683461308.Damapika.23752.0: 100%|██████████| 25.1k/25.1k [00:40<00:00, 613B/s]\n",
      "Clean file runs/May06_22-58-42_Damapika/events.out.tfevents.1683406732.Damapika.7792.2: 100%|██████████| 3.94k/3.94k [00:40<00:00, 75.0B/s]\n",
      "Clean file runs/May06_22-53-09_Damapika/events.out.tfevents.1683406413.Damapika.7792.0: 100%|██████████| 3.94k/3.94k [00:40<00:00, 75.0B/s]\n",
      "\n",
      "\u001b[A\n",
      "Clean file pytorch_model.bin: 100%|██████████| 473M/473M [00:20<00:00, 24.7MB/s]\n"
     ]
    }
   ],
   "source": [
    "training_args = transformers.TrainingArguments(\n",
    "    output_dir=models_dir,\n",
    "    evaluation_strategy=\"epoch\",\n",
    "    learning_rate=learning_rate,\n",
    "    per_device_train_batch_size=16,\n",
    "    per_device_eval_batch_size=16,\n",
    "    num_train_epochs=num_epochs,\n",
    "    weight_decay=0.01,\n",
    "    push_to_hub=True,\n",
    ")\n",
    "\n",
    "trainer = transformers.Trainer(\n",
    "    model=model,\n",
    "    args=training_args,\n",
    "    train_dataset=tokenized_msmarco_train,\n",
    "    eval_dataset=tokenized_msmarco_val,\n",
    "    tokenizer=tokenizer,\n",
    "    data_collator=data_collator,\n",
    ")"
   ]
  },
  {
   "cell_type": "code",
   "execution_count": 33,
   "metadata": {},
   "outputs": [
    {
     "name": "stderr",
     "output_type": "stream",
     "text": [
      "c:\\Users\\dama_\\AppData\\Local\\Programs\\Python\\Python311\\Lib\\site-packages\\transformers\\optimization.py:391: FutureWarning: This implementation of AdamW is deprecated and will be removed in a future version. Use the PyTorch implementation torch.optim.AdamW instead, or set `no_deprecation_warning=True` to disable this warning\n",
      "  warnings.warn(\n",
      "Failed to detect the name of this notebook, you can set it manually with the WANDB_NOTEBOOK_NAME environment variable to enable code saving.\n",
      "\u001b[34m\u001b[1mwandb\u001b[0m: Currently logged in as: \u001b[33mdamapika\u001b[0m. Use \u001b[1m`wandb login --relogin`\u001b[0m to force relogin\n"
     ]
    },
    {
     "data": {
      "text/html": [
       "Tracking run with wandb version 0.15.2"
      ],
      "text/plain": [
       "<IPython.core.display.HTML object>"
      ]
     },
     "metadata": {},
     "output_type": "display_data"
    },
    {
     "data": {
      "text/html": [
       "Run data is saved locally in <code>e:\\HOGENT\\2022_2023\\BA\\BP_Info_Support\\bert\\wandb\\run-20230513_102825-7746e31y</code>"
      ],
      "text/plain": [
       "<IPython.core.display.HTML object>"
      ]
     },
     "metadata": {},
     "output_type": "display_data"
    },
    {
     "data": {
      "text/html": [
       "Syncing run <strong><a href='https://wandb.ai/damapika/huggingface/runs/7746e31y' target=\"_blank\">flowing-galaxy-18</a></strong> to <a href='https://wandb.ai/damapika/huggingface' target=\"_blank\">Weights & Biases</a> (<a href='https://wandb.me/run' target=\"_blank\">docs</a>)<br/>"
      ],
      "text/plain": [
       "<IPython.core.display.HTML object>"
      ]
     },
     "metadata": {},
     "output_type": "display_data"
    },
    {
     "data": {
      "text/html": [
       " View project at <a href='https://wandb.ai/damapika/huggingface' target=\"_blank\">https://wandb.ai/damapika/huggingface</a>"
      ],
      "text/plain": [
       "<IPython.core.display.HTML object>"
      ]
     },
     "metadata": {},
     "output_type": "display_data"
    },
    {
     "data": {
      "text/html": [
       " View run at <a href='https://wandb.ai/damapika/huggingface/runs/7746e31y' target=\"_blank\">https://wandb.ai/damapika/huggingface/runs/7746e31y</a>"
      ],
      "text/plain": [
       "<IPython.core.display.HTML object>"
      ]
     },
     "metadata": {},
     "output_type": "display_data"
    },
    {
     "name": "stderr",
     "output_type": "stream",
     "text": [
      "  1%|▏         | 500/37722 [16:12<28:34:14,  2.76s/it]"
     ]
    },
    {
     "name": "stdout",
     "output_type": "stream",
     "text": [
      "{'loss': 4.4283, 'learning_rate': 2.9602354063941467e-05, 'epoch': 0.03}\n"
     ]
    },
    {
     "name": "stderr",
     "output_type": "stream",
     "text": [
      "  3%|▎         | 1000/37722 [38:54<28:12:42,  2.77s/it]"
     ]
    },
    {
     "name": "stdout",
     "output_type": "stream",
     "text": [
      "{'loss': 4.1017, 'learning_rate': 2.9204708127882934e-05, 'epoch': 0.05}\n"
     ]
    },
    {
     "name": "stderr",
     "output_type": "stream",
     "text": [
      "  4%|▍         | 1500/37722 [1:01:06<23:13:34,  2.31s/it]"
     ]
    },
    {
     "name": "stdout",
     "output_type": "stream",
     "text": [
      "{'loss': 3.951, 'learning_rate': 2.88070621918244e-05, 'epoch': 0.08}\n"
     ]
    },
    {
     "name": "stderr",
     "output_type": "stream",
     "text": [
      "  5%|▌         | 2000/37722 [1:13:05<6:58:36,  1.42it/s]  "
     ]
    },
    {
     "name": "stdout",
     "output_type": "stream",
     "text": [
      "{'loss': 3.8818, 'learning_rate': 2.8409416255765864e-05, 'epoch': 0.11}\n"
     ]
    },
    {
     "name": "stderr",
     "output_type": "stream",
     "text": [
      "  7%|▋         | 2500/37722 [1:19:23<6:50:50,  1.43it/s] "
     ]
    },
    {
     "name": "stdout",
     "output_type": "stream",
     "text": [
      "{'loss': 3.8779, 'learning_rate': 2.8011770319707334e-05, 'epoch': 0.13}\n"
     ]
    },
    {
     "name": "stderr",
     "output_type": "stream",
     "text": [
      "  8%|▊         | 3000/37722 [1:25:46<6:44:16,  1.43it/s] "
     ]
    },
    {
     "name": "stdout",
     "output_type": "stream",
     "text": [
      "{'loss': 3.8209, 'learning_rate': 2.76141243836488e-05, 'epoch': 0.16}\n"
     ]
    },
    {
     "name": "stderr",
     "output_type": "stream",
     "text": [
      "  9%|▉         | 3500/37722 [1:32:03<6:43:28,  1.41it/s] "
     ]
    },
    {
     "name": "stdout",
     "output_type": "stream",
     "text": [
      "{'loss': 3.8076, 'learning_rate': 2.7216478447590267e-05, 'epoch': 0.19}\n"
     ]
    },
    {
     "name": "stderr",
     "output_type": "stream",
     "text": [
      " 11%|█         | 4000/37722 [1:38:29<6:54:13,  1.36it/s] "
     ]
    },
    {
     "name": "stdout",
     "output_type": "stream",
     "text": [
      "{'loss': 3.7648, 'learning_rate': 2.6818832511531734e-05, 'epoch': 0.21}\n"
     ]
    },
    {
     "name": "stderr",
     "output_type": "stream",
     "text": [
      " 12%|█▏        | 4500/37722 [1:45:07<6:25:22,  1.44it/s] "
     ]
    },
    {
     "name": "stdout",
     "output_type": "stream",
     "text": [
      "{'loss': 3.7455, 'learning_rate': 2.64211865754732e-05, 'epoch': 0.24}\n"
     ]
    },
    {
     "name": "stderr",
     "output_type": "stream",
     "text": [
      " 13%|█▎        | 5000/37722 [1:51:38<6:58:24,  1.30it/s] "
     ]
    },
    {
     "name": "stdout",
     "output_type": "stream",
     "text": [
      "{'loss': 3.7474, 'learning_rate': 2.6023540639414667e-05, 'epoch': 0.27}\n"
     ]
    },
    {
     "name": "stderr",
     "output_type": "stream",
     "text": [
      " 15%|█▍        | 5500/37722 [1:58:25<6:42:13,  1.34it/s] "
     ]
    },
    {
     "name": "stdout",
     "output_type": "stream",
     "text": [
      "{'loss': 3.7625, 'learning_rate': 2.562589470335613e-05, 'epoch': 0.29}\n"
     ]
    },
    {
     "name": "stderr",
     "output_type": "stream",
     "text": [
      " 16%|█▌        | 6000/37722 [2:05:22<6:36:00,  1.34it/s] "
     ]
    },
    {
     "name": "stdout",
     "output_type": "stream",
     "text": [
      "{'loss': 3.7728, 'learning_rate': 2.5228248767297597e-05, 'epoch': 0.32}\n"
     ]
    },
    {
     "name": "stderr",
     "output_type": "stream",
     "text": [
      " 17%|█▋        | 6500/37722 [2:11:52<6:14:01,  1.39it/s] "
     ]
    },
    {
     "name": "stdout",
     "output_type": "stream",
     "text": [
      "{'loss': 3.7332, 'learning_rate': 2.4830602831239064e-05, 'epoch': 0.34}\n"
     ]
    },
    {
     "name": "stderr",
     "output_type": "stream",
     "text": [
      " 19%|█▊        | 7000/37722 [2:18:29<6:59:09,  1.22it/s] "
     ]
    },
    {
     "name": "stdout",
     "output_type": "stream",
     "text": [
      "{'loss': 3.708, 'learning_rate': 2.443295689518053e-05, 'epoch': 0.37}\n"
     ]
    },
    {
     "name": "stderr",
     "output_type": "stream",
     "text": [
      " 20%|█▉        | 7500/37722 [2:24:59<6:01:17,  1.39it/s] "
     ]
    },
    {
     "name": "stdout",
     "output_type": "stream",
     "text": [
      "{'loss': 3.6817, 'learning_rate': 2.4035310959122e-05, 'epoch': 0.4}\n"
     ]
    },
    {
     "name": "stderr",
     "output_type": "stream",
     "text": [
      " 21%|██        | 8000/37722 [2:31:27<5:56:03,  1.39it/s] "
     ]
    },
    {
     "name": "stdout",
     "output_type": "stream",
     "text": [
      "{'loss': 3.7119, 'learning_rate': 2.3637665023063467e-05, 'epoch': 0.42}\n"
     ]
    },
    {
     "name": "stderr",
     "output_type": "stream",
     "text": [
      " 23%|██▎       | 8500/37722 [2:38:01<6:06:16,  1.33it/s] "
     ]
    },
    {
     "name": "stdout",
     "output_type": "stream",
     "text": [
      "{'loss': 3.7066, 'learning_rate': 2.3240019087004934e-05, 'epoch': 0.45}\n"
     ]
    },
    {
     "name": "stderr",
     "output_type": "stream",
     "text": [
      " 24%|██▍       | 9000/37722 [2:44:45<5:45:43,  1.38it/s] "
     ]
    },
    {
     "name": "stdout",
     "output_type": "stream",
     "text": [
      "{'loss': 3.6937, 'learning_rate': 2.2842373150946397e-05, 'epoch': 0.48}\n"
     ]
    },
    {
     "name": "stderr",
     "output_type": "stream",
     "text": [
      " 25%|██▌       | 9500/37722 [2:51:36<6:55:42,  1.13it/s] "
     ]
    },
    {
     "name": "stdout",
     "output_type": "stream",
     "text": [
      "{'loss': 3.6698, 'learning_rate': 2.2444727214887864e-05, 'epoch': 0.5}\n"
     ]
    },
    {
     "name": "stderr",
     "output_type": "stream",
     "text": [
      " 27%|██▋       | 10000/37722 [2:58:25<5:30:35,  1.40it/s]"
     ]
    },
    {
     "name": "stdout",
     "output_type": "stream",
     "text": [
      "{'loss': 3.6692, 'learning_rate': 2.204708127882933e-05, 'epoch': 0.53}\n"
     ]
    },
    {
     "name": "stderr",
     "output_type": "stream",
     "text": [
      " 28%|██▊       | 10500/37722 [3:05:06<5:29:03,  1.38it/s] "
     ]
    },
    {
     "name": "stdout",
     "output_type": "stream",
     "text": [
      "{'loss': 3.6411, 'learning_rate': 2.1649435342770797e-05, 'epoch': 0.56}\n"
     ]
    },
    {
     "name": "stderr",
     "output_type": "stream",
     "text": [
      " 29%|██▉       | 11000/37722 [3:11:42<6:00:28,  1.24it/s] "
     ]
    },
    {
     "name": "stdout",
     "output_type": "stream",
     "text": [
      "{'loss': 3.6393, 'learning_rate': 2.1251789406712264e-05, 'epoch': 0.58}\n"
     ]
    },
    {
     "name": "stderr",
     "output_type": "stream",
     "text": [
      " 30%|███       | 11500/37722 [3:18:21<5:32:57,  1.31it/s] "
     ]
    },
    {
     "name": "stdout",
     "output_type": "stream",
     "text": [
      "{'loss': 3.6269, 'learning_rate': 2.085414347065373e-05, 'epoch': 0.61}\n"
     ]
    },
    {
     "name": "stderr",
     "output_type": "stream",
     "text": [
      " 32%|███▏      | 12000/37722 [3:24:54<5:10:18,  1.38it/s] "
     ]
    },
    {
     "name": "stdout",
     "output_type": "stream",
     "text": [
      "{'loss': 3.6599, 'learning_rate': 2.0456497534595197e-05, 'epoch': 0.64}\n"
     ]
    },
    {
     "name": "stderr",
     "output_type": "stream",
     "text": [
      " 33%|███▎      | 12500/37722 [3:31:23<5:04:14,  1.38it/s] "
     ]
    },
    {
     "name": "stdout",
     "output_type": "stream",
     "text": [
      "{'loss': 3.6506, 'learning_rate': 2.0058851598536663e-05, 'epoch': 0.66}\n"
     ]
    },
    {
     "name": "stderr",
     "output_type": "stream",
     "text": [
      " 34%|███▍      | 13000/37722 [3:37:53<4:56:55,  1.39it/s] "
     ]
    },
    {
     "name": "stdout",
     "output_type": "stream",
     "text": [
      "{'loss': 3.6232, 'learning_rate': 1.966120566247813e-05, 'epoch': 0.69}\n"
     ]
    },
    {
     "name": "stderr",
     "output_type": "stream",
     "text": [
      " 36%|███▌      | 13500/37722 [3:44:20<4:52:24,  1.38it/s] "
     ]
    },
    {
     "name": "stdout",
     "output_type": "stream",
     "text": [
      "{'loss': 3.6405, 'learning_rate': 1.9263559726419597e-05, 'epoch': 0.72}\n"
     ]
    },
    {
     "name": "stderr",
     "output_type": "stream",
     "text": [
      " 37%|███▋      | 14000/37722 [3:50:42<4:26:10,  1.49it/s] "
     ]
    },
    {
     "name": "stdout",
     "output_type": "stream",
     "text": [
      "{'loss': 3.6246, 'learning_rate': 1.8865913790361063e-05, 'epoch': 0.74}\n"
     ]
    },
    {
     "name": "stderr",
     "output_type": "stream",
     "text": [
      " 38%|███▊      | 14500/37722 [3:56:43<4:21:05,  1.48it/s] "
     ]
    },
    {
     "name": "stdout",
     "output_type": "stream",
     "text": [
      "{'loss': 3.6585, 'learning_rate': 1.846826785430253e-05, 'epoch': 0.77}\n"
     ]
    },
    {
     "name": "stderr",
     "output_type": "stream",
     "text": [
      " 40%|███▉      | 15000/37722 [4:02:45<4:14:50,  1.49it/s] "
     ]
    },
    {
     "name": "stdout",
     "output_type": "stream",
     "text": [
      "{'loss': 3.6049, 'learning_rate': 1.8070621918243997e-05, 'epoch': 0.8}\n"
     ]
    },
    {
     "name": "stderr",
     "output_type": "stream",
     "text": [
      " 41%|████      | 15500/37722 [4:08:47<4:09:24,  1.49it/s] "
     ]
    },
    {
     "name": "stdout",
     "output_type": "stream",
     "text": [
      "{'loss': 3.6627, 'learning_rate': 1.7672975982185463e-05, 'epoch': 0.82}\n"
     ]
    },
    {
     "name": "stderr",
     "output_type": "stream",
     "text": [
      " 42%|████▏     | 16000/37722 [4:14:49<4:03:14,  1.49it/s] "
     ]
    },
    {
     "name": "stdout",
     "output_type": "stream",
     "text": [
      "{'loss': 3.6189, 'learning_rate': 1.7275330046126927e-05, 'epoch': 0.85}\n"
     ]
    },
    {
     "name": "stderr",
     "output_type": "stream",
     "text": [
      " 44%|████▎     | 16500/37722 [4:20:50<3:57:27,  1.49it/s] "
     ]
    },
    {
     "name": "stdout",
     "output_type": "stream",
     "text": [
      "{'loss': 3.6079, 'learning_rate': 1.6877684110068393e-05, 'epoch': 0.87}\n"
     ]
    },
    {
     "name": "stderr",
     "output_type": "stream",
     "text": [
      " 45%|████▌     | 17000/37722 [4:26:52<3:52:29,  1.49it/s] "
     ]
    },
    {
     "name": "stdout",
     "output_type": "stream",
     "text": [
      "{'loss': 3.6234, 'learning_rate': 1.648003817400986e-05, 'epoch': 0.9}\n"
     ]
    },
    {
     "name": "stderr",
     "output_type": "stream",
     "text": [
      " 46%|████▋     | 17500/37722 [4:32:53<3:47:36,  1.48it/s] "
     ]
    },
    {
     "name": "stdout",
     "output_type": "stream",
     "text": [
      "{'loss': 3.6029, 'learning_rate': 1.608239223795133e-05, 'epoch': 0.93}\n"
     ]
    },
    {
     "name": "stderr",
     "output_type": "stream",
     "text": [
      " 48%|████▊     | 18000/37722 [4:38:53<3:40:42,  1.49it/s] "
     ]
    },
    {
     "name": "stdout",
     "output_type": "stream",
     "text": [
      "{'loss': 3.6369, 'learning_rate': 1.5684746301892797e-05, 'epoch': 0.95}\n"
     ]
    },
    {
     "name": "stderr",
     "output_type": "stream",
     "text": [
      " 49%|████▉     | 18500/37722 [4:44:55<3:35:38,  1.49it/s] "
     ]
    },
    {
     "name": "stdout",
     "output_type": "stream",
     "text": [
      "{'loss': 3.5498, 'learning_rate': 1.5287100365834263e-05, 'epoch': 0.98}\n"
     ]
    },
    {
     "name": "stderr",
     "output_type": "stream",
     "text": [
      "                                                          \n",
      " 50%|█████     | 18861/37722 [5:10:57<2:51:49,  1.83it/s]"
     ]
    },
    {
     "name": "stdout",
     "output_type": "stream",
     "text": [
      "{'eval_loss': 3.5602710247039795, 'eval_runtime': 1293.7999, 'eval_samples_per_second': 77.746, 'eval_steps_per_second': 4.859, 'epoch': 1.0}\n"
     ]
    },
    {
     "name": "stderr",
     "output_type": "stream",
     "text": [
      " 50%|█████     | 19000/37722 [5:12:30<3:30:00,  1.49it/s]    "
     ]
    },
    {
     "name": "stdout",
     "output_type": "stream",
     "text": [
      "{'loss': 3.5663, 'learning_rate': 1.4889454429775728e-05, 'epoch': 1.01}\n"
     ]
    },
    {
     "name": "stderr",
     "output_type": "stream",
     "text": [
      " 52%|█████▏    | 19500/37722 [5:18:32<3:23:59,  1.49it/s] "
     ]
    },
    {
     "name": "stdout",
     "output_type": "stream",
     "text": [
      "{'loss': 3.4926, 'learning_rate': 1.4491808493717195e-05, 'epoch': 1.03}\n"
     ]
    },
    {
     "name": "stderr",
     "output_type": "stream",
     "text": [
      " 53%|█████▎    | 20000/37722 [5:24:34<3:18:12,  1.49it/s] "
     ]
    },
    {
     "name": "stdout",
     "output_type": "stream",
     "text": [
      "{'loss': 3.4989, 'learning_rate': 1.4094162557658661e-05, 'epoch': 1.06}\n"
     ]
    },
    {
     "name": "stderr",
     "output_type": "stream",
     "text": [
      " 54%|█████▍    | 20500/37722 [5:30:35<3:12:51,  1.49it/s] "
     ]
    },
    {
     "name": "stdout",
     "output_type": "stream",
     "text": [
      "{'loss': 3.4977, 'learning_rate': 1.3696516621600126e-05, 'epoch': 1.09}\n"
     ]
    },
    {
     "name": "stderr",
     "output_type": "stream",
     "text": [
      " 56%|█████▌    | 21000/37722 [5:36:37<3:08:23,  1.48it/s] "
     ]
    },
    {
     "name": "stdout",
     "output_type": "stream",
     "text": [
      "{'loss': 3.499, 'learning_rate': 1.3298870685541595e-05, 'epoch': 1.11}\n"
     ]
    },
    {
     "name": "stderr",
     "output_type": "stream",
     "text": [
      " 57%|█████▋    | 21500/37722 [5:42:39<3:00:49,  1.50it/s] "
     ]
    },
    {
     "name": "stdout",
     "output_type": "stream",
     "text": [
      "{'loss': 3.5178, 'learning_rate': 1.2901224749483061e-05, 'epoch': 1.14}\n"
     ]
    },
    {
     "name": "stderr",
     "output_type": "stream",
     "text": [
      " 58%|█████▊    | 22000/37722 [5:48:40<2:55:55,  1.49it/s] "
     ]
    },
    {
     "name": "stdout",
     "output_type": "stream",
     "text": [
      "{'loss': 3.4858, 'learning_rate': 1.2503578813424528e-05, 'epoch': 1.17}\n"
     ]
    },
    {
     "name": "stderr",
     "output_type": "stream",
     "text": [
      " 60%|█████▉    | 22500/37722 [5:54:43<2:50:56,  1.48it/s] "
     ]
    },
    {
     "name": "stdout",
     "output_type": "stream",
     "text": [
      "{'loss': 3.4604, 'learning_rate': 1.2105932877365993e-05, 'epoch': 1.19}\n"
     ]
    },
    {
     "name": "stderr",
     "output_type": "stream",
     "text": [
      " 61%|██████    | 23000/37722 [6:00:45<2:44:33,  1.49it/s] "
     ]
    },
    {
     "name": "stdout",
     "output_type": "stream",
     "text": [
      "{'loss': 3.4937, 'learning_rate': 1.170828694130746e-05, 'epoch': 1.22}\n"
     ]
    },
    {
     "name": "stderr",
     "output_type": "stream",
     "text": [
      " 62%|██████▏   | 23500/37722 [6:06:47<2:39:20,  1.49it/s] "
     ]
    },
    {
     "name": "stdout",
     "output_type": "stream",
     "text": [
      "{'loss': 3.5157, 'learning_rate': 1.1310641005248928e-05, 'epoch': 1.25}\n"
     ]
    },
    {
     "name": "stderr",
     "output_type": "stream",
     "text": [
      " 64%|██████▎   | 24000/37722 [6:12:49<2:33:56,  1.49it/s] "
     ]
    },
    {
     "name": "stdout",
     "output_type": "stream",
     "text": [
      "{'loss': 3.4805, 'learning_rate': 1.0912995069190393e-05, 'epoch': 1.27}\n"
     ]
    },
    {
     "name": "stderr",
     "output_type": "stream",
     "text": [
      " 65%|██████▍   | 24500/37722 [6:18:50<2:28:13,  1.49it/s] "
     ]
    },
    {
     "name": "stdout",
     "output_type": "stream",
     "text": [
      "{'loss': 3.4846, 'learning_rate': 1.051534913313186e-05, 'epoch': 1.3}\n"
     ]
    },
    {
     "name": "stderr",
     "output_type": "stream",
     "text": [
      " 66%|██████▋   | 25000/37722 [6:24:51<2:22:32,  1.49it/s] "
     ]
    },
    {
     "name": "stdout",
     "output_type": "stream",
     "text": [
      "{'loss': 3.4874, 'learning_rate': 1.0117703197073326e-05, 'epoch': 1.33}\n"
     ]
    },
    {
     "name": "stderr",
     "output_type": "stream",
     "text": [
      " 68%|██████▊   | 25500/37722 [6:30:53<2:17:01,  1.49it/s] "
     ]
    },
    {
     "name": "stdout",
     "output_type": "stream",
     "text": [
      "{'loss': 3.4966, 'learning_rate': 9.720057261014793e-06, 'epoch': 1.35}\n"
     ]
    },
    {
     "name": "stderr",
     "output_type": "stream",
     "text": [
      " 69%|██████▉   | 26000/37722 [6:36:55<2:11:23,  1.49it/s] "
     ]
    },
    {
     "name": "stdout",
     "output_type": "stream",
     "text": [
      "{'loss': 3.5014, 'learning_rate': 9.32241132495626e-06, 'epoch': 1.38}\n"
     ]
    },
    {
     "name": "stderr",
     "output_type": "stream",
     "text": [
      " 70%|███████   | 26500/37722 [6:42:56<2:06:08,  1.48it/s] "
     ]
    },
    {
     "name": "stdout",
     "output_type": "stream",
     "text": [
      "{'loss': 3.4864, 'learning_rate': 8.924765388897726e-06, 'epoch': 1.41}\n"
     ]
    },
    {
     "name": "stderr",
     "output_type": "stream",
     "text": [
      " 72%|███████▏  | 27000/37722 [6:48:57<2:00:50,  1.48it/s] "
     ]
    },
    {
     "name": "stdout",
     "output_type": "stream",
     "text": [
      "{'loss': 3.4545, 'learning_rate': 8.527119452839193e-06, 'epoch': 1.43}\n"
     ]
    },
    {
     "name": "stderr",
     "output_type": "stream",
     "text": [
      " 73%|███████▎  | 27500/37722 [6:54:59<1:54:37,  1.49it/s] "
     ]
    },
    {
     "name": "stdout",
     "output_type": "stream",
     "text": [
      "{'loss': 3.4538, 'learning_rate': 8.129473516780658e-06, 'epoch': 1.46}\n"
     ]
    },
    {
     "name": "stderr",
     "output_type": "stream",
     "text": [
      " 74%|███████▍  | 28000/37722 [7:01:01<1:49:10,  1.48it/s] "
     ]
    },
    {
     "name": "stdout",
     "output_type": "stream",
     "text": [
      "{'loss': 3.4769, 'learning_rate': 7.731827580722124e-06, 'epoch': 1.48}\n"
     ]
    },
    {
     "name": "stderr",
     "output_type": "stream",
     "text": [
      " 76%|███████▌  | 28500/37722 [7:07:13<1:51:22,  1.38it/s] "
     ]
    },
    {
     "name": "stdout",
     "output_type": "stream",
     "text": [
      "{'loss': 3.4826, 'learning_rate': 7.334181644663592e-06, 'epoch': 1.51}\n"
     ]
    },
    {
     "name": "stderr",
     "output_type": "stream",
     "text": [
      " 77%|███████▋  | 29000/37722 [7:13:41<1:45:29,  1.38it/s] "
     ]
    },
    {
     "name": "stdout",
     "output_type": "stream",
     "text": [
      "{'loss': 3.5209, 'learning_rate': 6.9365357086050584e-06, 'epoch': 1.54}\n"
     ]
    },
    {
     "name": "stderr",
     "output_type": "stream",
     "text": [
      " 78%|███████▊  | 29500/37722 [7:20:10<1:39:53,  1.37it/s] "
     ]
    },
    {
     "name": "stdout",
     "output_type": "stream",
     "text": [
      "{'loss': 3.4611, 'learning_rate': 6.538889772546524e-06, 'epoch': 1.56}\n"
     ]
    },
    {
     "name": "stderr",
     "output_type": "stream",
     "text": [
      " 80%|███████▉  | 30000/37722 [7:26:39<1:34:09,  1.37it/s] "
     ]
    },
    {
     "name": "stdout",
     "output_type": "stream",
     "text": [
      "{'loss': 3.4329, 'learning_rate': 6.141243836487992e-06, 'epoch': 1.59}\n"
     ]
    },
    {
     "name": "stderr",
     "output_type": "stream",
     "text": [
      " 81%|████████  | 30500/37722 [7:33:07<1:27:47,  1.37it/s] "
     ]
    },
    {
     "name": "stdout",
     "output_type": "stream",
     "text": [
      "{'loss': 3.4485, 'learning_rate': 5.7435979004294575e-06, 'epoch': 1.62}\n"
     ]
    },
    {
     "name": "stderr",
     "output_type": "stream",
     "text": [
      " 82%|████████▏ | 31000/37722 [7:39:19<1:15:15,  1.49it/s] "
     ]
    },
    {
     "name": "stdout",
     "output_type": "stream",
     "text": [
      "{'loss': 3.4562, 'learning_rate': 5.345951964370924e-06, 'epoch': 1.64}\n"
     ]
    },
    {
     "name": "stderr",
     "output_type": "stream",
     "text": [
      " 84%|████████▎ | 31500/37722 [7:45:22<1:09:55,  1.48it/s] "
     ]
    },
    {
     "name": "stdout",
     "output_type": "stream",
     "text": [
      "{'loss': 3.4574, 'learning_rate': 4.948306028312391e-06, 'epoch': 1.67}\n"
     ]
    },
    {
     "name": "stderr",
     "output_type": "stream",
     "text": [
      " 85%|████████▍ | 32000/37722 [7:51:24<1:04:17,  1.48it/s] "
     ]
    },
    {
     "name": "stdout",
     "output_type": "stream",
     "text": [
      "{'loss': 3.4661, 'learning_rate': 4.5506600922538574e-06, 'epoch': 1.7}\n"
     ]
    },
    {
     "name": "stderr",
     "output_type": "stream",
     "text": [
      "Several commits (2) will be pushed upstream.\n",
      " 86%|████████▌ | 32500/37722 [7:57:26<58:31,  1.49it/s]   "
     ]
    },
    {
     "name": "stdout",
     "output_type": "stream",
     "text": [
      "{'loss': 3.4561, 'learning_rate': 4.153014156195324e-06, 'epoch': 1.72}\n"
     ]
    },
    {
     "name": "stderr",
     "output_type": "stream",
     "text": [
      " 87%|████████▋ | 33000/37722 [8:03:29<53:10,  1.48it/s]   "
     ]
    },
    {
     "name": "stdout",
     "output_type": "stream",
     "text": [
      "{'loss': 3.4909, 'learning_rate': 3.7553682201367903e-06, 'epoch': 1.75}\n"
     ]
    },
    {
     "name": "stderr",
     "output_type": "stream",
     "text": [
      "Several commits (2) will be pushed upstream.\n",
      " 89%|████████▉ | 33500/37722 [8:09:29<47:34,  1.48it/s]   "
     ]
    },
    {
     "name": "stdout",
     "output_type": "stream",
     "text": [
      "{'loss': 3.4548, 'learning_rate': 3.357722284078257e-06, 'epoch': 1.78}\n"
     ]
    },
    {
     "name": "stderr",
     "output_type": "stream",
     "text": [
      " 90%|█████████ | 34000/37722 [8:15:31<41:55,  1.48it/s]   "
     ]
    },
    {
     "name": "stdout",
     "output_type": "stream",
     "text": [
      "{'loss': 3.4396, 'learning_rate': 2.9600763480197236e-06, 'epoch': 1.8}\n"
     ]
    },
    {
     "name": "stderr",
     "output_type": "stream",
     "text": [
      " 91%|█████████▏| 34500/37722 [8:21:35<36:08,  1.49it/s]  "
     ]
    },
    {
     "name": "stdout",
     "output_type": "stream",
     "text": [
      "{'loss': 3.4879, 'learning_rate': 2.56243041196119e-06, 'epoch': 1.83}\n"
     ]
    },
    {
     "name": "stderr",
     "output_type": "stream",
     "text": [
      " 93%|█████████▎| 35000/37722 [8:27:36<30:31,  1.49it/s]  "
     ]
    },
    {
     "name": "stdout",
     "output_type": "stream",
     "text": [
      "{'loss': 3.4466, 'learning_rate': 2.164784475902656e-06, 'epoch': 1.86}\n"
     ]
    },
    {
     "name": "stderr",
     "output_type": "stream",
     "text": [
      " 94%|█████████▍| 35500/37722 [8:33:36<24:54,  1.49it/s]  "
     ]
    },
    {
     "name": "stdout",
     "output_type": "stream",
     "text": [
      "{'loss': 3.4689, 'learning_rate': 1.7671385398441229e-06, 'epoch': 1.88}\n"
     ]
    },
    {
     "name": "stderr",
     "output_type": "stream",
     "text": [
      "Several commits (2) will be pushed upstream.\n",
      " 95%|█████████▌| 36000/37722 [8:39:39<19:18,  1.49it/s]  "
     ]
    },
    {
     "name": "stdout",
     "output_type": "stream",
     "text": [
      "{'loss': 3.4744, 'learning_rate': 1.3694926037855893e-06, 'epoch': 1.91}\n"
     ]
    },
    {
     "name": "stderr",
     "output_type": "stream",
     "text": [
      " 97%|█████████▋| 36500/37722 [8:45:43<13:41,  1.49it/s]  "
     ]
    },
    {
     "name": "stdout",
     "output_type": "stream",
     "text": [
      "{'loss': 3.4421, 'learning_rate': 9.718466677270557e-07, 'epoch': 1.94}\n"
     ]
    },
    {
     "name": "stderr",
     "output_type": "stream",
     "text": [
      " 98%|█████████▊| 37000/37722 [8:51:43<08:07,  1.48it/s]  "
     ]
    },
    {
     "name": "stdout",
     "output_type": "stream",
     "text": [
      "{'loss': 3.4717, 'learning_rate': 5.742007316685224e-07, 'epoch': 1.96}\n"
     ]
    },
    {
     "name": "stderr",
     "output_type": "stream",
     "text": [
      " 99%|█████████▉| 37500/37722 [8:57:44<02:28,  1.49it/s]  "
     ]
    },
    {
     "name": "stdout",
     "output_type": "stream",
     "text": [
      "{'loss': 3.4253, 'learning_rate': 1.7655479560998888e-07, 'epoch': 1.99}\n"
     ]
    },
    {
     "name": "stderr",
     "output_type": "stream",
     "text": [
      "                                                       \n",
      "100%|██████████| 37722/37722 [9:22:17<00:00,  1.12it/s]"
     ]
    },
    {
     "name": "stdout",
     "output_type": "stream",
     "text": [
      "{'eval_loss': 3.535928964614868, 'eval_runtime': 1296.9223, 'eval_samples_per_second': 77.559, 'eval_steps_per_second': 4.848, 'epoch': 2.0}\n",
      "{'train_runtime': 33743.3362, 'train_samples_per_second': 17.886, 'train_steps_per_second': 1.118, 'train_loss': 3.5997305618706013, 'epoch': 2.0}\n"
     ]
    },
    {
     "name": "stderr",
     "output_type": "stream",
     "text": [
      "\n"
     ]
    },
    {
     "data": {
      "text/plain": [
       "TrainOutput(global_step=37722, training_loss=3.5997305618706013, metrics={'train_runtime': 33743.3362, 'train_samples_per_second': 17.886, 'train_steps_per_second': 1.118, 'train_loss': 3.5997305618706013, 'epoch': 2.0})"
      ]
     },
     "execution_count": 33,
     "metadata": {},
     "output_type": "execute_result"
    }
   ],
   "source": [
    "trainer.train()"
   ]
  },
  {
   "cell_type": "code",
   "execution_count": 34,
   "metadata": {},
   "outputs": [
    {
     "name": "stderr",
     "output_type": "stream",
     "text": [
      "Upload file pytorch_model.bin: 488MB [02:38, 5.71MB/s]                            To https://huggingface.co/damapika/roberta-base_ms-marco_mod\n",
      "   0adf892..e1722fe  main -> main\n",
      "\n",
      "Upload file pytorch_model.bin: 100%|██████████| 473M/473M [02:39<00:00, 3.12MB/s]\n",
      "Upload file runs/May13_10-26-56_Damapika/events.out.tfevents.1683966499.Damapika.32352.0: 100%|██████████| 16.5k/16.5k [02:39<00:00, 106B/s]  \n",
      "To https://huggingface.co/damapika/roberta-base_ms-marco_mod\n",
      "   e1722fe..76c582c  main -> main\n",
      "\n"
     ]
    },
    {
     "data": {
      "text/plain": [
       "'https://huggingface.co/damapika/roberta-base_ms-marco_mod/commit/e1722fefff5c4629cf75eea71e43b76643cc38d6'"
      ]
     },
     "execution_count": 34,
     "metadata": {},
     "output_type": "execute_result"
    }
   ],
   "source": [
    "trainer.push_to_hub()\n"
   ]
  },
  {
   "cell_type": "code",
   "execution_count": 2,
   "metadata": {},
   "outputs": [],
   "source": [
    "question = \"Who is Fyodor Dostoevsky?\"\n",
    "context = \"In the world of literature, there have been many authors who have gained a reputation for their ability to create complex characters. One such author is Fyodor Dostoevsky, a Russian novelist who wrote several influential works in the 19th century.\""
   ]
  },
  {
   "cell_type": "code",
   "execution_count": 3,
   "metadata": {},
   "outputs": [
    {
     "data": {
      "text/plain": [
       "{'score': 0.026595955714583397, 'start': 246, 'end': 247, 'answer': '.'}"
      ]
     },
     "execution_count": 3,
     "metadata": {},
     "output_type": "execute_result"
    }
   ],
   "source": [
    "question_answerer = transformers.pipeline(\"question-answering\", model=\"damapika/roberta-base_ms-marco_mod\")\n",
    "question_answerer(question=question, context=context)"
   ]
  }
 ],
 "metadata": {
  "kernelspec": {
   "display_name": "Python 3",
   "language": "python",
   "name": "python3"
  },
  "language_info": {
   "codemirror_mode": {
    "name": "ipython",
    "version": 3
   },
   "file_extension": ".py",
   "mimetype": "text/x-python",
   "name": "python",
   "nbconvert_exporter": "python",
   "pygments_lexer": "ipython3",
   "version": "3.11.1"
  },
  "orig_nbformat": 4
 },
 "nbformat": 4,
 "nbformat_minor": 2
}
