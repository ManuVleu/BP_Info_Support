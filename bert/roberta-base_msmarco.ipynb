{
 "cells": [
  {
   "cell_type": "code",
   "execution_count": 1,
   "metadata": {},
   "outputs": [
    {
     "name": "stderr",
     "output_type": "stream",
     "text": [
      "c:\\Users\\dama_\\AppData\\Local\\Programs\\Python\\Python311\\Lib\\site-packages\\tqdm\\auto.py:21: TqdmWarning: IProgress not found. Please update jupyter and ipywidgets. See https://ipywidgets.readthedocs.io/en/stable/user_install.html\n",
      "  from .autonotebook import tqdm as notebook_tqdm\n"
     ]
    }
   ],
   "source": [
    "import transformers \n",
    "import datasets\n",
    "import torch\n",
    "import logging\n",
    "import json\n",
    "import pandas as pd\n",
    "from torch.utils.data import Subset"
   ]
  },
  {
   "cell_type": "code",
   "execution_count": 2,
   "metadata": {},
   "outputs": [],
   "source": [
    "class MyDataset:\n",
    "    def __init__(self, data):\n",
    "        self.data = data\n",
    "\n",
    "    def __len__(self):\n",
    "        return len(self.data)\n",
    "\n",
    "    def __getitem__(self, index):\n",
    "        row = self.data[index]\n",
    "        return {\n",
    "            'id': row['id'],\n",
    "            'question': row['question'],\n",
    "            'answer': row['answer'],\n",
    "            'context': row['context'],\n",
    "            'answer_start': row['answer_start'],\n",
    "            'answer_end': row['answer_end']\n",
    "        }\n",
    "\n",
    "    def get(self, index):\n",
    "        return self.__getitem__(index)\n",
    "\n",
    "    def set(self, index, id=None, question=None, answer=None, context=None, answer_start=None, answer_end=None):\n",
    "        if id is not None:\n",
    "            self.data[index]['id'] = id\n",
    "        if question is not None:\n",
    "            self.data[index]['question'] = question\n",
    "        if answer is not None:\n",
    "            self.data[index]['answer'] = answer\n",
    "        if context is not None:\n",
    "            self.data[index]['context'] = context\n",
    "        if answer_start is not None:\n",
    "            self.data[index]['answer_start'] = answer_start\n",
    "        if answer_end is not None:\n",
    "            self.data[index]['answer_end'] = answer_end"
   ]
  },
  {
   "cell_type": "code",
   "execution_count": 3,
   "metadata": {},
   "outputs": [],
   "source": [
    "dataset=torch.load(\"../datasets/ms-marco_train_qa.pt\")"
   ]
  },
  {
   "cell_type": "code",
   "execution_count": 6,
   "metadata": {},
   "outputs": [
    {
     "data": {
      "text/plain": [
       "DatasetDict({\n",
       "    train: Dataset({\n",
       "        features: ['id', 'question', 'answer', 'context', 'answer_start', 'answer_end'],\n",
       "        num_rows: 301763\n",
       "    })\n",
       "    test: Dataset({\n",
       "        features: ['id', 'question', 'answer', 'context', 'answer_start', 'answer_end'],\n",
       "        num_rows: 201176\n",
       "    })\n",
       "})"
      ]
     },
     "execution_count": 6,
     "metadata": {},
     "output_type": "execute_result"
    }
   ],
   "source": [
    "dataset"
   ]
  },
  {
   "cell_type": "code",
   "execution_count": 5,
   "metadata": {},
   "outputs": [],
   "source": [
    "dataset=dataset.train_test_split(test_size=0.4)"
   ]
  },
  {
   "cell_type": "code",
   "execution_count": 7,
   "metadata": {},
   "outputs": [],
   "source": [
    "dataset_train=dataset['train']"
   ]
  },
  {
   "cell_type": "code",
   "execution_count": 12,
   "metadata": {},
   "outputs": [
    {
     "data": {
      "text/plain": [
       "{'id': 584861,\n",
       " 'question': 'what causes a rotator cuff tear',\n",
       " 'answer': 'Bleeding and inflammation.',\n",
       " 'context': \"Print. The rotator cuff is a group of muscles and tendons that surround the shoulder joint, keeping the head of your upper arm bone firmly within the shallow socket of the shoulder. A rotator cuff injury can cause a dull ache in the shoulder, which often worsens when you try to sleep on the involved side.he rotator cuff is a group of muscles and tendons that surround the shoulder joint, keeping the head of your upper arm bone firmly within the shallow socket of the shoulder. The rotator cuff is a group of muscles and tendons that surround the shoulder joint, keeping the head of your upper arm bone firmly within the shallow socket of the shoulder.A rotator cuff injury can cause a dull ache in the shoulder, which often worsens when you try to sleep on the involved side.he rotator cuff is a group of muscles and tendons that surround the shoulder joint, keeping the head of your upper arm bone firmly within the shallow socket of the shoulder. In a rotator cuff disorder, tendons that make up the rotator cuff get squeezed and rub against bone. They become damaged and irritated. This causes bleeding and inflammation.The tendons can develop scar tissue, which is not as strong and flexible as normal tendon tissue.n a rotator cuff disorder, tendons that make up the rotator cuff get squeezed and rub against bone. They become damaged and irritated. This causes bleeding and inflammation. Too much stress -- or too many fastballs -- can cause partial tears and swelling in the tendons of the rotator cuff. Abrupt stress may even cause one of the tendons to pull away from the bone or tear in the middle of the tendon.Rotator cuff tears are sometimes incorrectly called ''rotary cuff tears.''.ost rotator cuff tears develop gradually. But they also can happen suddenly -- you might feel a pop, intense pain, and weakness in the arm. To diagnose a rotator cuff tear, your doctor will give you a thorough physical exam. He or she will want you to move your arm in different directions to see what causes pain. The symptoms of a rotator cuff tear include: 1  Pain in the shoulder and arm, which varies depending on how serious the tear is. 2  Weakness and tenderness in the shoulder. 3  Difficulty moving the shoulder, especially when trying to lift your arm above your head. 4  Snapping or crackling sounds when moving the shoulder.ost rotator cuff tears develop gradually. But they also can happen suddenly -- you might feel a pop, intense pain, and weakness in the arm. To diagnose a rotator cuff tear, your doctor will give you a thorough physical exam. He or she will want you to move your arm in different directions to see what causes pain. Rotator Cuff Tears. A rotator cuff tear is a tear of one or more of the tendons of the four rotator cuff muscles. A rotator cuff injury can include any type of irritation or damage to the rotator cuff muscles or tendons.PubMed Health Glossary.he tendons of your rotator cuff can tear for a variety of reasons: 1  An injury, such as falling or being hit in the shoulder. 2  Overuse over time from repeated actions, such as lifting, painting, cleaning windows, or throwing. 3  Natural wear and tear from aging. The rotator cuff is a group of four muscles and tendons that closely surround the shoulder joint. Rotator cuff tears are very common. Most rotator cuff tears are caused by gradual wear of the tendon material as we age.he rotator cuff is a group of four muscles and tendons that closely surround the shoulder joint. Rotator cuff tears are very common. Most rotator cuff tears are caused by gradual wear of the tendon material as we age. 1 Repetitive stress. 2  Repeating the same shoulder motions again and again can stress your rotator cuff muscles and tendons. 3  Baseball, tennis, rowing, and weightlifting are examples of sports activities that can put you at risk for overuse tears. 4  Many jobs and routine chores can cause overuse tears, as well.here is a lubricating sac called a bursa between the rotator cuff and the bone on top of your shoulder (acromion). The bursa allows the rotator cuff tendons to glide freely when you move your arm. When the rotator cuff tendons are injured or damaged, this bursa can also become inflamed and painful. The most common symptoms of a rotator cuff tear include: 1  Pain at rest and at night, particularly if lying on the affected shoulder. 2  Pain when lifting and lowering your arm or with specific movements. 3  Weakness when lifting or rotating your arm. 4  Crepitus or crackling sensation when moving your shoulder in certain positions.here is a lubricating sac called a bursa between the rotator cuff and the bone on top of your shoulder (acromion). The bursa allows the rotator cuff tendons to glide freely when you move your arm. When the rotator cuff tendons are injured or damaged, this bursa can also become inflamed and painful. Re-occurring degeneration and disorganization of the tendons of the rotator cuff can lead to small tears that do not properly heal. This results in a weakened tendon that is more susceptible to serious injuries. The shoulder is a complex joint in the body that is made up of a number of bones, tendons, and muscles.lthough overuse is the most common cause of rotator cuff injuries, other factors are associated with an increased risk of injury, including being male, being older, and having a history of shoulder injury or trauma. The shoulder is subject to other injuries besides rotator cuff tears, including tendinitis and bursitis.\",\n",
       " 'answer_start': 471,\n",
       " 'answer_end': 915}"
      ]
     },
     "execution_count": 12,
     "metadata": {},
     "output_type": "execute_result"
    }
   ],
   "source": [
    "dataset_train[0]"
   ]
  },
  {
   "cell_type": "code",
   "execution_count": 8,
   "metadata": {},
   "outputs": [],
   "source": [
    "dataset=dataset['test'].train_test_split(test_size=0.5)"
   ]
  },
  {
   "cell_type": "code",
   "execution_count": 10,
   "metadata": {},
   "outputs": [],
   "source": [
    "dataset_valid=dataset['train']"
   ]
  },
  {
   "cell_type": "code",
   "execution_count": 11,
   "metadata": {},
   "outputs": [
    {
     "data": {
      "text/plain": [
       "{'id': 116924,\n",
       " 'question': 'define  etymological derivation',\n",
       " 'answer': 'The \\u200bstudy of the \\u200borigin and \\u200bhistory of words.',\n",
       " 'context': \"Online Language Dictionaries. English definition English thesaurus English-Spanish English-French English-Italian Spanish-English French-English Italian-English Espanol-Español Francais-Français Francais-Français Espanol-Español Espanol: español Portugues: português Portugues: português espanol... español espanol español definicion definición espanol español sinonimos sinónimos catala català definicio definició more etymology. n, pl-gies. 1. (Linguistics) the study of the sources and development of words and morphemes. 2. (Linguistics) an account of the source and development of a word or morpheme. [C14: via Latin from Greek etumologia; see etymon, -logy]. etymology noun [C or U]. › the \\u200bstudy of the \\u200borigin and \\u200bhistory of words, or a \\u200bstudy of this \\u200btype \\u200brelating to one \\u200bparticular word: At \\u200buniversity she \\u200bdeveloped an \\u200binterest in etymology. A \\u200blist of \\u200bselected words and \\u200btheir etymologies is \\u200bprinted at the back of the \\u200bbook. Noun. 1. etymology-a history of a word. account, chronicle, history, story-a record or narrative description of past events; a history of France; he gave an inaccurate account of the plot to kill the president; the story of exposure to lead. etymology noun [C/U]. › English the \\u200borigin and \\u200bhistory of a word or words, or the \\u200bstudy of word \\u200borigins. (Definition of etymology from the Cambridge Academic Content Dictionary © Cambridge University Press). This is a map of the wheel-ruts of modern English. Etymologies are not definitions; they're explanations of what our words meant and how they sounded 600 or 2,000 years ago. The dates beside a word indicate the earliest year for which there is a surviving written record of that word (in English, unless otherwise indicated). etymology. noun derivation, word history, development of words, history of words, origin of words The etymology of the word 'neon' is the Greek for 'new'. etymology. the branch of linguistics that studies the origin and history of words. — etymologist, n. — etymologie, etymological, adj. the study of the origin and history of individual words. et•y•mo•log•i•cal/ˌɛtəməˈlɑdʒɪkəl/USA pronunciation adj. et•y•mol•o•gist /ˌɛtəˈmɑlədʒɪst/USA pronunciation n. [countable]. 1  Linguistics the history of words or word elements[countable]a dictionary of etymology. 2  Linguistics[uncountable] the study of historical linguistic change in individual words. Collins Concise English Dictionary © HarperCollins Publishers:: etymology /ˌɛtɪˈmɒlədʒɪ/ n (pl-gies) the study of the sources and development of words and morphemes an account of the source and development of a word or morpheme Etymology: 14th Century: via Latin from Greek etumologia; see etymon, -logy.\",\n",
       " 'answer_start': 244,\n",
       " 'answer_end': 525}"
      ]
     },
     "execution_count": 11,
     "metadata": {},
     "output_type": "execute_result"
    }
   ],
   "source": [
    "dataset_valid[0]"
   ]
  },
  {
   "cell_type": "code",
   "execution_count": 13,
   "metadata": {},
   "outputs": [],
   "source": [
    "dataset_test=dataset['test']"
   ]
  },
  {
   "cell_type": "code",
   "execution_count": 18,
   "metadata": {},
   "outputs": [
    {
     "data": {
      "text/plain": [
       "Dataset({\n",
       "    features: ['id', 'question', 'answer', 'context', 'answer_start', 'answer_end'],\n",
       "    num_rows: 100588\n",
       "})"
      ]
     },
     "execution_count": 18,
     "metadata": {},
     "output_type": "execute_result"
    }
   ],
   "source": [
    "dataset_test"
   ]
  },
  {
   "cell_type": "code",
   "execution_count": 4,
   "metadata": {},
   "outputs": [],
   "source": [
    "squad=torch.load(\"../datasets/squad.pt\")"
   ]
  },
  {
   "cell_type": "code",
   "execution_count": 14,
   "metadata": {},
   "outputs": [
    {
     "data": {
      "text/plain": [
       "Dataset({\n",
       "    features: ['id', 'title', 'context', 'question', 'answers'],\n",
       "    num_rows: 87599\n",
       "})"
      ]
     },
     "execution_count": 14,
     "metadata": {},
     "output_type": "execute_result"
    }
   ],
   "source": [
    "squad['train']"
   ]
  },
  {
   "cell_type": "code",
   "execution_count": 23,
   "metadata": {},
   "outputs": [],
   "source": [
    "# calculate max context length for dataset\n",
    "def calc_max_len(dataset):\n",
    "  context_length_max=len(dataset[0]['context'])\n",
    "  for i in range(len(dataset)):\n",
    "    con_len=len(dataset[i]['context'])\n",
    "    if(con_len<context_length_max):\n",
    "      context_length_max=con_len\n",
    "      print(context_length_max)\n",
    "      print(dataset[i]['context'])\n",
    "  return context_length_max\n"
   ]
  },
  {
   "cell_type": "code",
   "execution_count": 24,
   "metadata": {},
   "outputs": [
    {
     "name": "stdout",
     "output_type": "stream",
     "text": [
      "5362\n",
      "Relevance. Rating Newest Oldest. Best Answer: SUCROSE is the scientific name of table sugar, is a disaccharide (glucose + fructose) with the molecular formula C12H22O11. Its systematic name is α-D-glucopyranosyl-(1→2)-β-D-fructofuran...It is best known for its role in human nutrition and is formed by plants but not by higher organisms.ts systematic name is α-D-glucopyranosyl-(1→2)-β-D-fructofuran... It is best known for its role in human nutrition and is formed by plants but not by higher organisms. Best Answer: SUCROSE is the scientific name of table sugar, is a disaccharide (glucose + fructose) with the molecular formula C12H22O11.Its systematic name is α-D-glucopyranosyl-(1→2)-β-D-fructofuran... It is best known for its role in human nutrition and is formed by plants but not by higher organisms.ts systematic name is α-D-glucopyranosyl-(1→2)-β-D-fructofuran... It is best known for its role in human nutrition and is formed by plants but not by higher organisms. Answer by Dudeboy3. Confidence votes 28. The name for the simplest sugar that is in our blood is glucose. There are many other kinds as they become more complex. Monosacchrides include glucose and fructose (from fruit), and then there are disacchrides such as table sugar and lactose (milk sugar).ny chemical species dissolved in water has a (water) formula at the end    for example, salt in water is NaCl(water)    The scientific name for solid sugar is C … 12H22O11    The formula for water is H2O    So the formula for sugar water is... While the scientific nomenclature of carbohydrates is complex, the names of the monosaccharides and disaccharides very often end in the suffix-ose. For example, grape sugar is the monosaccharide glucose, cane sugar is the disaccharide sucrose and milk sugar is the disaccharide lactose (see illustration).Carbohydrates perform numerous roles in living organisms.or example, grape sugar is the monosaccharide glucose, cane sugar is the disaccharide sucrose and milk sugar is the disaccharide lactose (see illustration). Carbohydrates perform numerous roles in living organisms.   The scientific name for the sugar glider is Petaurus breviceps     The sugar glider is a small mammal, specifically a marsupial.  Order: Diprodontia   Fami … ly: Petauridae   Genus Species: Petaurus (springboard used by acrobats) breviceps (short).ny chemical species dissolved in water has a (water) formula at the end    for example, salt in water is NaCl(water)    The scientific name for solid sugar is C … 12H22O11    The formula for water is H2O    So the formula for sugar water is... The most common names for sugar are: barley malt, corn syrup, dextrose, fruit juice concentrate, glucose, high-fructose corn syrup, maltodextrin, maltose, molasses, raw sugar, sucrose and turbinado sugar.Here’s a more complete sugar list with 69 sugar names.his list of sugar facts and sugar names will help you uncover the many hidden sugars that are tucked away everywhere in our food today. Biopolymers of sugars are common in nature. Through photosynthesis, plants produce glyceraldehyde-3-phosphate (G3P), a phosphated 3-carbon sugar that is used by the cell to make monosaccharides such as glucose (C 6H 12O 6) or (as in cane and beet) sucrose (C 12H 22O 11).n general, galactose does not occur in the free state but is a constituent with glucose of the disaccharide lactose or milk sugar. It is less sweet than glucose. It is a component of the antigens found on the surface of red blood cells that determine blood groups. A molecule of sucrose. Glucose and fructose are monosaccharide sugars. A monosaccharide is the smallest unit of sugar, mono meaning 1. Sucrose is commonly called table sugar and is a disaccharide. A disaccharide is a sugar that is made up of two sugar units, di meaning 2.Sucrose is produced as glucose and fructose are joined together by a condensation reaction.In the process a water molecule is eliminated. See the following equation.hese sugar molecules include glucose, sucrose, lactose, fructose, maltose, lactose and galactose. Sugar molecules are classified as monosaccharides or disaccharides. The following table lists the common sugar molecules are their chemical formula. Name. (2) Any sweet, crystalline solid disaccharide used as sweetener or preservative. Supplement. The term sugar is the generic term for any disachharides (e.g. sucrose) and monosaccharides (e.g. fructose, glucose). Sugars are essential structural component of living cells and source of energy in many organisms.2) Any sweet, crystalline solid disaccharide used as sweetener or preservative. Supplement. The term sugar is the generic term for any disachharides (e.g. sucrose) and monosaccharides (e.g. fructose, glucose). Sugars are essential structural component of living cells and source of energy in many organisms. The white stuff we know as sugar is sucrose, a molecule composed of 12 atoms of carbon, 22 atoms of hydrogen, and 11 atoms of oxygen (C12H22O11). Like all compounds made from these three elements, sugar is a carbohydrate.Its found naturally in most plants, but especially in sugarcane and sugar beetshence their names.ucrose is actually two simpler sugars stuck together: fructose and glucose. In recipes, a little bit of acid (for example, some lemon juice or cream of tartar) will cause sucrose to break down into these two components.\n",
      "3080\n",
      "Hoda, you are a partner and a friend and a sister, and I am so happy to be doing this. It marks the first time NBC's popular morning show has two female co-anchors. While NBC did not make public just how much Kotb would be earning with this new position — she is still co-hosting Today's fourth hour with Kathie Lee Gifford — many will likely be wondering if she'll be making as much money as Lauer had in that spot. NBC's Today show viewers got a delightful surprise on Tuesday morning, when Savannah Guthrie announced on the show that Hoda Kotb would be the show's new permanent co-host. NBC did not say whether its longtime journalist, whose net worth reportedly stood at $12 million towards the end of 2016, would be getting a raise, but Kotb's salary as a Today anchor might see a substantial increase. Kotb, in comparison, has an estimated net worth of $12 million, according to a 2016 report. Her net worth is only a portion of Lauer's yearly salary. Though she has worked for NBC since 1998, she's yet to become the sort of star whose salary negotiations receive press attention. Kotb was a respected anchor, but she never lorded over Today the way Lauer did. Which might be why her salary in 2018 won't hold a candle to Lauer's pile of cash. Advertisement At the time, Lauer's estimated salary from NBC was between $20-$25 million, making him the highest-paid anchor at the network. His firing from NBC put Megyn Kelly at the top, but it's unclear whether Kotb — or Guthrie, for that matter — will get a pay raise, especially since the Today show's ratings have soared in the wake of Lauer's ousting. An American nationality, Hoda was born in the year 1964 on 9th of August, which makes her 52 years old at this time. She was born in Norman, which lies in Oklahoma in the United States of America to her parents A.K Kotb and Samaha Kotb. Hoda Kotb’s salary for hosting the ‘Today’ show is reportedly much less than what Matt Lauer was making for the same gig. Here’s why she isn’t upset by the huge difference. Hoda Kotb, 53, has officially replaced Matt Lauer, 60, on the Today show — but for a salary that doesn’t even come close to her predecessor‘s. The new host will reportedly make a modest $7 million, according to Page Six. But at the same time, Hoda will also continue to host the 10 a.m. hour of the show with Kathie Lee Gifford, 64, so hopefully she’ll get closer to Matt’s salary considering she’s doing twice the work. Hoda Kotb Husband, Divorce, Boyfriend, Salary and Net Worth. Date: 23 Nov, 2014 Report This. The beautiful and talented Hoda Kotb is one of the most beloved news anchors, and Television shows host in the industry. She has dazzled everyone with her communication skills and demonstrated her marvelous work. Even if the gap between Kotb and Lauer's salary is ignored, what's harder to explain is the fact that $5 million is paltry in comparison to Megyn Kelly's reported $15 million salary. Even Ann Curry, at the time of her departure, made $12 million as Lauer's co-anchor. Kotb may be new to the 7:00 a.m. slot, but she is not new to NBC.\n",
      "2810\n",
      "Copyright 2015 © Howe Insurance Services. *The views, opinions and claims expressed in the videos on this website are intended to share the featured agents personal experiences in working with Howe Insurance Services, Ltd. A top-gun agent once said, Final expense is a simple business, but it ain't easy.. Selling final expense insurance can give you a great opportunity to succeed very well financially. I've known agents making between $200,000 to $300,000 a year. And they only work four or five days a week in the field. The smallest agencies in the revenue range of $500,000 and less had the lowest profit of 4.25 percent, while agencies in the largest revenue range of $3,000,001 and over had the highest profit of 10.00 percent. For comparison purposes, this profit percentage is calculated as a percentage of total revenues. If we look at the best performing “top 25 percent” of agencies for these same revenue ranges, the profit varies from 14.62 percent to 20.11 percent. For example the median expected annual pay for a typical Insurance Agent in the United States is $48,081, so 50% of the people who perform the job of Insurance Agent in the United States are expected to make less than $48,081. Source: HR Reported data as of March 31, 2017. Salary. Salary + Bonus. I've been at the top, AND at the bottom of the final expense business. As an agent selling final expense insurance, I average around $5,000 in new business weekly. I work four days a week, and enjoy the benefits of being a final expense agent. Often people wonder if Selling Final Expense Insurance is a Good Career fit for them. I worked on a salary my entire life but I'm now making more money with Howe Insurance Services than ever before.. Add in the effects of a soft market with reduced agency commissions and revenues, and the need for expense control is even more critical. According to the 2010-2011 Growth and Performance Standards (GPS) study, pre-tax agency profit varies from 4.25 percent to 10.00 percent, depending on agency size. New Final Expense Company Confidential 2. For Agent Training Use Only. ‏ The information contained in this presentation is for agent training. use only and may not be used as a sales tool or as a consumer. marketing piece. Only approved marketing pieces can be used. during a sales presentation. Marketing 101 for the Final Expense Agent. A.Covering the funeral home costs and cemetery fees. B.Not leaving a financial burden for the children. C. Leave a lasting memory, not a funeral/cemetery bill. Primary Purpose for Purchasing. Final Expense Insurance. Marketing 101 for the Final Expense Agent. A. Do NOT use the phone to make appointments. B. Goal is 50 stops per week, average 10 per day, 5 days per week. C. By comparison, a UPS driver in a city makes about 150 stops. per day!\n",
      "2793\n",
      "1 City of Lewisville Health Department Inspections: 2  Public health food safety, violations, retail or wholesale facilities, reports and enforcement. 3  Lewisville Crime Maps: 4  Mapping of Lewisville street locations of criminal reported activity from local law enforcement agencies. Account for ALL PERIODS OF UNEMPLOYMENT. 5. Application must be submitted to the Human Resources Department on or before the closing date of the position, or mailed to the City of Lewisville Human Resources Department, P.O. Box 299002, Lewisville, TX 75029-9002. Applications submitted or postmarked after the closing date will not be considered. Rawlins, Kealy, and Herod built a gristmill in Lewisville in 1862. Several stores were built, and by 1867 T. M. Clayton and George Craft built the first cotton gin in Denton County there. In 1868–69 the first church was built at Lewisville, and the first Masonic lodge of the county was housed there. Lewisville grew rapidly after the arrival of the Dallas and Wichita Railway in 1881. Request criminal records specific to the City of Lewisville, from law enforcement departments with access to the state's repository with official background check of arrests and convicted felonies. Access a directory aimed toward producing open public records and instant information available online. Lewisville /ˈljuː.ɪs.vɪl/ is a city in Denton County, Texas, United States. In The Spotlight. The annual Spooktacular Trails and Glow Run will be held on Saturday, October 24. This family fun event includes a digital costume contest, hayride, trick-or-treating, entertainment, activities, and the Glow Run 5k and Monster Mile. 1  Latest News. 2  Upcoming Events. 1 City of Lewisville Court Records: 2  Criminal cases, civil filings, divorces, bankruptcy and judgments. 3  City of Lewisville Official Website: 4  Government department official public web-portal. 5  City of Lewisville Municipal Codes: 6  City ordinances governing cities, villages, parishes and jurisdictions below state level. LEWISVILLE, TEXAS (Denton County). Lewisville is nine miles northeast of the Dallas-Fort Worth International Airport qv in southeastern Denton County, ringed by Dallas, Fort Worth, and Denton. The site was part of the Peters colony. Mission: To ensure that your tax dollars are accurately and efficiently collected with the utmost integrity and honesty. Goal: To exceed your expectations by ensuring the highest level of service possible using technology, tools and services to assist our taxpayers in transacting business with our office. Look up recorded information of Lewisville, including demographics and local economy. Link to all levels of Lewisville, government and their sites with services which provide public information. Current economy, business and housing data.\n",
      "2452\n",
      "A rattling cough is a condition which causes a rustling, rattling, or wheezing sound in the chest or throat accompanied by a chronic cough. The troublesome noises are generally caused by mucus accumulation in the chest or by sinus drainage into the throat. The common cold may cause rattling cough symptoms. A rattling cough should be checked out by a doctor, particularly if it occurs in young children. Most rattling coughs are remnants of a congestive illness such as bronchitis. A rattling cough is accompanied by troublesome chest or throat sounds. A rattling cough is accompanied by troublesome chest or throat sounds. A rattling cough may be caused by chest congestion. A dry cough might be treated using a humidifier. A rattling cough may be accompanied by laboring breathing, depending on the type of infection. Occasionally, a rattling cough can signal a serious health condition. Pneumonia, an infection of the lungs, is a condition which often occurs as the result of a less threatening illness which fails to heal, such as influenza. Large amounts of mucus may form and block airways. Occasionally, a rattling cough can signal a serious health condition. Pneumonia, an infection of the lungs, is a condition which often occurs as the result of a less threatening illness which fails to heal, such as influenza. Phlegm, a tight feeling and a rattle when you inhale – these are all symptoms of a chesty cough. Also known as a wet cough or a productive cough, it’s the result of having too much thick phlegm in your airways. This sticky liquid can be white, yellow or green and comes up during coughing. Bronchitis occurs when the air passages in your lungs become inflamed. Bronchitis can be acute or chronic. Acute bronchitis is usually due to a viral infection, such as a cold, that starts in your nose or sinuses and spreads to the airways. Phlegm, a tight feeling and a rattle when you inhale – these are all symptoms of a chesty cough. Also known as a wet cough or a productive cough, it’s the result of having too much thick phlegm in your airways. Bronchitis can be acute or chronic. Acute bronchitis is usually due to a viral infection, such as a cold, that starts in your nose or sinuses and spreads to the airways. Acute bronchitis usually lasts a few days, but you may have a cough for weeks afterward. Dr. Bob explains the different causes of a dry cough and a rattling cough. For more health information visit www.drbobshow.com.\n",
      "2360\n",
      "Definition of cover for English Language Learners : to put something over, on top of, or in front of (something else) especially in order to protect, hide, or close it : to be spread over or on top of (something) Definition of cover for English Language Learners. : 1  to put something over, on top of, or in front of (something else) especially in order to protect, hide, or close it. : 2  to be spread over or on top of (something) : 3  to be over much or all of the surface of (something) To cover something with or in something else means to put a layer of the second thing over its surface. The trees in your garden may have covered the ground with apples, pears or plums. [V n + with/in] She covered the walls with the signs of the zodiac. [V n with/in n] legal Definition of cover : purchase of goods in substitution for those originally contracted for when the seller fails to fulfill the contract the buyer is always free to choose between cover and damages for nondelivery Definition of cover for Students. 1  1 : something that protects, shelters, or hides. 2  2 : a covering (as a blanket) used on a bed. 3  3 : a binding or a protecting case a book cover. 4  4 : something that is placed over or about another thing : lid, top a mattress cover the cover of a box. Examples of cover in a Sentence. 1  She placed a cover over the pan so that the oil wouldn't spatter. 2  I put a cover on the sofa to protect it. 3  There's a picture of the author on the book's back cover. 4  The singer is posing in jeans and cowboy boots on the album cover. Definition of cover for English Language Learners : something that is put around or on top of another thing especially to protect, hide, or close it : a blanket or sheet on a bed To cover something with or in something else means to put a layer of the second thing over its surface. The trees in your garden may have covered the ground with apples, pears or plums. If you cover a particular distance, you travel that distance. It would not be easy to cover ten miles on that amount of petrol. Define cover: to guard from attack; to have within the range of one's guns : command; to hold within range of an aimed firearm — cover in a sentence She placed a cover over the pan so that the oil wouldn't spatter. I put a cover on the sofa to protect it. There's a picture of the author on the book's back cover.\n",
      "2313\n",
      "1. a story or account of events, experiences, or the like, whether true or fictitious. 2. the art, technique, or process of narrating. 3. consisting of or being a narrative: narrative poetry. The most thoroughgoing of all distinctions in literature, as in the other Fine Arts, is that between (1) Substance, the essential content and meaning of the work, and (2) Form, the manner in which it is expressed (including narrative structure, external style, in poetry verse-form, and many related matters). When you write a narrative essay, you are telling a story. Narrative essays are told from a defined point of view, often the author's, so there is feeling as well as specific and often sensory details provided to get the reader involved in the elements and sequence of the story. One last component of narrative writing is point of view. Point of view is the perspective in which the story is told. The two main points of view are first-person and third-person. Setting. The setting is another component of narrative writing. The setting is the time and the location in which the story takes place. These facts set the scene for the story and can determine what kind of conflict occurs. In this lesson you will learn what makes a piece of writing a narrative. Examples are also given to illustrate the specific types of narrative writing, and the lesson will be followed by a quiz. 1 narratage-The technique of having one character in the role of storyteller or the act of inserting bits of explanation into a narrative. 2  narrative-First an adjective meaning telling the facts of a story, from Latin narrare, which is also the base of narrate. 1 narrative-First an adjective meaning telling the facts of a story, from Latin narrare, which is also the base of narrate. narrative. 1  narratage-The technique of having one character in the role of storyteller or the act of inserting bits of explanation into a narrative. 2  narrative-First an adjective meaning telling the facts of a story, from Latin narrare, which is also the base of narrate. There are many types of narrative writing. Basically any written work that tells a story can be labeled as narrative writing. Here's a list of some of the most common types, with examples. 1  Novels-usually more lengthy and can be divided into chapters or sections.\n",
      "1574\n",
      "Topix › Kentucky › Casey County › Yosemite › Yosemite Forum. Join the discussion! This forum covers Yosemite, KY local community news, events for your calendar, and updates from colleges, churches, sports, and classifieds. Canadian Postal Code Database. Get all Canadian Postal Codes and their information in one easy to use database. 2010 Census Database. Get the 2010 Census data in an easy to use format for all summary levels: National, State, COunty, City, and Congressional District. Yosemite, KY. Yosemite is located close to the center of Kentucky. Yosemite is part of Casey County. On average, the public school district that covers Yosemite is better than the state average in quality. The Yosemite area code is 606. Local news for Yosemite, KY continually updated from thousands of sources on the web. Yosemite, Kentucky is located in Casey County. Zip codes in Yosemite, KY include 42566. The median home price in Yosemite is $2 which is roughly $2/per square foot. Covering every address in the U.S., get the +4 information you need. Get all Canadian Postal Codes and their information in one easy to use database. Get the 2010 Census data in an easy to use format for all summary levels: National, State, COunty, City, and Congressional District. Get all Area Codes and NXX data for North America. Yosemite, Kentucky. Yosemite is an unincorporated community in eastern Casey County, Kentucky, United States. Their Post Office was closed in September 2011. It was established in the 1870s for logging facilities owned by Cincinnati businessman Eugene Zimmerman.\n",
      "1275\n",
      "Life Care Center of Carrollton is a part of Life Care Centers of America that operates more than 200 skilled-nursing homes, assisted-living facilities, retirement living communities, home care services and Alzheimer's centers. Hours. Life Care Center of Carrollton is a provider of nursing home and long-term health care services to residents of the northern Worcester County. Life Care Center of Carrollton is a part of Life Care Centers of America that operates more than 200 skilled-nursing homes, assisted-living facilities, retirement living communities, home care services and Alzheimer's centers. Quick Links. Welcome to Life Care Center of Carrollton. In the rural town of Carrollton, Missouri, Life Care Center of Carrollton has easy access to many state parks and conservation areas. Located in Carrollton, Mo., the center offers a suite of services, including in-home nursing care, therapy, experienced sitters, extended live-in arrangements, Alzheimer's care, rehabilitation or recovery and other assisted living services. Located in Carrollton, Mo., the center offers a suite of services, including in-home nursing care, therapy, experienced sitters, extended live-in arrangements, Alzheimer's care, rehabilitation or recovery and other assisted living services.\n",
      "1042\n",
      "For population 25 years and over in Macksville: 1  High school or higher: 77.9%. 2  Bachelor's degree or higher: 16.9%. 3  Graduate or professional degree: 5.2 4 %. Unemployed: 1. 5 4%. Mean travel time to work (commute): 16.2 minutes. Central Standard Time - is abbreviated as CST. Central Daylight Time- is abbreviated as CDT. Marysville, Kansas is GMT/UTC - 6h during Standard Time. Marysville, Kansas is GMT/UTC - 5h during Daylight Saving Time. Macksville, Kansas. Macksville is a city in Stafford County, Kansas, United States. As of the 2010 census, the city population was 549. Latest news from Macksville, KS collected exclusively by city-data.com from local newspapers, TV, and radio stations. Ancestries: German (12.7%), American (8.3%), English (5.1%), European (2.9%), Irish (1.1%). Current Local Time: CST time zone. Elevation: 2035 feet. Area code 620 was put into service when (620) 914- was introduced as the first prefix. Major Cities in Area Code 620. 1  Dodge City, KS. 2  Emporia, KS. 3  Garden City, KS.  Hutchinson, KS.\n",
      "858\n",
      "this article: Kiiara is a 20-year-old from Illinois whose new single “Gold” feels like some fascinating new mutation of bedroom-pop music. “Gold,” a collaboration with producer Felix Snow, takes cues from icy R&B and from glitched-out, spacey dance music, but it also has the wide-open heart of a classic pop song.Gold,” a collaboration with producer Felix Snow, takes cues from icy R&B and from glitched-out, spacey dance music, but it also has the wide-open heart of a classic pop song. iTunes is the world's easiest way to organize and add to your digital media collection. We are unable to find iTunes on your computer. To download from the iTunes Store, get iTunes now.Tunes is the world's easiest way to organize and add to your digital media collection. We are unable to find iTunes on your computer. To download from the iTunes Store, get iTunes now.\n",
      "301\n",
      "Clue: Before noon it's one and the same. We have 1 possible answer for the clue Before noon it's one and the same which appears 1 time in our database.lue: Before noon it's one and the same. We have 1 possible answer for the clue Before noon it's one and the same which appears 1 time in our database.\n"
     ]
    },
    {
     "data": {
      "text/plain": [
       "301"
      ]
     },
     "execution_count": 24,
     "metadata": {},
     "output_type": "execute_result"
    }
   ],
   "source": [
    "calc_max_len(dataset_train)"
   ]
  },
  {
   "cell_type": "code",
   "execution_count": 25,
   "metadata": {},
   "outputs": [],
   "source": [
    "# Preprocessing\n",
    "# sep_token = '<sep>'\n",
    "dataset_name = \"ms_marco\"\n",
    "model_type=\"roberta\"\n",
    "model_name= \"roberta-base\"\n",
    "models_dir = \"saved_models/roberta-base_ms-marco_mod\"\n",
    "checkpoint = 'roberta-base'\n",
    "max_input_length = 301\n",
    "\n",
    "\n",
    "# ## Training\n",
    "learning_rate = 3e-5\n",
    "num_epochs = 2"
   ]
  },
  {
   "cell_type": "code",
   "execution_count": 26,
   "metadata": {},
   "outputs": [],
   "source": [
    "tokenizer = transformers.AutoTokenizer.from_pretrained(model_name)"
   ]
  },
  {
   "cell_type": "code",
   "execution_count": 45,
   "metadata": {},
   "outputs": [],
   "source": [
    "def preprocess_function(examples):\n",
    "    questions = [q.strip() for q in examples[\"question\"]]\n",
    "    inputs = tokenizer(\n",
    "        questions,\n",
    "        examples[\"context\"],\n",
    "        max_length=max_input_length ,\n",
    "        truncation=\"only_second\",\n",
    "        return_offsets_mapping=True,\n",
    "        padding=\"max_length\",\n",
    "    )\n",
    "\n",
    "    offset_mapping = inputs.pop(\"offset_mapping\")\n",
    "    answers = examples[\"answer\"]\n",
    "    start_positions = []\n",
    "    end_positions = []\n",
    "\n",
    "    for i, offset in enumerate(offset_mapping):\n",
    "        answer = answers[i]\n",
    "        start_char = examples[\"answer_start\"]\n",
    "        print(len(start_char))\n",
    "        \n",
    "        end_char = examples[\"answer_end\"]\n",
    "        print(len(end_char))\n",
    "        sequence_ids = inputs.sequence_ids(i)\n",
    "\n",
    "        # Find the start and end of the context\n",
    "        idx = 0\n",
    "        while sequence_ids[idx] != 1:\n",
    "            idx += 1\n",
    "        context_start = idx\n",
    "        while sequence_ids[idx] == 1:\n",
    "            idx += 1\n",
    "        context_end = idx - 1\n",
    "\n",
    "        # If the answer is not fully inside the context, label it (0, 0)\n",
    "        print(offset[context_start][0])\n",
    "        print(end_char)\n",
    "        print(offset[context_end][1])\n",
    "        print(start_char)\n",
    "        if offset[context_start][0] > end_char or offset[context_end][1] < start_char:\n",
    "            start_positions.append(0)\n",
    "            end_positions.append(0)\n",
    "        else:\n",
    "            # Otherwise it's the start and end token positions\n",
    "            idx = context_start\n",
    "            while idx <= context_end and offset[idx][0] <= start_char:\n",
    "                idx += 1\n",
    "            start_positions.append(idx - 1)\n",
    "\n",
    "            idx = context_end\n",
    "            while idx >= context_start and offset[idx][1] >= end_char:\n",
    "                idx -= 1\n",
    "            end_positions.append(idx + 1)\n",
    "\n",
    "    inputs[\"start_positions\"] = start_positions\n",
    "    inputs[\"end_positions\"] = end_positions\n",
    "    return inputs"
   ]
  },
  {
   "cell_type": "code",
   "execution_count": null,
   "metadata": {},
   "outputs": [],
   "source": [
    "# Transform your custom dataset to a PyTorch dataset\n",
    "# dataset = datasets.Dataset.from_generator(\n",
    "#     generator=lambda: iter(dataset)\n",
    "# )"
   ]
  },
  {
   "cell_type": "code",
   "execution_count": 12,
   "metadata": {},
   "outputs": [
    {
     "name": "stdout",
     "output_type": "stream",
     "text": [
      "Downloading and preparing dataset generator/default to C:/Users/dama_/.cache/huggingface/datasets/generator/default-1f482045682b315d/0.0.0...\n"
     ]
    },
    {
     "name": "stderr",
     "output_type": "stream",
     "text": [
      "                                                                    \r"
     ]
    },
    {
     "name": "stdout",
     "output_type": "stream",
     "text": [
      "Dataset generator downloaded and prepared to C:/Users/dama_/.cache/huggingface/datasets/generator/default-1f482045682b315d/0.0.0. Subsequent calls will reuse this data.\n"
     ]
    }
   ],
   "source": [
    "# dataset_val= datasets.Dataset.from_generator(\n",
    "#     generator=lambda: iter(dataset_valid))"
   ]
  },
  {
   "cell_type": "code",
   "execution_count": 16,
   "metadata": {},
   "outputs": [],
   "source": [
    "# torch.save(dataset,\"../datasets/ms-marco_train_qa.pt\")"
   ]
  },
  {
   "cell_type": "code",
   "execution_count": 17,
   "metadata": {},
   "outputs": [],
   "source": [
    "# torch.save(dataset_valid,\"../datasets/ms-marco_valid_qa.pt\")# "
   ]
  },
  {
   "cell_type": "code",
   "execution_count": 29,
   "metadata": {},
   "outputs": [
    {
     "data": {
      "text/plain": [
       "Dataset({\n",
       "    features: ['id', 'question', 'answer', 'context', 'answer_start', 'answer_end'],\n",
       "    num_rows: 301763\n",
       "})"
      ]
     },
     "execution_count": 29,
     "metadata": {},
     "output_type": "execute_result"
    }
   ],
   "source": [
    "dataset_train"
   ]
  },
  {
   "cell_type": "code",
   "execution_count": 38,
   "metadata": {},
   "outputs": [
    {
     "data": {
      "text/plain": [
       "{'id': 584861,\n",
       " 'question': 'what causes a rotator cuff tear',\n",
       " 'answer': 'Bleeding and inflammation.',\n",
       " 'context': \"Print. The rotator cuff is a group of muscles and tendons that surround the shoulder joint, keeping the head of your upper arm bone firmly within the shallow socket of the shoulder. A rotator cuff injury can cause a dull ache in the shoulder, which often worsens when you try to sleep on the involved side.he rotator cuff is a group of muscles and tendons that surround the shoulder joint, keeping the head of your upper arm bone firmly within the shallow socket of the shoulder. The rotator cuff is a group of muscles and tendons that surround the shoulder joint, keeping the head of your upper arm bone firmly within the shallow socket of the shoulder.A rotator cuff injury can cause a dull ache in the shoulder, which often worsens when you try to sleep on the involved side.he rotator cuff is a group of muscles and tendons that surround the shoulder joint, keeping the head of your upper arm bone firmly within the shallow socket of the shoulder. In a rotator cuff disorder, tendons that make up the rotator cuff get squeezed and rub against bone. They become damaged and irritated. This causes bleeding and inflammation.The tendons can develop scar tissue, which is not as strong and flexible as normal tendon tissue.n a rotator cuff disorder, tendons that make up the rotator cuff get squeezed and rub against bone. They become damaged and irritated. This causes bleeding and inflammation. Too much stress -- or too many fastballs -- can cause partial tears and swelling in the tendons of the rotator cuff. Abrupt stress may even cause one of the tendons to pull away from the bone or tear in the middle of the tendon.Rotator cuff tears are sometimes incorrectly called ''rotary cuff tears.''.ost rotator cuff tears develop gradually. But they also can happen suddenly -- you might feel a pop, intense pain, and weakness in the arm. To diagnose a rotator cuff tear, your doctor will give you a thorough physical exam. He or she will want you to move your arm in different directions to see what causes pain. The symptoms of a rotator cuff tear include: 1  Pain in the shoulder and arm, which varies depending on how serious the tear is. 2  Weakness and tenderness in the shoulder. 3  Difficulty moving the shoulder, especially when trying to lift your arm above your head. 4  Snapping or crackling sounds when moving the shoulder.ost rotator cuff tears develop gradually. But they also can happen suddenly -- you might feel a pop, intense pain, and weakness in the arm. To diagnose a rotator cuff tear, your doctor will give you a thorough physical exam. He or she will want you to move your arm in different directions to see what causes pain. Rotator Cuff Tears. A rotator cuff tear is a tear of one or more of the tendons of the four rotator cuff muscles. A rotator cuff injury can include any type of irritation or damage to the rotator cuff muscles or tendons.PubMed Health Glossary.he tendons of your rotator cuff can tear for a variety of reasons: 1  An injury, such as falling or being hit in the shoulder. 2  Overuse over time from repeated actions, such as lifting, painting, cleaning windows, or throwing. 3  Natural wear and tear from aging. The rotator cuff is a group of four muscles and tendons that closely surround the shoulder joint. Rotator cuff tears are very common. Most rotator cuff tears are caused by gradual wear of the tendon material as we age.he rotator cuff is a group of four muscles and tendons that closely surround the shoulder joint. Rotator cuff tears are very common. Most rotator cuff tears are caused by gradual wear of the tendon material as we age. 1 Repetitive stress. 2  Repeating the same shoulder motions again and again can stress your rotator cuff muscles and tendons. 3  Baseball, tennis, rowing, and weightlifting are examples of sports activities that can put you at risk for overuse tears. 4  Many jobs and routine chores can cause overuse tears, as well.here is a lubricating sac called a bursa between the rotator cuff and the bone on top of your shoulder (acromion). The bursa allows the rotator cuff tendons to glide freely when you move your arm. When the rotator cuff tendons are injured or damaged, this bursa can also become inflamed and painful. The most common symptoms of a rotator cuff tear include: 1  Pain at rest and at night, particularly if lying on the affected shoulder. 2  Pain when lifting and lowering your arm or with specific movements. 3  Weakness when lifting or rotating your arm. 4  Crepitus or crackling sensation when moving your shoulder in certain positions.here is a lubricating sac called a bursa between the rotator cuff and the bone on top of your shoulder (acromion). The bursa allows the rotator cuff tendons to glide freely when you move your arm. When the rotator cuff tendons are injured or damaged, this bursa can also become inflamed and painful. Re-occurring degeneration and disorganization of the tendons of the rotator cuff can lead to small tears that do not properly heal. This results in a weakened tendon that is more susceptible to serious injuries. The shoulder is a complex joint in the body that is made up of a number of bones, tendons, and muscles.lthough overuse is the most common cause of rotator cuff injuries, other factors are associated with an increased risk of injury, including being male, being older, and having a history of shoulder injury or trauma. The shoulder is subject to other injuries besides rotator cuff tears, including tendinitis and bursitis.\",\n",
       " 'answer_start': 471,\n",
       " 'answer_end': 915}"
      ]
     },
     "execution_count": 38,
     "metadata": {},
     "output_type": "execute_result"
    }
   ],
   "source": [
    "dataset_train[0]"
   ]
  },
  {
   "cell_type": "code",
   "execution_count": null,
   "metadata": {},
   "outputs": [],
   "source": [
    "tokenized_msmarco_train = dataset_train.map(preprocess_function, batched=True, remove_columns=dataset_train.column_names)"
   ]
  },
  {
   "cell_type": "code",
   "execution_count": 69,
   "metadata": {},
   "outputs": [
    {
     "name": "stderr",
     "output_type": "stream",
     "text": [
      "                                                                  \r"
     ]
    }
   ],
   "source": [
    "tokenized_msmarco_val=dataset_valid.map(preprocess_function, batched=True, remove_columns=dataset_valid.column_names)"
   ]
  },
  {
   "cell_type": "code",
   "execution_count": 70,
   "metadata": {},
   "outputs": [],
   "source": [
    "data_collator = transformers.DefaultDataCollator()"
   ]
  },
  {
   "cell_type": "code",
   "execution_count": 71,
   "metadata": {},
   "outputs": [
    {
     "name": "stderr",
     "output_type": "stream",
     "text": [
      "Some weights of the model checkpoint at roberta-base were not used when initializing RobertaForQuestionAnswering: ['lm_head.layer_norm.bias', 'lm_head.bias', 'lm_head.decoder.weight', 'lm_head.layer_norm.weight', 'lm_head.dense.weight', 'lm_head.dense.bias']\n",
      "- This IS expected if you are initializing RobertaForQuestionAnswering from the checkpoint of a model trained on another task or with another architecture (e.g. initializing a BertForSequenceClassification model from a BertForPreTraining model).\n",
      "- This IS NOT expected if you are initializing RobertaForQuestionAnswering from the checkpoint of a model that you expect to be exactly identical (initializing a BertForSequenceClassification model from a BertForSequenceClassification model).\n",
      "Some weights of RobertaForQuestionAnswering were not initialized from the model checkpoint at roberta-base and are newly initialized: ['qa_outputs.bias', 'qa_outputs.weight']\n",
      "You should probably TRAIN this model on a down-stream task to be able to use it for predictions and inference.\n"
     ]
    }
   ],
   "source": [
    "model = transformers.AutoModelForQuestionAnswering.from_pretrained(model_name)"
   ]
  },
  {
   "cell_type": "code",
   "execution_count": 75,
   "metadata": {},
   "outputs": [
    {
     "name": "stderr",
     "output_type": "stream",
     "text": [
      "e:\\HOGENT\\2022_2023\\BA\\BP_Info_Support\\bert\\saved_models/roberta-base_ms-marco_mod is already a clone of https://huggingface.co/damapika/roberta-base_ms-marco_mod. Make sure you pull the latest changes with `repo.git_pull()`.\n"
     ]
    }
   ],
   "source": [
    "training_args = transformers.TrainingArguments(\n",
    "    output_dir=models_dir,\n",
    "    evaluation_strategy=\"epoch\",\n",
    "    learning_rate=learning_rate,\n",
    "    per_device_train_batch_size=16,\n",
    "    per_device_eval_batch_size=16,\n",
    "    num_train_epochs=num_epochs,\n",
    "    weight_decay=0.01,\n",
    "    push_to_hub=True,\n",
    ")\n",
    "\n",
    "trainer = transformers.Trainer(\n",
    "    model=model,\n",
    "    args=training_args,\n",
    "    train_dataset=tokenized_msmarco_train,\n",
    "    eval_dataset=tokenized_msmarco_val,\n",
    "    tokenizer=tokenizer,\n",
    "    data_collator=data_collator,\n",
    ")"
   ]
  },
  {
   "cell_type": "code",
   "execution_count": null,
   "metadata": {},
   "outputs": [],
   "source": [
    "trainer.train()"
   ]
  },
  {
   "cell_type": "code",
   "execution_count": 2,
   "metadata": {},
   "outputs": [],
   "source": [
    "question = \"Which name is also used to describe the Amazon rainforest in English?\"\n",
    "context = \"The Amazon rainforest (Portuguese: Floresta Amazônica or Amazônia; Spanish: Selva Amazónica, Amazonía or usually Amazonia; French: Forêt amazonienne; Dutch: Amazoneregenwoud), also known in English as Amazonia or the Amazon Jungle, is a moist broadleaf forest that covers most of the Amazon basin of South America. This basin encompasses 7,000,000 square kilometres (2,700,000 sq mi), of which 5,500,000 square kilometres (2,100,000 sq mi) are covered by the rainforest. This region includes territory belonging to nine nations. The majority of the forest is contained within Brazil, with 60% of the rainforest, followed by Peru with 13%, Colombia with 10%, and with minor amounts in Venezuela, Ecuador, Bolivia, Guyana, Suriname and French Guiana. States or departments in four nations contain \"Amazonas\" in their names. The Amazon represents over half of the planet's remaining rainforests, and comprises the largest and most biodiverse tract of tropical rainforest in the world, with an estimated 390 billion individual trees divided into 16,000 species.\""
   ]
  },
  {
   "cell_type": "code",
   "execution_count": 3,
   "metadata": {},
   "outputs": [
    {
     "data": {
      "text/plain": [
       "{'score': 0.026595955714583397, 'start': 246, 'end': 247, 'answer': '.'}"
      ]
     },
     "execution_count": 3,
     "metadata": {},
     "output_type": "execute_result"
    }
   ],
   "source": [
    "question_answerer = transformers.pipeline(\"question-answering\", model=\"damapika/roberta-base_ms-marco_mod\")\n",
    "question_answerer(question=question, context=context)"
   ]
  }
 ],
 "metadata": {
  "kernelspec": {
   "display_name": "Python 3",
   "language": "python",
   "name": "python3"
  },
  "language_info": {
   "codemirror_mode": {
    "name": "ipython",
    "version": 3
   },
   "file_extension": ".py",
   "mimetype": "text/x-python",
   "name": "python",
   "nbconvert_exporter": "python",
   "pygments_lexer": "ipython3",
   "version": "3.11.1"
  },
  "orig_nbformat": 4
 },
 "nbformat": 4,
 "nbformat_minor": 2
}
