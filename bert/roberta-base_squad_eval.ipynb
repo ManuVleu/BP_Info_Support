{
 "cells": [
  {
   "cell_type": "code",
   "execution_count": 20,
   "metadata": {},
   "outputs": [],
   "source": [
    "import pandas as pd\n",
    "from datasets import load_dataset\n",
    "from evaluate import evaluator\n",
    "from transformers import pipeline"
   ]
  },
  {
   "cell_type": "code",
   "execution_count": 8,
   "metadata": {},
   "outputs": [],
   "source": [
    "dataset_name = \"squad\""
   ]
  },
  {
   "cell_type": "code",
   "execution_count": 21,
   "metadata": {},
   "outputs": [
    {
     "name": "stderr",
     "output_type": "stream",
     "text": [
      "Found cached dataset squad (C:/Users/dama_/.cache/huggingface/datasets/squad/plain_text/1.0.0/d6ec3ceb99ca480ce37cdd35555d6cb2511d223b9150cce08a837ef62ffea453)\n",
      "100%|██████████| 2/2 [00:00<00:00, 222.00it/s]\n"
     ]
    }
   ],
   "source": [
    "squad = datasets.load_dataset(dataset_name)"
   ]
  },
  {
   "cell_type": "code",
   "execution_count": 40,
   "metadata": {},
   "outputs": [],
   "source": [
    "# All QA model names that need to be evaluated\n",
    "models = [\n",
    "    \"damapika/roberta-base_mod\",\n",
    "    \"damapika/distilbert-base-uncased_mod\"\n",
    "]"
   ]
  },
  {
   "cell_type": "code",
   "execution_count": 39,
   "metadata": {},
   "outputs": [
    {
     "name": "stderr",
     "output_type": "stream",
     "text": [
      "Found cached dataset squad (C:/Users/dama_/.cache/huggingface/datasets/squad/plain_text/1.0.0/d6ec3ceb99ca480ce37cdd35555d6cb2511d223b9150cce08a837ef62ffea453)\n",
      "100%|██████████| 2/2 [00:00<00:00, 208.35it/s]\n",
      "Found cached dataset squad (C:/Users/dama_/.cache/huggingface/datasets/squad/plain_text/1.0.0/d6ec3ceb99ca480ce37cdd35555d6cb2511d223b9150cce08a837ef62ffea453)\n"
     ]
    }
   ],
   "source": [
    "# data = load_dataset(dataset_name, split=\"validation\").shuffle().select(1000)\n",
    "data = load_dataset(dataset_name)\n",
    "data = load_dataset(dataset_name, split=\"validation[:1000]\")\n",
    "\n",
    "task_evaluator = evaluator(\"question-answering\")"
   ]
  },
  {
   "cell_type": "code",
   "execution_count": 42,
   "metadata": {},
   "outputs": [
    {
     "name": "stderr",
     "output_type": "stream",
     "text": [
      "`squad_v2_format` parameter not provided to QuestionAnsweringEvaluator.compute(). Automatically inferred `squad_v2_format` as False.\n",
      "`squad_v2_format` parameter not provided to QuestionAnsweringEvaluator.compute(). Automatically inferred `squad_v2_format` as False.\n"
     ]
    },
    {
     "data": {
      "text/html": [
       "<div>\n",
       "<style scoped>\n",
       "    .dataframe tbody tr th:only-of-type {\n",
       "        vertical-align: middle;\n",
       "    }\n",
       "\n",
       "    .dataframe tbody tr th {\n",
       "        vertical-align: top;\n",
       "    }\n",
       "\n",
       "    .dataframe thead th {\n",
       "        text-align: right;\n",
       "    }\n",
       "</style>\n",
       "<table border=\"1\" class=\"dataframe\">\n",
       "  <thead>\n",
       "    <tr style=\"text-align: right;\">\n",
       "      <th></th>\n",
       "      <th>f1</th>\n",
       "      <th>exact_match</th>\n",
       "      <th>total_time_in_seconds</th>\n",
       "      <th>samples_per_second</th>\n",
       "      <th>latency_in_seconds</th>\n",
       "    </tr>\n",
       "  </thead>\n",
       "  <tbody>\n",
       "    <tr>\n",
       "      <th>damapika/roberta-base_mod</th>\n",
       "      <td>{'confidence_interval': (92.49993600251031, 95...</td>\n",
       "      <td>{'confidence_interval': (88.59439077177723, 91...</td>\n",
       "      <td>30.242459</td>\n",
       "      <td>33.066094</td>\n",
       "      <td>0.030242</td>\n",
       "    </tr>\n",
       "    <tr>\n",
       "      <th>damapika/distilbert-base-uncased_mod</th>\n",
       "      <td>{'confidence_interval': (84.91755741831189, 88...</td>\n",
       "      <td>{'confidence_interval': (79.77142992851442, 84...</td>\n",
       "      <td>15.927514</td>\n",
       "      <td>62.784436</td>\n",
       "      <td>0.015928</td>\n",
       "    </tr>\n",
       "  </tbody>\n",
       "</table>\n",
       "</div>"
      ],
      "text/plain": [
       "                                                                                     f1  \\\n",
       "damapika/roberta-base_mod             {'confidence_interval': (92.49993600251031, 95...   \n",
       "damapika/distilbert-base-uncased_mod  {'confidence_interval': (84.91755741831189, 88...   \n",
       "\n",
       "                                                                            exact_match  \\\n",
       "damapika/roberta-base_mod             {'confidence_interval': (88.59439077177723, 91...   \n",
       "damapika/distilbert-base-uncased_mod  {'confidence_interval': (79.77142992851442, 84...   \n",
       "\n",
       "                                      total_time_in_seconds  \\\n",
       "damapika/roberta-base_mod                         30.242459   \n",
       "damapika/distilbert-base-uncased_mod              15.927514   \n",
       "\n",
       "                                      samples_per_second  latency_in_seconds  \n",
       "damapika/roberta-base_mod                      33.066094            0.030242  \n",
       "damapika/distilbert-base-uncased_mod           62.784436            0.015928  "
      ]
     },
     "execution_count": 42,
     "metadata": {},
     "output_type": "execute_result"
    }
   ],
   "source": [
    "results = []\n",
    "for model in models:\n",
    "    results.append(\n",
    "        task_evaluator.compute(\n",
    "        model_or_pipeline=model,\n",
    "        data=data,\n",
    "        metric=\"squad\",\n",
    "        strategy=\"bootstrap\",\n",
    "        n_resamples=30\n",
    "        )\n",
    ")\n",
    "\n",
    "df = pd.DataFrame(results, index=models)\n",
    "df[[\"f1\", \"exact_match\", \"total_time_in_seconds\", \"samples_per_second\", \"latency_in_seconds\"]]"
   ]
  }
 ],
 "metadata": {
  "kernelspec": {
   "display_name": "Python 3",
   "language": "python",
   "name": "python3"
  },
  "language_info": {
   "codemirror_mode": {
    "name": "ipython",
    "version": 3
   },
   "file_extension": ".py",
   "mimetype": "text/x-python",
   "name": "python",
   "nbconvert_exporter": "python",
   "pygments_lexer": "ipython3",
   "version": "3.11.1"
  },
  "orig_nbformat": 4
 },
 "nbformat": 4,
 "nbformat_minor": 2
}
