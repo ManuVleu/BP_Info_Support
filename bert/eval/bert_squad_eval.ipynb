{
 "cells": [
  {
   "cell_type": "code",
   "execution_count": 1,
   "metadata": {},
   "outputs": [
    {
     "name": "stderr",
     "output_type": "stream",
     "text": [
      "c:\\Users\\dama_\\AppData\\Local\\Programs\\Python\\Python311\\Lib\\site-packages\\tqdm\\auto.py:21: TqdmWarning: IProgress not found. Please update jupyter and ipywidgets. See https://ipywidgets.readthedocs.io/en/stable/user_install.html\n",
      "  from .autonotebook import tqdm as notebook_tqdm\n"
     ]
    }
   ],
   "source": [
    "import pandas as pd\n",
    "import datasets\n",
    "from evaluate import evaluator\n",
    "from transformers import pipeline\n",
    "import torch"
   ]
  },
  {
   "cell_type": "code",
   "execution_count": 2,
   "metadata": {},
   "outputs": [],
   "source": [
    "dataset_name = \"squad\""
   ]
  },
  {
   "cell_type": "code",
   "execution_count": 3,
   "metadata": {},
   "outputs": [],
   "source": [
    "# All QA model names that need to be evaluated\n",
    "models = [\n",
    "    \"damapika/roberta-base_mod_squad\",\n",
    "    \"damapika/distilbert-base-uncased_mod_squad\",\n",
    "    \"damapika/electra-base-discriminator_squad_mod\"\n",
    "]"
   ]
  },
  {
   "cell_type": "code",
   "execution_count": 4,
   "metadata": {},
   "outputs": [
    {
     "name": "stderr",
     "output_type": "stream",
     "text": [
      "Found cached dataset squad (C:/Users/dama_/.cache/huggingface/datasets/squad/plain_text/1.0.0/d6ec3ceb99ca480ce37cdd35555d6cb2511d223b9150cce08a837ef62ffea453)\n"
     ]
    }
   ],
   "source": [
    "# data = load_dataset(dataset_name, split=\"validation\").shuffle().select(1000)\n",
    "# data = datasets.load_dataset(dataset_name)\n",
    "data = datasets.load_dataset(dataset_name, split=\"validation\")\n",
    "\n",
    "task_evaluator = evaluator(\"question-answering\")"
   ]
  },
  {
   "cell_type": "code",
   "execution_count": 5,
   "metadata": {},
   "outputs": [
    {
     "name": "stderr",
     "output_type": "stream",
     "text": [
      "`squad_v2_format` parameter not provided to QuestionAnsweringEvaluator.compute(). Automatically inferred `squad_v2_format` as False.\n",
      "`squad_v2_format` parameter not provided to QuestionAnsweringEvaluator.compute(). Automatically inferred `squad_v2_format` as False.\n",
      "`squad_v2_format` parameter not provided to QuestionAnsweringEvaluator.compute(). Automatically inferred `squad_v2_format` as False.\n"
     ]
    },
    {
     "data": {
      "text/html": [
       "<div>\n",
       "<style scoped>\n",
       "    .dataframe tbody tr th:only-of-type {\n",
       "        vertical-align: middle;\n",
       "    }\n",
       "\n",
       "    .dataframe tbody tr th {\n",
       "        vertical-align: top;\n",
       "    }\n",
       "\n",
       "    .dataframe thead th {\n",
       "        text-align: right;\n",
       "    }\n",
       "</style>\n",
       "<table border=\"1\" class=\"dataframe\">\n",
       "  <thead>\n",
       "    <tr style=\"text-align: right;\">\n",
       "      <th></th>\n",
       "      <th>f1</th>\n",
       "      <th>exact_match</th>\n",
       "      <th>total_time_in_seconds</th>\n",
       "      <th>samples_per_second</th>\n",
       "      <th>latency_in_seconds</th>\n",
       "    </tr>\n",
       "  </thead>\n",
       "  <tbody>\n",
       "    <tr>\n",
       "      <th>damapika/roberta-base_mod</th>\n",
       "      <td>{'confidence_interval': (92.38828871671504, 94...</td>\n",
       "      <td>{'confidence_interval': (88.07063795042504, 91...</td>\n",
       "      <td>20.817038</td>\n",
       "      <td>48.037573</td>\n",
       "      <td>0.020817</td>\n",
       "    </tr>\n",
       "    <tr>\n",
       "      <th>damapika/distilbert-base-uncased_mod</th>\n",
       "      <td>{'confidence_interval': (85.67009799545306, 88...</td>\n",
       "      <td>{'confidence_interval': (79.8, 83.865014890362...</td>\n",
       "      <td>10.039725</td>\n",
       "      <td>99.604317</td>\n",
       "      <td>0.010040</td>\n",
       "    </tr>\n",
       "    <tr>\n",
       "      <th>damapika/electra-base-discriminator_squad_mod</th>\n",
       "      <td>{'confidence_interval': (92.31477539358237, 94...</td>\n",
       "      <td>{'confidence_interval': (88.2, 92.304846473570...</td>\n",
       "      <td>16.993838</td>\n",
       "      <td>58.844857</td>\n",
       "      <td>0.016994</td>\n",
       "    </tr>\n",
       "  </tbody>\n",
       "</table>\n",
       "</div>"
      ],
      "text/plain": [
       "                                                                                              f1  \\\n",
       "damapika/roberta-base_mod                      {'confidence_interval': (92.38828871671504, 94...   \n",
       "damapika/distilbert-base-uncased_mod           {'confidence_interval': (85.67009799545306, 88...   \n",
       "damapika/electra-base-discriminator_squad_mod  {'confidence_interval': (92.31477539358237, 94...   \n",
       "\n",
       "                                                                                     exact_match  \\\n",
       "damapika/roberta-base_mod                      {'confidence_interval': (88.07063795042504, 91...   \n",
       "damapika/distilbert-base-uncased_mod           {'confidence_interval': (79.8, 83.865014890362...   \n",
       "damapika/electra-base-discriminator_squad_mod  {'confidence_interval': (88.2, 92.304846473570...   \n",
       "\n",
       "                                               total_time_in_seconds  \\\n",
       "damapika/roberta-base_mod                                  20.817038   \n",
       "damapika/distilbert-base-uncased_mod                       10.039725   \n",
       "damapika/electra-base-discriminator_squad_mod              16.993838   \n",
       "\n",
       "                                               samples_per_second  \\\n",
       "damapika/roberta-base_mod                               48.037573   \n",
       "damapika/distilbert-base-uncased_mod                    99.604317   \n",
       "damapika/electra-base-discriminator_squad_mod           58.844857   \n",
       "\n",
       "                                               latency_in_seconds  \n",
       "damapika/roberta-base_mod                                0.020817  \n",
       "damapika/distilbert-base-uncased_mod                     0.010040  \n",
       "damapika/electra-base-discriminator_squad_mod            0.016994  "
      ]
     },
     "execution_count": 5,
     "metadata": {},
     "output_type": "execute_result"
    }
   ],
   "source": [
    "results = []\n",
    "for model in models:\n",
    "    results.append(\n",
    "        task_evaluator.compute(\n",
    "        model_or_pipeline=model,\n",
    "        data=data,\n",
    "        metric=\"squad\",\n",
    "        strategy=\"bootstrap\",\n",
    "        n_resamples=30\n",
    "        )\n",
    ")\n",
    "\n",
    "df = pd.DataFrame(results, index=models)\n",
    "df[[\"f1\", \"exact_match\", \"total_time_in_seconds\", \"samples_per_second\", \"latency_in_seconds\"]]"
   ]
  },
  {
   "cell_type": "code",
   "execution_count": 6,
   "metadata": {},
   "outputs": [],
   "source": [
    "df.to_csv('bert_models_eval.csv', index=True)"
   ]
  }
 ],
 "metadata": {
  "kernelspec": {
   "display_name": "Python 3",
   "language": "python",
   "name": "python3"
  },
  "language_info": {
   "codemirror_mode": {
    "name": "ipython",
    "version": 3
   },
   "file_extension": ".py",
   "mimetype": "text/x-python",
   "name": "python",
   "nbconvert_exporter": "python",
   "pygments_lexer": "ipython3",
   "version": "3.11.1"
  },
  "orig_nbformat": 4
 },
 "nbformat": 4,
 "nbformat_minor": 2
}
