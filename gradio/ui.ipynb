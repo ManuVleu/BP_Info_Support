{
 "cells": [
  {
   "cell_type": "code",
   "execution_count": 21,
   "metadata": {},
   "outputs": [],
   "source": [
    "import gradio as gr\n",
    "from transformers import pipeline,BartForConditionalGeneration, AutoTokenizer"
   ]
  },
  {
   "cell_type": "code",
   "execution_count": 11,
   "metadata": {},
   "outputs": [],
   "source": [
    "loaded_model = BartForConditionalGeneration.from_pretrained(\"ManuVleuBeu/BART_answer-aware_MSMARCO\").to(\"cuda:0\")\n",
    "tokenizer = AutoTokenizer.from_pretrained(\"ManuVleuBeu/BART_answer-aware_MSMARCO\")"
   ]
  },
  {
   "cell_type": "code",
   "execution_count": 22,
   "metadata": {},
   "outputs": [],
   "source": [
    "def run_model(input_string,target_answer, **generator_args):\n",
    "    generator_args = {\n",
    "    \"max_length\": 768,\n",
    "    \"num_beams\": 4,# bij grotere num_beams is trager maar complexere vragen(niet per se betere vragen)\n",
    "    \"length_penalty\": 1.5,\n",
    "    \"no_repeat_ngram_size\": 3,\n",
    "    \"early_stopping\": True,\n",
    "    }\n",
    "    \n",
    "    input_string = input_string + \" \" + \"<ANSWER>\" + target_answer + \" </s>\"\n",
    "    input_ids = tokenizer.encode(input_string, return_tensors=\"pt\")\n",
    "    res = loaded_model.generate(input_ids.to(\"cuda:0\"), **generator_args)\n",
    "    output = tokenizer.batch_decode(res, skip_special_tokens=True)\n",
    "    output = [item.split(\"<sep>\") for item in output]\n",
    "    return output"
   ]
  },
  {
   "cell_type": "code",
   "execution_count": 23,
   "metadata": {},
   "outputs": [],
   "source": [
    "import os\n",
    "import markdown\n",
    "from bs4 import BeautifulSoup\n",
    "import pickle\n",
    "from utils import Chapter, File\n"
   ]
  },
  {
   "cell_type": "code",
   "execution_count": null,
   "metadata": {},
   "outputs": [],
   "source": [
    "GF_FOLDER = os.path.join(\"C:\", os.sep, \"Users\", \"manuv\", \"OneDrive\", \"Documenten\", \"Code\", \"BAP\", \"BP_gitrepo\", \"BP_Info_Support\", \"docs\")\n",
    "STRUCTURE_FILE = \"structure.md\"\n",
    "CHAPTER_TREE = Chapter(\"root\",GF_FOLDER)\n",
    "\n",
    "SAVE_TREE_DIR = os.path.join(\"C:\", os.sep, \"Users\", \"manuv\", \"OneDrive\", \"Documenten\", \"Code\", \"BAP\", \"BP_gitrepo\", \"BP_Info_Support\", \"data\")"
   ]
  },
  {
   "cell_type": "code",
   "execution_count": 24,
   "metadata": {},
   "outputs": [],
   "source": [
    "GF_FOLDER = os.path.join(\"E:\", os.sep, \"HOGENT\", \"2022_2023\", \"BA\",\"docs\")\n",
    "STRUCTURE_FILE = \"structure.md\"\n",
    "CHAPTER_TREE = Chapter(\"root\",GF_FOLDER)\n",
    "SAVE_TREE_DIR = os.path.join(\"E:\", os.sep, \"HOGENT\", \"2022_2023\", \"BA\",\"docs\")\n"
   ]
  },
  {
   "cell_type": "code",
   "execution_count": 25,
   "metadata": {},
   "outputs": [],
   "source": [
    "def get_guidance_framework():\n",
    "    with open(os.path.join(SAVE_TREE_DIR,\"gf_structure.pkl\"), \"rb\") as f:\n",
    "        root = pickle.load(f)"
   ]
  },
  {
   "cell_type": "code",
   "execution_count": 26,
   "metadata": {},
   "outputs": [],
   "source": [
    "def find_chapter_by_dir(root, dir):\n",
    "    if root.dir == dir:\n",
    "        return root\n",
    "    for child in root.children:\n",
    "        found_chapter = find_chapter_by_dir(child, dir)\n",
    "        if found_chapter:\n",
    "            return found_chapter\n",
    "    return None"
   ]
  },
  {
   "cell_type": "code",
   "execution_count": 27,
   "metadata": {},
   "outputs": [
    {
     "name": "stdout",
     "output_type": "stream",
     "text": [
      "Chapter Name: root\n"
     ]
    },
    {
     "data": {
      "text/html": [
       "<pre style=\"white-space:pre;overflow-x:auto;line-height:normal;font-family:Menlo,'DejaVu Sans Mono',consolas,'Courier New',monospace\"><span style=\"color: #800000; text-decoration-color: #800000\">╭─────────────────────────────── </span><span style=\"color: #800000; text-decoration-color: #800000; font-weight: bold\">Traceback </span><span style=\"color: #bf7f7f; text-decoration-color: #bf7f7f; font-weight: bold\">(most recent call last)</span><span style=\"color: #800000; text-decoration-color: #800000\"> ────────────────────────────────╮</span>\n",
       "<span style=\"color: #800000; text-decoration-color: #800000\">│</span> in <span style=\"color: #00ff00; text-decoration-color: #00ff00\">&lt;module&gt;</span>:<span style=\"color: #0000ff; text-decoration-color: #0000ff\">4</span>                                                                                    <span style=\"color: #800000; text-decoration-color: #800000\">│</span>\n",
       "<span style=\"color: #800000; text-decoration-color: #800000\">│</span>                                                                                                  <span style=\"color: #800000; text-decoration-color: #800000\">│</span>\n",
       "<span style=\"color: #800000; text-decoration-color: #800000\">│</span>   <span style=\"color: #7f7f7f; text-decoration-color: #7f7f7f\">1 </span>rnd_chapter = CHAPTER_TREE.get_random_chapter()                                              <span style=\"color: #800000; text-decoration-color: #800000\">│</span>\n",
       "<span style=\"color: #800000; text-decoration-color: #800000\">│</span>   <span style=\"color: #7f7f7f; text-decoration-color: #7f7f7f\">2 </span><span style=\"color: #00ffff; text-decoration-color: #00ffff\">print</span>(<span style=\"color: #808000; text-decoration-color: #808000\">f'Chapter Name: {</span>rnd_chapter.name<span style=\"color: #808000; text-decoration-color: #808000\">}'</span>)                                                   <span style=\"color: #800000; text-decoration-color: #800000\">│</span>\n",
       "<span style=\"color: #800000; text-decoration-color: #800000\">│</span>   <span style=\"color: #7f7f7f; text-decoration-color: #7f7f7f\">3 </span>rnd_file = rnd_chapter.get_random_file()                                                     <span style=\"color: #800000; text-decoration-color: #800000\">│</span>\n",
       "<span style=\"color: #800000; text-decoration-color: #800000\">│</span> <span style=\"color: #800000; text-decoration-color: #800000\">❱ </span>4 <span style=\"color: #00ffff; text-decoration-color: #00ffff\">print</span>(<span style=\"color: #808000; text-decoration-color: #808000\">f'File Name: {</span>rnd_file.name<span style=\"color: #808000; text-decoration-color: #808000\">}'</span>)                                                         <span style=\"color: #800000; text-decoration-color: #800000\">│</span>\n",
       "<span style=\"color: #800000; text-decoration-color: #800000\">│</span>   <span style=\"color: #7f7f7f; text-decoration-color: #7f7f7f\">5 </span><span style=\"color: #00ffff; text-decoration-color: #00ffff\">print</span>(<span style=\"color: #808000; text-decoration-color: #808000\">f'File Dir: {</span>rnd_file.dir<span style=\"color: #808000; text-decoration-color: #808000\">}'</span>)                                                           <span style=\"color: #800000; text-decoration-color: #800000\">│</span>\n",
       "<span style=\"color: #800000; text-decoration-color: #800000\">│</span>   <span style=\"color: #7f7f7f; text-decoration-color: #7f7f7f\">6 </span><span style=\"color: #00ffff; text-decoration-color: #00ffff\">print</span>(<span style=\"color: #808000; text-decoration-color: #808000\">'Structured Text in file'</span>)                                                             <span style=\"color: #800000; text-decoration-color: #800000\">│</span>\n",
       "<span style=\"color: #800000; text-decoration-color: #800000\">│</span>   <span style=\"color: #7f7f7f; text-decoration-color: #7f7f7f\">7 </span>rnd_file.text                                                                                <span style=\"color: #800000; text-decoration-color: #800000\">│</span>\n",
       "<span style=\"color: #800000; text-decoration-color: #800000\">╰──────────────────────────────────────────────────────────────────────────────────────────────────╯</span>\n",
       "<span style=\"color: #ff0000; text-decoration-color: #ff0000; font-weight: bold\">AttributeError: </span><span style=\"color: #008000; text-decoration-color: #008000\">'NoneType'</span> object has no attribute <span style=\"color: #008000; text-decoration-color: #008000\">'name'</span>\n",
       "</pre>\n"
      ],
      "text/plain": [
       "\u001b[31m╭─\u001b[0m\u001b[31m──────────────────────────────\u001b[0m\u001b[31m \u001b[0m\u001b[1;31mTraceback \u001b[0m\u001b[1;2;31m(most recent call last)\u001b[0m\u001b[31m \u001b[0m\u001b[31m───────────────────────────────\u001b[0m\u001b[31m─╮\u001b[0m\n",
       "\u001b[31m│\u001b[0m in \u001b[92m<module>\u001b[0m:\u001b[94m4\u001b[0m                                                                                    \u001b[31m│\u001b[0m\n",
       "\u001b[31m│\u001b[0m                                                                                                  \u001b[31m│\u001b[0m\n",
       "\u001b[31m│\u001b[0m   \u001b[2m1 \u001b[0mrnd_chapter = CHAPTER_TREE.get_random_chapter()                                              \u001b[31m│\u001b[0m\n",
       "\u001b[31m│\u001b[0m   \u001b[2m2 \u001b[0m\u001b[96mprint\u001b[0m(\u001b[33mf\u001b[0m\u001b[33m'\u001b[0m\u001b[33mChapter Name: \u001b[0m\u001b[33m{\u001b[0mrnd_chapter.name\u001b[33m}\u001b[0m\u001b[33m'\u001b[0m)                                                   \u001b[31m│\u001b[0m\n",
       "\u001b[31m│\u001b[0m   \u001b[2m3 \u001b[0mrnd_file = rnd_chapter.get_random_file()                                                     \u001b[31m│\u001b[0m\n",
       "\u001b[31m│\u001b[0m \u001b[31m❱ \u001b[0m4 \u001b[96mprint\u001b[0m(\u001b[33mf\u001b[0m\u001b[33m'\u001b[0m\u001b[33mFile Name: \u001b[0m\u001b[33m{\u001b[0mrnd_file.name\u001b[33m}\u001b[0m\u001b[33m'\u001b[0m)                                                         \u001b[31m│\u001b[0m\n",
       "\u001b[31m│\u001b[0m   \u001b[2m5 \u001b[0m\u001b[96mprint\u001b[0m(\u001b[33mf\u001b[0m\u001b[33m'\u001b[0m\u001b[33mFile Dir: \u001b[0m\u001b[33m{\u001b[0mrnd_file.dir\u001b[33m}\u001b[0m\u001b[33m'\u001b[0m)                                                           \u001b[31m│\u001b[0m\n",
       "\u001b[31m│\u001b[0m   \u001b[2m6 \u001b[0m\u001b[96mprint\u001b[0m(\u001b[33m'\u001b[0m\u001b[33mStructured Text in file\u001b[0m\u001b[33m'\u001b[0m)                                                             \u001b[31m│\u001b[0m\n",
       "\u001b[31m│\u001b[0m   \u001b[2m7 \u001b[0mrnd_file.text                                                                                \u001b[31m│\u001b[0m\n",
       "\u001b[31m╰──────────────────────────────────────────────────────────────────────────────────────────────────╯\u001b[0m\n",
       "\u001b[1;91mAttributeError: \u001b[0m\u001b[32m'NoneType'\u001b[0m object has no attribute \u001b[32m'name'\u001b[0m\n"
      ]
     },
     "metadata": {},
     "output_type": "display_data"
    }
   ],
   "source": [
    "rnd_chapter = CHAPTER_TREE.get_random_chapter()\n",
    "print(f'Chapter Name: {rnd_chapter.name}')\n",
    "rnd_file = rnd_chapter.get_random_file()\n",
    "print(f'File Name: {rnd_file.name}')\n",
    "print(f'File Dir: {rnd_file.dir}')\n",
    "print('Structured Text in file')\n",
    "rnd_file.text"
   ]
  },
  {
   "attachments": {},
   "cell_type": "markdown",
   "metadata": {},
   "source": [
    "### User Interface with Gradio for QG & QA"
   ]
  },
  {
   "cell_type": "code",
   "execution_count": 20,
   "metadata": {},
   "outputs": [
    {
     "name": "stderr",
     "output_type": "stream",
     "text": [
      "c:\\Users\\dama_\\AppData\\Local\\Programs\\Python\\Python311\\Lib\\site-packages\\gradio\\inputs.py:219: UserWarning: Usage of gradio.inputs is deprecated, and will not be supported in the future, please import your component from gradio.components\n",
      "  warnings.warn(\n",
      "c:\\Users\\dama_\\AppData\\Local\\Programs\\Python\\Python311\\Lib\\site-packages\\gradio\\inputs.py:222: UserWarning: `optional` parameter is deprecated, and it has no effect\n",
      "  super().__init__(\n",
      "c:\\Users\\dama_\\AppData\\Local\\Programs\\Python\\Python311\\Lib\\site-packages\\gradio\\outputs.py:22: UserWarning: Usage of gradio.outputs is deprecated, and will not be supported in the future, please import your components from gradio.components\n",
      "  warnings.warn(\n"
     ]
    },
    {
     "name": "stdout",
     "output_type": "stream",
     "text": [
      "Running on local URL:  http://127.0.0.1:7885\n",
      "\n",
      "To create a public link, set `share=True` in `launch()`.\n"
     ]
    },
    {
     "data": {
      "text/html": [
       "<div><iframe src=\"http://127.0.0.1:7885/\" width=\"100%\" height=\"500\" allow=\"autoplay; camera; microphone; clipboard-read; clipboard-write;\" frameborder=\"0\" allowfullscreen></iframe></div>"
      ],
      "text/plain": [
       "<IPython.core.display.HTML object>"
      ]
     },
     "metadata": {},
     "output_type": "display_data"
    },
    {
     "name": "stdout",
     "output_type": "stream",
     "text": [
      "Running on local URL:  http://127.0.0.1:7886\n",
      "\n",
      "To create a public link, set `share=True` in `launch()`.\n"
     ]
    },
    {
     "data": {
      "text/html": [
       "<div><iframe src=\"http://127.0.0.1:7886/\" width=\"100%\" height=\"500\" allow=\"autoplay; camera; microphone; clipboard-read; clipboard-write;\" frameborder=\"0\" allowfullscreen></iframe></div>"
      ],
      "text/plain": [
       "<IPython.core.display.HTML object>"
      ]
     },
     "metadata": {},
     "output_type": "display_data"
    },
    {
     "data": {
      "text/plain": []
     },
     "execution_count": 20,
     "metadata": {},
     "output_type": "execute_result"
    },
    {
     "name": "stdout",
     "output_type": "stream",
     "text": [
      "Fyodor Dostoevsky\n"
     ]
    }
   ],
   "source": [
    "import gradio as gr\n",
    "from transformers import pipeline\n",
    "import Levenshtein\n",
    "\n",
    "# Question Generation Model\n",
    "question_generator = pipeline(\"text2text-generation\", model=\"ManuVleuBeu/T5_ag_SQuAD\")\n",
    "# question_generator = pipeline(\"text2text-generation\", model=\"valhalla/t5-base-qa-qg-hl\")\n",
    "\n",
    "# Answer Generation Model\n",
    "answer_generator = pipeline(\"question-answering\", model=\"damapika/roberta-base_mod_squad\")\n",
    "# TODO: Add all chapter contexts or an extra function where user selects chapter->context\n",
    "contexts = [\n",
    "    \"In the world of literature, there have been many authors who have gained a reputation for their ability to create complex characters. One such author is Fyodor Dostoevsky, a Russian novelist who wrote several influential works in the 19th century.\", \n",
    "    \"My name is Sarah and I live in London.\"\n",
    "]  # Add your contexts to this list\n",
    "selected_context=[None]\n",
    "generated_question=[None]\n",
    "generated_answer=[None]\n",
    "\n",
    "def calculate_similarity(answer1, answer2):\n",
    "    similarity_score = 1 - (Levenshtein.distance(answer1.lower(), answer2.lower()) / max(len(answer1), len(answer2)))\n",
    "    return similarity_score\n",
    "\n",
    "def generate_question(context):\n",
    "    selected_context[0] = context\n",
    "    question = question_generator(context)[0]['generated_text']\n",
    "    question = question.split('?')[0]+'?'\n",
    "    generated_question[0]=question\n",
    "    return question\n",
    "\n",
    "def generate_answer(user_answer):\n",
    "    question = generated_question[0]\n",
    "    context = selected_context[0]\n",
    "    answer = answer_generator(context=context,question=question)\n",
    "    print(answer['answer'])\n",
    "    generated_answer[0] = answer['answer']\n",
    "    score=calculate_similarity(user_answer,generated_answer[0])\n",
    "    return [user_answer,answer['answer'],score]\n",
    "\n",
    "# Interface for QG\n",
    "io1 = gr.Interface(\n",
    "    fn=generate_question,\n",
    "    inputs=[\n",
    "        gr.inputs.Dropdown(choices=contexts, label=\"Select a context\", type=\"value\"),\n",
    "    ],\n",
    "    live=False,\n",
    "    outputs=[\n",
    "        gr.outputs.Textbox(label=\"Generated Question\")\n",
    "    ],\n",
    "    title=\"Quiz Generator\",\n",
    "    description=\"Select a context, generate a question, and compare your answer.\",\n",
    "    allow_flagging=\"never\"\n",
    "\n",
    ")\n",
    "\n",
    "# Additional interface for answer checking\n",
    "io2 = gr.Interface(\n",
    "    fn=generate_answer,\n",
    "    live=False,\n",
    "    inputs=[gr.outputs.Textbox(label=\"User Answer\")],\n",
    "    outputs=[gr.outputs.Textbox(label=\"User Answer\"),gr.outputs.Textbox(label=\"Generated Answer\"),gr.outputs.Textbox(label=\"Levenshtein Answer score\")],\n",
    "    title=\"Answer Checker\",\n",
    "    description=\"Compare your answer.\",\n",
    "        allow_flagging=\"never\"\n",
    "\n",
    ")\n",
    "\n",
    "io1.launch()\n",
    "io2.launch()\n",
    "\n"
   ]
  }
 ],
 "metadata": {
  "kernelspec": {
   "display_name": "Python 3",
   "language": "python",
   "name": "python3"
  },
  "language_info": {
   "codemirror_mode": {
    "name": "ipython",
    "version": 3
   },
   "file_extension": ".py",
   "mimetype": "text/x-python",
   "name": "python",
   "nbconvert_exporter": "python",
   "pygments_lexer": "ipython3",
   "version": "3.11.1"
  },
  "orig_nbformat": 4
 },
 "nbformat": 4,
 "nbformat_minor": 2
}
