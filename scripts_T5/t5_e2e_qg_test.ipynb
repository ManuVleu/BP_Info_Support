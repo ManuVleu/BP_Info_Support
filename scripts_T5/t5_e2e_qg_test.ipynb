{
 "cells": [
  {
   "attachments": {},
   "cell_type": "markdown",
   "metadata": {},
   "source": [
    "Voor installatie gebruik Python 3.9.x . En PyTorch `pip3 install torch torchvision torchaudio --extra-index-url https://download.pytorch.org/whl/cu116`\n",
    "Voor pip packages installeer:\n",
    "- `pip install transformers`"
   ]
  },
  {
   "cell_type": "code",
   "execution_count": 23,
   "metadata": {},
   "outputs": [],
   "source": [
    "import os\n",
    "from transformers import AutoTokenizer, AutoModelForSeq2SeqLM, pipeline\n",
    "import numpy as np\n",
    "import torch"
   ]
  },
  {
   "attachments": {},
   "cell_type": "markdown",
   "metadata": {},
   "source": [
    "Goeie tutorial van hoe je de Hugging Face transformers library gebruikt: https://neptune.ai/blog/hugging-face-pre-trained-models-find-the-best"
   ]
  },
  {
   "cell_type": "code",
   "execution_count": 24,
   "metadata": {},
   "outputs": [],
   "source": [
    "# model van https://huggingface.co/wiselinjayajos/t5-end2end-questions-generation\n",
    "\n",
    "tokenizer = AutoTokenizer.from_pretrained(\"wiselinjayajos/t5-end2end-questions-generation\")# model begrijpt geen strings dus tokenizer zet de input_text en output_text om naar nummers\n",
    "\n",
    "model = AutoModelForSeq2SeqLM.from_pretrained(\"wiselinjayajos/t5-end2end-questions-generation\")# pretrained model"
   ]
  },
  {
   "cell_type": "code",
   "execution_count": 25,
   "metadata": {},
   "outputs": [
    {
     "name": "stdout",
     "output_type": "stream",
     "text": [
      "{'input_ids': [[37, 18861, 19, 8, 14783, 4033, 16, 8, 296, 5, 37, 511, 2015, 4033, 19, 8, 2504, 109, 5, 1]], 'attention_mask': [[1, 1, 1, 1, 1, 1, 1, 1, 1, 1, 1, 1, 1, 1, 1, 1, 1, 1, 1, 1]]}\n"
     ]
    }
   ],
   "source": [
    "# Eerst gebruiken we de tokenizer om de tekst begrijpbaar voor het model te maken\n",
    "text = \"The amazon is the longest river in the world. The second largest river is the Nile.\"\n",
    "tokenized_text = tokenizer([text])\n",
    "print(tokenized_text) # Elke woord krijgt een nummer zoals in innput_ids en attention_mask geeft aan welk woord mag genegeert worden door het model(0=genegeert) en welke niet(1=niet genegeert)"
   ]
  },
  {
   "cell_type": "code",
   "execution_count": 26,
   "metadata": {},
   "outputs": [
    {
     "name": "stdout",
     "output_type": "stream",
     "text": [
      "Voor decoding van tokenizer = [0, 363, 19, 8, 14783, 4033, 16, 8, 296, 58, 32100, 363, 19, 8, 511, 2015, 4033, 16, 8, 296]\n",
      "Na decoding door tokenizer = ['', 'What', 'is', 'the', 'longest', 'river', 'in', 'the', 'world', '?', '', 'What', 'is', 'the', 'second', 'largest', 'river', 'in', 'the', 'world']\n"
     ]
    }
   ],
   "source": [
    "input_ids = torch.tensor(tokenized_text[\"input_ids\"], dtype=torch.long) # Meeste modellen accepteren alleen tensors ipv lists want die zijn efficienter\n",
    "generated_text = model.generate(input_ids=input_ids)[0] # Hier wordt de tekst echt genereert aan de hand van onze getokenized input\n",
    "print(f'Voor decoding van tokenizer = {generated_text.tolist()}')\n",
    "result = tokenizer.batch_decode(generated_text, skip_special_tokens=True)# Tokenizer decode the genereerde tekst\n",
    "print(f'Na decoding door tokenizer = {result}')"
   ]
  }
 ],
 "metadata": {
  "kernelspec": {
   "display_name": "BP_env",
   "language": "python",
   "name": "python3"
  },
  "language_info": {
   "codemirror_mode": {
    "name": "ipython",
    "version": 3
   },
   "file_extension": ".py",
   "mimetype": "text/x-python",
   "name": "python",
   "nbconvert_exporter": "python",
   "pygments_lexer": "ipython3",
   "version": "3.9.7"
  },
  "orig_nbformat": 4,
  "vscode": {
   "interpreter": {
    "hash": "a81d22d60827adc3465e029dd174bf373ad11922adb9f1c771c5b54429cab4bd"
   }
  }
 },
 "nbformat": 4,
 "nbformat_minor": 2
}
