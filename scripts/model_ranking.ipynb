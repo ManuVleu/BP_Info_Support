{
 "cells": [
  {
   "attachments": {},
   "cell_type": "markdown",
   "metadata": {},
   "source": [
    "Voor installatie gebruik Python 3.9.x . En PyTorch `pip3 install torch torchvision torchaudio --extra-index-url https://download.pytorch.org/whl/cu116`\n",
    "Voor pip packages installeer:\n",
    "- `pip install transformers`"
   ]
  },
  {
   "attachments": {},
   "cell_type": "markdown",
   "metadata": {},
   "source": [
    "Goeie tutorial van hoe je de Hugging Face transformers library gebruikt: https://neptune.ai/blog/hugging-face-pre-trained-models-find-the-best"
   ]
  },
  {
   "cell_type": "code",
   "execution_count": 1,
   "metadata": {},
   "outputs": [
    {
     "name": "stderr",
     "output_type": "stream",
     "text": [
      "c:\\Users\\ManuV\\Documents\\Bachelorproef\\BP_env\\lib\\site-packages\\tqdm\\auto.py:22: TqdmWarning: IProgress not found. Please update jupyter and ipywidgets. See https://ipywidgets.readthedocs.io/en/stable/user_install.html\n",
      "  from .autonotebook import tqdm as notebook_tqdm\n"
     ]
    }
   ],
   "source": [
    "import os\n",
    "from transformers import AutoTokenizer, AutoModelForSeq2SeqLM, pipeline\n",
    "import numpy as np\n",
    "import torch\n",
    "import tensorflow as tf"
   ]
  },
  {
   "cell_type": "code",
   "execution_count": 2,
   "metadata": {},
   "outputs": [],
   "source": [
    "models = []\n",
    "tokenizers = []\n",
    "namen = []"
   ]
  },
  {
   "cell_type": "code",
   "execution_count": 3,
   "metadata": {},
   "outputs": [
    {
     "name": "stderr",
     "output_type": "stream",
     "text": [
      "The `xla_device` argument has been deprecated in v4.4.0 of Transformers. It is ignored and you can safely remove it from your `config.json` file.\n",
      "The `xla_device` argument has been deprecated in v4.4.0 of Transformers. It is ignored and you can safely remove it from your `config.json` file.\n",
      "The `xla_device` argument has been deprecated in v4.4.0 of Transformers. It is ignored and you can safely remove it from your `config.json` file.\n",
      "The `xla_device` argument has been deprecated in v4.4.0 of Transformers. It is ignored and you can safely remove it from your `config.json` file.\n"
     ]
    }
   ],
   "source": [
    "# https://huggingface.co/mrm8488/t5-base-finetuned-question-generation-ap\n",
    "# Needs input in format like: \"answer: Mona Lisa context: The Mona Lisa is painted by Leonardo DaVinci.\"\n",
    "token_t5_squad = AutoTokenizer.from_pretrained(\"mrm8488/t5-base-finetuned-question-generation-ap\")\n",
    "\n",
    "t5_squad = AutoModelForSeq2SeqLM.from_pretrained(\"mrm8488/t5-base-finetuned-question-generation-ap\")\n",
    "\n",
    "namen.append('T5 model trained on SQuAD v1.1')\n",
    "models.append(t5_squad)\n",
    "tokenizers.append(token_t5_squad)"
   ]
  },
  {
   "cell_type": "code",
   "execution_count": 4,
   "metadata": {},
   "outputs": [],
   "source": [
    "# model van https://huggingface.co/wiselinjayajos/t5-end2end-questions-generation\n",
    "\n",
    "token_t5_modsquad = AutoTokenizer.from_pretrained(\"wiselinjayajos/t5-end2end-questions-generation\")# model begrijpt geen strings dus tokenizer zet de input_text en output_text om naar nummers\n",
    "\n",
    "t5_modsquad = AutoModelForSeq2SeqLM.from_pretrained(\"wiselinjayajos/t5-end2end-questions-generation\")# pretrained model\n",
    "\n",
    "namen.append('T5 model trained on modified SQuAD')\n",
    "models.append(t5_modsquad)\n",
    "tokenizers.append(token_t5_modsquad)"
   ]
  },
  {
   "cell_type": "code",
   "execution_count": 5,
   "metadata": {},
   "outputs": [],
   "source": [
    "# https://huggingface.co/iarfmoose/t5-base-question-generator\n",
    "\n",
    "token_t5_diff = AutoTokenizer.from_pretrained(\"iarfmoose/t5-base-question-generator\")\n",
    "\n",
    "t5_diff = AutoModelForSeq2SeqLM.from_pretrained(\"iarfmoose/t5-base-question-generator\")\n",
    "\n",
    "namen.append('T5 model trained on SQuAD, CoQA and MSMARCO')\n",
    "models.append(t5_diff)\n",
    "tokenizers.append(token_t5_diff)\n",
    "\n",
    "# Heeft een QA BERT evaluater ook en kan volledige vragen en MCGs genereren. Kan ook opgeven hoeveel vragen moet genereren. "
   ]
  },
  {
   "cell_type": "code",
   "execution_count": 6,
   "metadata": {},
   "outputs": [],
   "source": [
    "token_bart_squad = AutoTokenizer.from_pretrained(\"p208p2002/bart-squad-qg-hl\")\n",
    "\n",
    "bart_squad = AutoModelForSeq2SeqLM.from_pretrained(\"p208p2002/bart-squad-qg-hl\")\n",
    "\n",
    "namen.append('BART model trained on SQuAD')\n",
    "models.append(bart_squad)\n",
    "tokenizers.append(token_bart_squad)"
   ]
  },
  {
   "cell_type": "code",
   "execution_count": 7,
   "metadata": {},
   "outputs": [],
   "source": [
    "token_bart_unknown = AutoTokenizer.from_pretrained(\"kaejo98/bart-base-question-generation\")\n",
    "\n",
    "bart_unknown = AutoModelForSeq2SeqLM.from_pretrained(\"kaejo98/bart-base-question-generation\")\n",
    "\n",
    "namen.append('BART model trained on unknown dataset')\n",
    "models.append(bart_unknown)\n",
    "tokenizers.append(token_bart_unknown)"
   ]
  },
  {
   "cell_type": "code",
   "execution_count": 8,
   "metadata": {},
   "outputs": [],
   "source": [
    "token_bart_eqg = AutoTokenizer.from_pretrained(\"voidful/bart-eqg-question-generator\")\n",
    "\n",
    "bart_eqg = AutoModelForSeq2SeqLM.from_pretrained(\"voidful/bart-eqg-question-generator\")\n",
    "\n",
    "namen.append('BART model trained on RACE-EQG')\n",
    "models.append(bart_eqg)\n",
    "tokenizers.append(token_bart_eqg)"
   ]
  },
  {
   "cell_type": "code",
   "execution_count": 9,
   "metadata": {},
   "outputs": [],
   "source": [
    "token_bart_backtrain = AutoTokenizer.from_pretrained(\"McGill-NLP/bart-qg-mlquestions-backtraining\")\n",
    "\n",
    "bart_backtrain = AutoModelForSeq2SeqLM.from_pretrained(\"McGill-NLP/bart-qg-mlquestions-backtraining\")\n",
    "\n",
    "namen.append('BART model unsupervised trained(MLQuestions) with a method called backtraining')\n",
    "models.append(bart_backtrain)\n",
    "tokenizers.append(token_bart_backtrain)"
   ]
  },
  {
   "cell_type": "code",
   "execution_count": 10,
   "metadata": {},
   "outputs": [
    {
     "name": "stdout",
     "output_type": "stream",
     "text": [
      "T5 model trained on SQuAD v1.1\n",
      "\n",
      "<pad> question : How many people died in Napoleon ic Wars ? </s>\n",
      "\n",
      "T5 model trained on modified SQuAD\n",
      "\n",
      "<pad> Napoleon Bon a part e was  a French military commander and political leader who rose to prominence during\n",
      "\n",
      "T5 model trained on SQuAD, CoQA and MSMARCO\n",
      "\n",
      "<pad> Between three and six million civilian s and soldiers per ished in what became known as the Napoleon ic\n",
      "\n",
      "BART model trained on SQuAD\n",
      "\n",
      "</s> How  many  people  died  in  the  Nap ole onic  Wars ? </s>\n",
      "\n",
      "BART model trained on unknown dataset\n",
      "\n",
      "</s> <s> What  was  Napoleon  Bon ap arte 's  reg n al  name ? </s>\n",
      "\n",
      "BART model trained on RACE-EQG\n",
      "\n",
      "</s> how  many  people  lost  their  lives  in  the  Nap ole onic  Wars ? </s>\n",
      "\n",
      "BART model unsupervised trained(MLQuestions) with a method called backtraining\n",
      "\n",
      "</s> What  is  the  role  of  Bon ap arte  in  the  French  Revolution </s>\n",
      "\n"
     ]
    }
   ],
   "source": [
    "text = \"Napoleon Bonaparte (born Napoleone Buonaparte; 15 August 1769 - 5 May 1821), later known by his regnal name Napoleon I, was a French military commander and political leader who rose to prominence during the French Revolution and led successful campaigns during the Revolutionary Wars. He was the de facto leader of the French Republic as First Consul from 1799 to 1804, then Emperor of the French from 1804 until 1814 and again in 1815. Napoleon's political and cultural legacy endures to this day, as a highly celebrated and controversial leader. He initiated many liberal reforms that have persisted in society, and is considered one of the greatest military commanders in history. His wars and campaigns are studied by militaries all over the world. Between three and six million civilians and soldiers perished in what became known as the Napoleonic Wars.\"\n",
    "text_hl = \"Napoleon Bonaparte (born Napoleone Buonaparte; 15 August 1769 - 5 May 1821), later known by his regnal name Napoleon I, was a French military commander and political leader who rose to prominence during the French Revolution and led successful campaigns during the Revolutionary Wars. He was the de facto leader of the French Republic as First Consul from 1799 to 1804, then Emperor of the French from 1804 until 1814 and again in 1815. Napoleon's political and cultural legacy endures to this day, as a highly celebrated and controversial leader. He initiated many liberal reforms that have persisted in society, and is considered one of the greatest military commanders in history. His wars and campaigns are studied by militaries all over the world. [HL]Between three and six million civilians and soldiers[HL] perished in what became known as the Napoleonic Wars.\"\n",
    "text_answer_context = f\"answer: Between three and six million civilians and soldiers context: {text} </s>\"\n",
    "\n",
    "for naam,model,tokenizer in zip(namen,models,tokenizers):\n",
    "    print(naam)\n",
    "    if naam == 'BART model trained on SQuAD':\n",
    "        text = text_hl\n",
    "    elif naam == 'T5 model trained on SQuAD v1.1':\n",
    "        text = text_answer_context\n",
    "    tokenized_text = tokenizer([text])\n",
    "    input_ids = torch.tensor(tokenized_text[\"input_ids\"], dtype=torch.long)\n",
    "    generated_text = model.generate(input_ids=input_ids,max_length=20)[0]\n",
    "    result_list = tokenizer.batch_decode(generated_text)\n",
    "    result = ' '.join(result_list)\n",
    "    print('\\n'+result+'\\n')\n",
    "    "
   ]
  }
 ],
 "metadata": {
  "kernelspec": {
   "display_name": "BP_env",
   "language": "python",
   "name": "python3"
  },
  "language_info": {
   "codemirror_mode": {
    "name": "ipython",
    "version": 3
   },
   "file_extension": ".py",
   "mimetype": "text/x-python",
   "name": "python",
   "nbconvert_exporter": "python",
   "pygments_lexer": "ipython3",
   "version": "3.9.7"
  },
  "orig_nbformat": 4,
  "vscode": {
   "interpreter": {
    "hash": "a81d22d60827adc3465e029dd174bf373ad11922adb9f1c771c5b54429cab4bd"
   }
  }
 },
 "nbformat": 4,
 "nbformat_minor": 2
}
