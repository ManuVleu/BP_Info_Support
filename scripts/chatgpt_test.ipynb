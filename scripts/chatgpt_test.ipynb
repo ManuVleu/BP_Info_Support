{
 "cells": [
  {
   "attachments": {},
   "cell_type": "markdown",
   "metadata": {},
   "source": [
    "I need to scrape [ChatGPT Playground](https://platform.openai.com/playground) and give a context and extra info(question type?,...) and then scrape the response."
   ]
  }
 ],
 "metadata": {
  "kernelspec": {
   "display_name": "BP_env",
   "language": "python",
   "name": "python3"
  },
  "language_info": {
   "codemirror_mode": {
    "name": "ipython",
    "version": 3
   },
   "file_extension": ".py",
   "mimetype": "text/x-python",
   "name": "python",
   "nbconvert_exporter": "python",
   "pygments_lexer": "ipython3",
   "version": "3.9.7"
  },
  "orig_nbformat": 4,
  "vscode": {
   "interpreter": {
    "hash": "a81d22d60827adc3465e029dd174bf373ad11922adb9f1c771c5b54429cab4bd"
   }
  }
 },
 "nbformat": 4,
 "nbformat_minor": 2
}
